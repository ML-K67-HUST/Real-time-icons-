{
  "nbformat": 4,
  "nbformat_minor": 0,
  "metadata": {
    "colab": {
      "provenance": [],
      "gpuType": "T4"
    },
    "kernelspec": {
      "name": "python3",
      "display_name": "Python 3"
    },
    "language_info": {
      "name": "python"
    },
    "accelerator": "GPU"
  },
  "cells": [
    {
      "cell_type": "markdown",
      "source": [
        "### INSTALLATION"
      ],
      "metadata": {
        "id": "_PKVdnYWPHWl"
      }
    },
    {
      "cell_type": "code",
      "source": [
        "!pip install wandb\n",
        "!pip install scikit-multilearn"
      ],
      "metadata": {
        "colab": {
          "base_uri": "https://localhost:8080/"
        },
        "id": "qPARitKRIeRq",
        "outputId": "5c540dd8-6458-41aa-837f-8f7d40641f6e"
      },
      "execution_count": 1,
      "outputs": [
        {
          "output_type": "stream",
          "name": "stdout",
          "text": [
            "Requirement already satisfied: wandb in /usr/local/lib/python3.10/dist-packages (0.18.7)\n",
            "Requirement already satisfied: click!=8.0.0,>=7.1 in /usr/local/lib/python3.10/dist-packages (from wandb) (8.1.7)\n",
            "Requirement already satisfied: docker-pycreds>=0.4.0 in /usr/local/lib/python3.10/dist-packages (from wandb) (0.4.0)\n",
            "Requirement already satisfied: gitpython!=3.1.29,>=1.0.0 in /usr/local/lib/python3.10/dist-packages (from wandb) (3.1.43)\n",
            "Requirement already satisfied: platformdirs in /usr/local/lib/python3.10/dist-packages (from wandb) (4.3.6)\n",
            "Requirement already satisfied: protobuf!=4.21.0,!=5.28.0,<6,>=3.19.0 in /usr/local/lib/python3.10/dist-packages (from wandb) (4.25.5)\n",
            "Requirement already satisfied: psutil>=5.0.0 in /usr/local/lib/python3.10/dist-packages (from wandb) (5.9.5)\n",
            "Requirement already satisfied: pyyaml in /usr/local/lib/python3.10/dist-packages (from wandb) (6.0.2)\n",
            "Requirement already satisfied: requests<3,>=2.0.0 in /usr/local/lib/python3.10/dist-packages (from wandb) (2.32.3)\n",
            "Requirement already satisfied: sentry-sdk>=2.0.0 in /usr/local/lib/python3.10/dist-packages (from wandb) (2.19.2)\n",
            "Requirement already satisfied: setproctitle in /usr/local/lib/python3.10/dist-packages (from wandb) (1.3.4)\n",
            "Requirement already satisfied: setuptools in /usr/local/lib/python3.10/dist-packages (from wandb) (75.1.0)\n",
            "Requirement already satisfied: typing-extensions<5,>=4.4 in /usr/local/lib/python3.10/dist-packages (from wandb) (4.12.2)\n",
            "Requirement already satisfied: six>=1.4.0 in /usr/local/lib/python3.10/dist-packages (from docker-pycreds>=0.4.0->wandb) (1.17.0)\n",
            "Requirement already satisfied: gitdb<5,>=4.0.1 in /usr/local/lib/python3.10/dist-packages (from gitpython!=3.1.29,>=1.0.0->wandb) (4.0.11)\n",
            "Requirement already satisfied: charset-normalizer<4,>=2 in /usr/local/lib/python3.10/dist-packages (from requests<3,>=2.0.0->wandb) (3.4.0)\n",
            "Requirement already satisfied: idna<4,>=2.5 in /usr/local/lib/python3.10/dist-packages (from requests<3,>=2.0.0->wandb) (3.10)\n",
            "Requirement already satisfied: urllib3<3,>=1.21.1 in /usr/local/lib/python3.10/dist-packages (from requests<3,>=2.0.0->wandb) (2.2.3)\n",
            "Requirement already satisfied: certifi>=2017.4.17 in /usr/local/lib/python3.10/dist-packages (from requests<3,>=2.0.0->wandb) (2024.8.30)\n",
            "Requirement already satisfied: smmap<6,>=3.0.1 in /usr/local/lib/python3.10/dist-packages (from gitdb<5,>=4.0.1->gitpython!=3.1.29,>=1.0.0->wandb) (5.0.1)\n"
          ]
        }
      ]
    },
    {
      "cell_type": "code",
      "source": [
        "!wget https://nlp.stanford.edu/data/glove.6B.zip\n",
        "!unzip glove.6B.zip -d glove.6B/"
      ],
      "metadata": {
        "colab": {
          "base_uri": "https://localhost:8080/"
        },
        "id": "G_BQ6RmJusMt",
        "outputId": "a000aaff-9441-4deb-c5f7-aff90e7417da"
      },
      "execution_count": 60,
      "outputs": [
        {
          "output_type": "stream",
          "name": "stdout",
          "text": [
            "Requirement already satisfied: scikit-multilearn in /usr/local/lib/python3.10/dist-packages (0.2.0)\n",
            "\u001b[31mERROR: Operation cancelled by user\u001b[0m\u001b[31m\n",
            "\u001b[0mRequirement already satisfied: wandb in /usr/local/lib/python3.10/dist-packages (0.18.7)\n",
            "Requirement already satisfied: click!=8.0.0,>=7.1 in /usr/local/lib/python3.10/dist-packages (from wandb) (8.1.7)\n",
            "Requirement already satisfied: docker-pycreds>=0.4.0 in /usr/local/lib/python3.10/dist-packages (from wandb) (0.4.0)\n",
            "Requirement already satisfied: gitpython!=3.1.29,>=1.0.0 in /usr/local/lib/python3.10/dist-packages (from wandb) (3.1.43)\n",
            "Requirement already satisfied: platformdirs in /usr/local/lib/python3.10/dist-packages (from wandb) (4.3.6)\n",
            "Requirement already satisfied: protobuf!=4.21.0,!=5.28.0,<6,>=3.19.0 in /usr/local/lib/python3.10/dist-packages (from wandb) (4.25.5)\n",
            "Requirement already satisfied: psutil>=5.0.0 in /usr/local/lib/python3.10/dist-packages (from wandb) (5.9.5)\n",
            "Requirement already satisfied: pyyaml in /usr/local/lib/python3.10/dist-packages (from wandb) (6.0.2)\n",
            "Requirement already satisfied: requests<3,>=2.0.0 in /usr/local/lib/python3.10/dist-packages (from wandb) (2.32.3)\n",
            "Requirement already satisfied: sentry-sdk>=2.0.0 in /usr/local/lib/python3.10/dist-packages (from wandb) (2.19.2)\n",
            "Requirement already satisfied: setproctitle in /usr/local/lib/python3.10/dist-packages (from wandb) (1.3.4)\n",
            "Requirement already satisfied: setuptools in /usr/local/lib/python3.10/dist-packages (from wandb) (75.1.0)\n",
            "Requirement already satisfied: typing-extensions<5,>=4.4 in /usr/local/lib/python3.10/dist-packages (from wandb) (4.12.2)\n",
            "Requirement already satisfied: six>=1.4.0 in /usr/local/lib/python3.10/dist-packages (from docker-pycreds>=0.4.0->wandb) (1.17.0)\n",
            "Requirement already satisfied: gitdb<5,>=4.0.1 in /usr/local/lib/python3.10/dist-packages (from gitpython!=3.1.29,>=1.0.0->wandb) (4.0.11)\n",
            "Requirement already satisfied: charset-normalizer<4,>=2 in /usr/local/lib/python3.10/dist-packages (from requests<3,>=2.0.0->wandb) (3.4.0)\n",
            "Requirement already satisfied: idna<4,>=2.5 in /usr/local/lib/python3.10/dist-packages (from requests<3,>=2.0.0->wandb) (3.10)\n",
            "Requirement already satisfied: urllib3<3,>=1.21.1 in /usr/local/lib/python3.10/dist-packages (from requests<3,>=2.0.0->wandb) (2.2.3)\n",
            "Requirement already satisfied: certifi>=2017.4.17 in /usr/local/lib/python3.10/dist-packages (from requests<3,>=2.0.0->wandb) (2024.8.30)\n",
            "Requirement already satisfied: smmap<6,>=3.0.1 in /usr/local/lib/python3.10/dist-packages (from gitdb<5,>=4.0.1->gitpython!=3.1.29,>=1.0.0->wandb) (5.0.1)\n",
            "--2024-12-13 03:48:17--  https://nlp.stanford.edu/data/glove.6B.zip\n",
            "Resolving nlp.stanford.edu (nlp.stanford.edu)... 171.64.67.140\n",
            "Connecting to nlp.stanford.edu (nlp.stanford.edu)|171.64.67.140|:443... connected.\n",
            "HTTP request sent, awaiting response... 301 Moved Permanently\n",
            "Location: https://downloads.cs.stanford.edu/nlp/data/glove.6B.zip [following]\n",
            "--2024-12-13 03:48:17--  https://downloads.cs.stanford.edu/nlp/data/glove.6B.zip\n",
            "Resolving downloads.cs.stanford.edu (downloads.cs.stanford.edu)... 171.64.64.22\n",
            "Connecting to downloads.cs.stanford.edu (downloads.cs.stanford.edu)|171.64.64.22|:443... connected.\n",
            "HTTP request sent, awaiting response... 200 OK\n",
            "Length: 862182613 (822M) [application/zip]\n",
            "Saving to: ‘glove.6B.zip.1’\n",
            "\n",
            "glove.6B.zip.1        3%[                    ]  28.12M  17.1MB/s               ^C\n",
            "Archive:  glove.6B.zip\n",
            "replace glove.6B/glove.6B.50d.txt? [y]es, [n]o, [A]ll, [N]one, [r]ename: "
          ]
        }
      ]
    },
    {
      "cell_type": "markdown",
      "source": [
        "### IMPORTING LIBRARIES"
      ],
      "metadata": {
        "id": "EWAmwoVtPQct"
      }
    },
    {
      "cell_type": "code",
      "execution_count": 19,
      "metadata": {
        "id": "d2swvHC-lnlT",
        "colab": {
          "base_uri": "https://localhost:8080/"
        },
        "outputId": "c5bebf07-e2ca-4f69-cefc-1528ce0dc09d"
      },
      "outputs": [
        {
          "output_type": "stream",
          "name": "stderr",
          "text": [
            "[nltk_data] Downloading package reuters to /root/nltk_data...\n",
            "[nltk_data]   Package reuters is already up-to-date!\n",
            "[nltk_data] Downloading package stopwords to /root/nltk_data...\n",
            "[nltk_data]   Package stopwords is already up-to-date!\n",
            "[nltk_data] Downloading package wordnet to /root/nltk_data...\n",
            "[nltk_data]   Package wordnet is already up-to-date!\n"
          ]
        }
      ],
      "source": [
        "import wandb\n",
        "import nltk\n",
        "nltk.download('reuters')\n",
        "nltk.download('stopwords')\n",
        "nltk.download('wordnet')\n",
        "from nltk.corpus import reuters\n",
        "from nltk.corpus import stopwords\n",
        "import pandas as pd\n",
        "import numpy as np\n",
        "from nltk import PorterStemmer, WordNetLemmatizer\n",
        "import re\n",
        "import string\n",
        "import tensorflow as tf\n",
        "from tensorflow.keras.preprocessing.text import Tokenizer\n",
        "from tensorflow.keras.preprocessing.sequence import pad_sequences\n",
        "import numpy as np\n",
        "\n",
        "import torch\n",
        "from torch import optim\n",
        "from torch import nn\n",
        "from torch.nn.utils import clip_grad_norm_\n",
        "\n",
        "from sklearn.metrics import hamming_loss, f1_score\n",
        "from sklearn.preprocessing import MultiLabelBinarizer\n",
        "\n",
        "from tqdm import tqdm\n",
        "from sklearn.model_selection import train_test_split\n",
        "from sklearn.feature_extraction.text import TfidfVectorizer\n",
        "import xgboost as xgb\n",
        "\n",
        "from sklearn import metrics\n",
        "from sklearn.metrics import roc_auc_score, accuracy_score, classification_report\n",
        "\n",
        "import time\n",
        "import matplotlib.pyplot as plt\n",
        "import seaborn as sns\n",
        "from skmultilearn.problem_transform import LabelPowerset\n",
        "from sklearn.multioutput import ClassifierChain\n",
        "import copy\n",
        "from scipy.sparse import csr_matrix\n",
        "from nltk.corpus import stopwords\n",
        "from nltk.stem.snowball import SnowballStemmer\n",
        "import re\n",
        "import sys\n",
        "import warnings\n",
        "import keras\n",
        "from tensorflow.keras.preprocessing.text import Tokenizer\n",
        "from tensorflow.keras.layers import Dense, Input, LSTM, Embedding, Dropout, Activation\n",
        "from tensorflow.keras.layers import Bidirectional, GlobalMaxPool1D\n",
        "from keras.models import Model\n",
        "from keras import initializers, regularizers, constraints, optimizers, layers\n",
        "from gensim.models import Word2Vec\n",
        "import os\n",
        "from typing import Tuple, List\n",
        "from functools import partial\n",
        "\n",
        "from torch.utils.data import Dataset, DataLoader, RandomSampler\n",
        "from torch.nn.utils.rnn import pad_sequence\n",
        "from transformers import BertTokenizer, BertModel, AdamW, get_linear_schedule_with_warmup, BertPreTrainedModel\n",
        "from sklearn.metrics import roc_auc_score\n",
        "\n",
        "\n",
        "if not sys.warnoptions:\n",
        "    warnings.simplefilter(\"ignore\")\n"
      ]
    },
    {
      "cell_type": "markdown",
      "source": [
        "### EDA"
      ],
      "metadata": {
        "id": "lM89KGJRPVEx"
      }
    },
    {
      "cell_type": "code",
      "source": [
        "docs = nltk.corpus.reuters.fileids()\n",
        "labels = [nltk.corpus.reuters.categories(doc) for doc in docs]\n",
        "texts = [nltk.corpus.reuters.raw(doc) for doc in docs]\n",
        "mlb = MultiLabelBinarizer()\n",
        "bin_labels = mlb.fit_transform(labels)\n",
        "label_names = mlb.classes_"
      ],
      "metadata": {
        "id": "cWu2tPrTtCUU"
      },
      "execution_count": 20,
      "outputs": []
    },
    {
      "cell_type": "code",
      "source": [
        "df = pd.DataFrame({'text': texts})\n",
        "for i, label in enumerate(label_names):\n",
        "    df[label] = bin_labels[:, i]\n",
        "\n",
        "print(df.head())\n",
        "labels = df.columns[1:]\n",
        "X_train = df['text']\n",
        "# X_test = test_df['comment_text']\n",
        "y_train = df.iloc[:,1:]"
      ],
      "metadata": {
        "colab": {
          "base_uri": "https://localhost:8080/"
        },
        "id": "aslo0xrAtluf",
        "outputId": "a8b67fdc-1cf3-410a-b9ac-faae51f05dd0"
      },
      "execution_count": 21,
      "outputs": [
        {
          "output_type": "stream",
          "name": "stdout",
          "text": [
            "                                                text  acq  alum  barley  bop  \\\n",
            "0  ASIAN EXPORTERS FEAR DAMAGE FROM U.S.-JAPAN RI...    0     0       0    0   \n",
            "1  CHINA DAILY SAYS VERMIN EAT 7-12 PCT GRAIN STO...    0     0       0    0   \n",
            "2  JAPAN TO REVISE LONG-TERM ENERGY DEMAND DOWNWA...    0     0       0    0   \n",
            "3  THAI TRADE DEFICIT WIDENS IN FIRST QUARTER\\n  ...    0     0       0    0   \n",
            "4  INDONESIA SEES CPO PRICE RISING SHARPLY\\n  Ind...    0     0       0    0   \n",
            "\n",
            "   carcass  castor-oil  cocoa  coconut  coconut-oil  ...  sun-oil  sunseed  \\\n",
            "0        0           0      0        0            0  ...        0        0   \n",
            "1        0           0      0        0            0  ...        0        0   \n",
            "2        0           0      0        0            0  ...        0        0   \n",
            "3        0           0      0        0            0  ...        0        0   \n",
            "4        0           0      0        0            0  ...        0        0   \n",
            "\n",
            "   tea  tin  trade  veg-oil  wheat  wpi  yen  zinc  \n",
            "0    0    0      1        0      0    0    0     0  \n",
            "1    0    0      0        0      0    0    0     0  \n",
            "2    0    0      0        0      0    0    0     0  \n",
            "3    0    1      1        0      0    0    0     0  \n",
            "4    0    0      0        1      0    0    0     0  \n",
            "\n",
            "[5 rows x 91 columns]\n"
          ]
        }
      ]
    },
    {
      "cell_type": "code",
      "source": [
        "stop_words = set(stopwords.words('english'))\n",
        "stop_words.update(['zero','one','two','three','four','five','six','seven','eight','nine','ten','may','also','across','among','beside','however','yet','within'])\n",
        "re_stop_words = re.compile(r\"\\b(\" + \"|\".join(stop_words) + \")\\\\W\", re.I)\n",
        "\n",
        "stemmer = SnowballStemmer(\"english\")\n",
        "\n",
        "def plot_len_of_sentences(text_cols):\n",
        "    comment_len = text_cols.len()\n",
        "\n",
        "    # plot the distribution of comment lengths\n",
        "    plt.figure(figsize=(8,4))\n",
        "    sns.histplot(comment_len, kde=False, bins=50, color=\"red\")\n",
        "    plt.xlabel(\"Comment Length (Number of words)\", fontsize=12)\n",
        "    plt.ylabel(\"Number of Comments\", fontsize=12)\n",
        "    plt.title(\"Distribution of comment Lengths\", fontsize=12)\n",
        "\n",
        "    print(\"Average comment length:\",int(sum(comment_len)/len(comment_len)),\" characters\")\n",
        "\n",
        "def plot_bar_graph(train_df,labels,title):\n",
        "    fig = plt.figure(figsize=(8,6))\n",
        "    ax = fig.add_axes([0,0,1,1])\n",
        "    total_count = []\n",
        "    for label in labels:\n",
        "        total_count.append(len(train_df[train_df[label] == 1]))\n",
        "    ax.bar(labels,total_count, color=['red', 'green', 'blue', 'purple', 'orange', 'yellow'])\n",
        "    for i,data in enumerate(total_count):\n",
        "        plt.text(i-.25,\n",
        "                data/total_count[i]+100,\n",
        "                total_count[i],\n",
        "                fontsize=12)\n",
        "    plt.title(title)\n",
        "    plt.xlabel('Labels')\n",
        "    plt.ylabel('Number of comments')\n",
        "\n",
        "def cleanHtml(sentence):\n",
        "    cleanr = re.compile('<.*?>')\n",
        "    cleantext = re.sub(cleanr, ' ', str(sentence))\n",
        "    return cleantext\n",
        "def cleanPunc(sentence): #function to clean the word of any punctuation or special characters\n",
        "    cleaned = re.sub(r'[?|!|\\'|\"|#]',r'',sentence)\n",
        "    cleaned = re.sub(r'[.|,|)|(|\\|/]',r' ',cleaned)\n",
        "    cleaned = cleaned.strip()\n",
        "    cleaned = cleaned.replace(\"\\n\",\" \")\n",
        "    return cleaned\n",
        "def keepAlpha(sentence):\n",
        "    alpha_sent = \"\"\n",
        "    for word in sentence.split():\n",
        "        alpha_word = re.sub('[^a-z A-Z]+', ' ', word)\n",
        "        alpha_sent += alpha_word\n",
        "        alpha_sent += \" \"\n",
        "    alpha_sent = alpha_sent.strip()\n",
        "    return alpha_sent\n",
        "\n",
        "def removeStopWords(sentence):\n",
        "    global re_stop_words\n",
        "    return re_stop_words.sub(\" \", sentence)\n",
        "\n",
        "def lemmatize(sentence):\n",
        "    lemmatizer = WordNetLemmatizer()\n",
        "    lemSentence = \"\"\n",
        "    for word in sentence.split():\n",
        "        lem = lemmatizer.lemmatize(word)\n",
        "        lemSentence += lem\n",
        "        lemSentence += \" \"\n",
        "    lemSentence = lemSentence.strip()\n",
        "    return lemSentence\n",
        "\n",
        "def preprocess_text(train_df):\n",
        "    train_df['comment_text'] = train_df['comment_text'].str.lower()\n",
        "    train_df['comment_text'] = train_df['comment_text'].apply(cleanHtml)\n",
        "    train_df['comment_text'] = train_df['comment_text'].apply(cleanPunc)\n",
        "    train_df['comment_text'] = train_df['comment_text'].apply(keepAlpha)\n",
        "    train_df['comment_text'] = train_df['comment_text'].apply(removeStopWords)\n",
        "    train_df['comment_text'] = train_df['comment_text'].apply(lemmatize)\n",
        "    return train_df\n",
        "\n",
        "def sample_dataset(train_df):\n",
        "    df = train_df[train_df['clean']==0]\n",
        "    df = pd.concat([df, train_df[train_df['clean'] == 1].sample(frac=1, random_state=200).iloc[:df.shape[0], :]], ignore_index=True)\n",
        "    df = df.sample(frac=1,random_state=200)\n",
        "    return df\n",
        "\n",
        "def create_glove_embedding_matrix(tokenizer, glove_file_path):\n",
        "    glove_embeddings = {}\n",
        "    with open(glove_file_path, 'r', encoding='utf-8') as f:\n",
        "        for line in f:\n",
        "            parts = line.split()\n",
        "            word = parts[0]\n",
        "            vector = np.array(parts[1:], dtype=np.float32)\n",
        "            glove_embeddings[word] = vector\n",
        "\n",
        "    vocab_size = len(tokenizer.index_word) + 1\n",
        "    #File 300 dim expected\n",
        "    embedding_dim = 300\n",
        "    glove_embedding_matrix = torch.zeros(vocab_size, embedding_dim)\n",
        "\n",
        "    unknown_words = 0\n",
        "    for i in range(1, vocab_size):\n",
        "        word = tokenizer.index_word[i]\n",
        "        if word in glove_embeddings.keys():\n",
        "            glove_embedding_matrix[i] = torch.from_numpy(glove_embeddings[word]).float()\n",
        "        else:\n",
        "            unknown_words += 1\n",
        "\n",
        "    print(\"GloVe embedding matrix created!\")\n",
        "    print('Vocabulary size: {}'.format(vocab_size))\n",
        "    print('Total unknown words: {}'.format(unknown_words))\n",
        "\n",
        "    return glove_embeddings, glove_embedding_matrix\n",
        "\n",
        "def create_glove_label_embedding(labels, glove_embeddings):\n",
        "    glove_label_embedding = torch.zeros(len(labels), 300)\n",
        "\n",
        "    for index, label in enumerate(labels):\n",
        "        wrds = label.split('_')\n",
        "        for l in wrds:\n",
        "            if l in glove_embeddings.keys():\n",
        "                glove_label_embedding[index] += torch.from_numpy(glove_embeddings[l])\n",
        "        glove_label_embedding[index] /= len(wrds)\n",
        "\n",
        "    return glove_label_embedding\n",
        "\n",
        "def get_bert_embedding_matrix(tokenizer):\n",
        "    bert_model = BertModel.from_pretrained('bert-base-uncased')\n",
        "    bert_tokenizer = BertTokenizer.from_pretrained('bert-base-uncased')\n",
        "    vocab_size = len(tokenizer.index_word)+1\n",
        "    bert_embedding_matrix = torch.zeros(vocab_size, 768)\n",
        "\n",
        "\n",
        "    tokens_tensor=[]\n",
        "    for i in tqdm(range(1, vocab_size)):\n",
        "        word = tokenizer.index_word[i]\n",
        "        tokens = bert_tokenizer.encode(word,add_special_tokens=False)[0]\n",
        "        tokens_tensor.append(tokens)\n",
        "    batch_size = 512\n",
        "    vocab_batches = [tokens_tensor[i:i+batch_size] for i in range(0, len(tokens_tensor), batch_size)]\n",
        "\n",
        "    with torch.no_grad():\n",
        "      bert_embeddings = []\n",
        "      for i in tqdm(range(len(vocab_batches))):\n",
        "        batch = vocab_batches[i]\n",
        "        inputs = {\n",
        "        'input_ids': torch.tensor([batch]),\n",
        "        'attention_mask': torch.ones(len(batch)).unsqueeze(0)\n",
        "        }\n",
        "        outputs = bert_model(**inputs)\n",
        "        batch_embeddings = outputs[0][0]\n",
        "        bert_embeddings.append(batch_embeddings)\n",
        "\n",
        "    bert_embedding_matrix = torch.cat(bert_embeddings, dim=0)\n",
        "    return bert_embedding_matrix\n",
        "\n",
        "\n",
        "#Build adjacency matrix based on Co-Occurencies label\n",
        "def create_adjacency_matrix_cooccurance(data_label):\n",
        "  cooccur_matrix = np.zeros((data_label.shape[1], data_label.shape[1]), dtype=float)\n",
        "  for y in data_label:\n",
        "      y = list(y)\n",
        "      for i in range(len(y)):\n",
        "          for j in range(len(y)):\n",
        "            #data_label\n",
        "              if y[i] == 1 and y[j] == 1:\n",
        "                  cooccur_matrix[i, j] += 1\n",
        "  row_sums = data_label.sum(axis=0)\n",
        "\n",
        "  for i in range(cooccur_matrix.shape[0]):\n",
        "    for j in range(cooccur_matrix.shape[0]):\n",
        "      if row_sums[i]!=0:\n",
        "        cooccur_matrix[i][j]=cooccur_matrix[i,j]/row_sums[i]\n",
        "      else:\n",
        "        cooccur_matrix[i][j]=cooccur_matrix[i,j]\n",
        "\n",
        "  return cooccur_matrix\n",
        "\n",
        "\n",
        "def check_accuracy(model, label_embedding, X, y):\n",
        "  model.eval()\n",
        "  with torch.no_grad():\n",
        "    out = model(X, label_embedding)\n",
        "    y_pred = torch.sigmoid(out.detach()).round().cpu()\n",
        "    f1score = f1_score(y, y_pred, average='micro')\n",
        "    hammingloss = hamming_loss(y, y_pred)\n",
        "  return hammingloss, f1score\n",
        "\n",
        "class dataset(Dataset):\n",
        "  def __init__(self, x, y):\n",
        "    self.x  = x\n",
        "    self.y = y\n",
        "  def __len__(self):\n",
        "    return len(self.x)\n",
        "\n",
        "  def __getitem__(self, idx):\n",
        "    return self.x[idx], self.y[idx]\n"
      ],
      "metadata": {
        "id": "dJCdz5uxmMGz"
      },
      "execution_count": 22,
      "outputs": []
    },
    {
      "cell_type": "code",
      "source": [
        "df['text'] = df['text'].str.lower()\n",
        "df['text'] = df['text'].apply(cleanHtml)\n",
        "df['text'] = df['text'].apply(cleanPunc)\n",
        "df['text'] = df['text'].apply(keepAlpha)\n",
        "df['text'] = df['text'].apply(removeStopWords)\n",
        "df['text'] = df['text'].apply(lemmatize)\n",
        "\n",
        "df.head()"
      ],
      "metadata": {
        "colab": {
          "base_uri": "https://localhost:8080/",
          "height": 335
        },
        "id": "v_wY_jw_t3rI",
        "outputId": "97511c97-fe05-4586-98d8-4c8372f20bbb"
      },
      "execution_count": 23,
      "outputs": [
        {
          "output_type": "execute_result",
          "data": {
            "text/plain": [
              "                                                text  acq  alum  barley  bop  \\\n",
              "0  asian exporter fear damage u japan rift mounti...    0     0       0    0   \n",
              "1  china daily say vermin eat pct grain stock sur...    0     0       0    0   \n",
              "2  japan revise long term energy demand downwards...    0     0       0    0   \n",
              "3  thai trade deficit widens first quarter thaila...    0     0       0    0   \n",
              "4  indonesia see cpo price rising sharply indones...    0     0       0    0   \n",
              "\n",
              "   carcass  castor-oil  cocoa  coconut  coconut-oil  ...  sun-oil  sunseed  \\\n",
              "0        0           0      0        0            0  ...        0        0   \n",
              "1        0           0      0        0            0  ...        0        0   \n",
              "2        0           0      0        0            0  ...        0        0   \n",
              "3        0           0      0        0            0  ...        0        0   \n",
              "4        0           0      0        0            0  ...        0        0   \n",
              "\n",
              "   tea  tin  trade  veg-oil  wheat  wpi  yen  zinc  \n",
              "0    0    0      1        0      0    0    0     0  \n",
              "1    0    0      0        0      0    0    0     0  \n",
              "2    0    0      0        0      0    0    0     0  \n",
              "3    0    1      1        0      0    0    0     0  \n",
              "4    0    0      0        1      0    0    0     0  \n",
              "\n",
              "[5 rows x 91 columns]"
            ],
            "text/html": [
              "\n",
              "  <div id=\"df-7339abe1-09f2-4e91-b536-25b6222644fe\" class=\"colab-df-container\">\n",
              "    <div>\n",
              "<style scoped>\n",
              "    .dataframe tbody tr th:only-of-type {\n",
              "        vertical-align: middle;\n",
              "    }\n",
              "\n",
              "    .dataframe tbody tr th {\n",
              "        vertical-align: top;\n",
              "    }\n",
              "\n",
              "    .dataframe thead th {\n",
              "        text-align: right;\n",
              "    }\n",
              "</style>\n",
              "<table border=\"1\" class=\"dataframe\">\n",
              "  <thead>\n",
              "    <tr style=\"text-align: right;\">\n",
              "      <th></th>\n",
              "      <th>text</th>\n",
              "      <th>acq</th>\n",
              "      <th>alum</th>\n",
              "      <th>barley</th>\n",
              "      <th>bop</th>\n",
              "      <th>carcass</th>\n",
              "      <th>castor-oil</th>\n",
              "      <th>cocoa</th>\n",
              "      <th>coconut</th>\n",
              "      <th>coconut-oil</th>\n",
              "      <th>...</th>\n",
              "      <th>sun-oil</th>\n",
              "      <th>sunseed</th>\n",
              "      <th>tea</th>\n",
              "      <th>tin</th>\n",
              "      <th>trade</th>\n",
              "      <th>veg-oil</th>\n",
              "      <th>wheat</th>\n",
              "      <th>wpi</th>\n",
              "      <th>yen</th>\n",
              "      <th>zinc</th>\n",
              "    </tr>\n",
              "  </thead>\n",
              "  <tbody>\n",
              "    <tr>\n",
              "      <th>0</th>\n",
              "      <td>asian exporter fear damage u japan rift mounti...</td>\n",
              "      <td>0</td>\n",
              "      <td>0</td>\n",
              "      <td>0</td>\n",
              "      <td>0</td>\n",
              "      <td>0</td>\n",
              "      <td>0</td>\n",
              "      <td>0</td>\n",
              "      <td>0</td>\n",
              "      <td>0</td>\n",
              "      <td>...</td>\n",
              "      <td>0</td>\n",
              "      <td>0</td>\n",
              "      <td>0</td>\n",
              "      <td>0</td>\n",
              "      <td>1</td>\n",
              "      <td>0</td>\n",
              "      <td>0</td>\n",
              "      <td>0</td>\n",
              "      <td>0</td>\n",
              "      <td>0</td>\n",
              "    </tr>\n",
              "    <tr>\n",
              "      <th>1</th>\n",
              "      <td>china daily say vermin eat pct grain stock sur...</td>\n",
              "      <td>0</td>\n",
              "      <td>0</td>\n",
              "      <td>0</td>\n",
              "      <td>0</td>\n",
              "      <td>0</td>\n",
              "      <td>0</td>\n",
              "      <td>0</td>\n",
              "      <td>0</td>\n",
              "      <td>0</td>\n",
              "      <td>...</td>\n",
              "      <td>0</td>\n",
              "      <td>0</td>\n",
              "      <td>0</td>\n",
              "      <td>0</td>\n",
              "      <td>0</td>\n",
              "      <td>0</td>\n",
              "      <td>0</td>\n",
              "      <td>0</td>\n",
              "      <td>0</td>\n",
              "      <td>0</td>\n",
              "    </tr>\n",
              "    <tr>\n",
              "      <th>2</th>\n",
              "      <td>japan revise long term energy demand downwards...</td>\n",
              "      <td>0</td>\n",
              "      <td>0</td>\n",
              "      <td>0</td>\n",
              "      <td>0</td>\n",
              "      <td>0</td>\n",
              "      <td>0</td>\n",
              "      <td>0</td>\n",
              "      <td>0</td>\n",
              "      <td>0</td>\n",
              "      <td>...</td>\n",
              "      <td>0</td>\n",
              "      <td>0</td>\n",
              "      <td>0</td>\n",
              "      <td>0</td>\n",
              "      <td>0</td>\n",
              "      <td>0</td>\n",
              "      <td>0</td>\n",
              "      <td>0</td>\n",
              "      <td>0</td>\n",
              "      <td>0</td>\n",
              "    </tr>\n",
              "    <tr>\n",
              "      <th>3</th>\n",
              "      <td>thai trade deficit widens first quarter thaila...</td>\n",
              "      <td>0</td>\n",
              "      <td>0</td>\n",
              "      <td>0</td>\n",
              "      <td>0</td>\n",
              "      <td>0</td>\n",
              "      <td>0</td>\n",
              "      <td>0</td>\n",
              "      <td>0</td>\n",
              "      <td>0</td>\n",
              "      <td>...</td>\n",
              "      <td>0</td>\n",
              "      <td>0</td>\n",
              "      <td>0</td>\n",
              "      <td>1</td>\n",
              "      <td>1</td>\n",
              "      <td>0</td>\n",
              "      <td>0</td>\n",
              "      <td>0</td>\n",
              "      <td>0</td>\n",
              "      <td>0</td>\n",
              "    </tr>\n",
              "    <tr>\n",
              "      <th>4</th>\n",
              "      <td>indonesia see cpo price rising sharply indones...</td>\n",
              "      <td>0</td>\n",
              "      <td>0</td>\n",
              "      <td>0</td>\n",
              "      <td>0</td>\n",
              "      <td>0</td>\n",
              "      <td>0</td>\n",
              "      <td>0</td>\n",
              "      <td>0</td>\n",
              "      <td>0</td>\n",
              "      <td>...</td>\n",
              "      <td>0</td>\n",
              "      <td>0</td>\n",
              "      <td>0</td>\n",
              "      <td>0</td>\n",
              "      <td>0</td>\n",
              "      <td>1</td>\n",
              "      <td>0</td>\n",
              "      <td>0</td>\n",
              "      <td>0</td>\n",
              "      <td>0</td>\n",
              "    </tr>\n",
              "  </tbody>\n",
              "</table>\n",
              "<p>5 rows × 91 columns</p>\n",
              "</div>\n",
              "    <div class=\"colab-df-buttons\">\n",
              "\n",
              "  <div class=\"colab-df-container\">\n",
              "    <button class=\"colab-df-convert\" onclick=\"convertToInteractive('df-7339abe1-09f2-4e91-b536-25b6222644fe')\"\n",
              "            title=\"Convert this dataframe to an interactive table.\"\n",
              "            style=\"display:none;\">\n",
              "\n",
              "  <svg xmlns=\"http://www.w3.org/2000/svg\" height=\"24px\" viewBox=\"0 -960 960 960\">\n",
              "    <path d=\"M120-120v-720h720v720H120Zm60-500h600v-160H180v160Zm220 220h160v-160H400v160Zm0 220h160v-160H400v160ZM180-400h160v-160H180v160Zm440 0h160v-160H620v160ZM180-180h160v-160H180v160Zm440 0h160v-160H620v160Z\"/>\n",
              "  </svg>\n",
              "    </button>\n",
              "\n",
              "  <style>\n",
              "    .colab-df-container {\n",
              "      display:flex;\n",
              "      gap: 12px;\n",
              "    }\n",
              "\n",
              "    .colab-df-convert {\n",
              "      background-color: #E8F0FE;\n",
              "      border: none;\n",
              "      border-radius: 50%;\n",
              "      cursor: pointer;\n",
              "      display: none;\n",
              "      fill: #1967D2;\n",
              "      height: 32px;\n",
              "      padding: 0 0 0 0;\n",
              "      width: 32px;\n",
              "    }\n",
              "\n",
              "    .colab-df-convert:hover {\n",
              "      background-color: #E2EBFA;\n",
              "      box-shadow: 0px 1px 2px rgba(60, 64, 67, 0.3), 0px 1px 3px 1px rgba(60, 64, 67, 0.15);\n",
              "      fill: #174EA6;\n",
              "    }\n",
              "\n",
              "    .colab-df-buttons div {\n",
              "      margin-bottom: 4px;\n",
              "    }\n",
              "\n",
              "    [theme=dark] .colab-df-convert {\n",
              "      background-color: #3B4455;\n",
              "      fill: #D2E3FC;\n",
              "    }\n",
              "\n",
              "    [theme=dark] .colab-df-convert:hover {\n",
              "      background-color: #434B5C;\n",
              "      box-shadow: 0px 1px 3px 1px rgba(0, 0, 0, 0.15);\n",
              "      filter: drop-shadow(0px 1px 2px rgba(0, 0, 0, 0.3));\n",
              "      fill: #FFFFFF;\n",
              "    }\n",
              "  </style>\n",
              "\n",
              "    <script>\n",
              "      const buttonEl =\n",
              "        document.querySelector('#df-7339abe1-09f2-4e91-b536-25b6222644fe button.colab-df-convert');\n",
              "      buttonEl.style.display =\n",
              "        google.colab.kernel.accessAllowed ? 'block' : 'none';\n",
              "\n",
              "      async function convertToInteractive(key) {\n",
              "        const element = document.querySelector('#df-7339abe1-09f2-4e91-b536-25b6222644fe');\n",
              "        const dataTable =\n",
              "          await google.colab.kernel.invokeFunction('convertToInteractive',\n",
              "                                                    [key], {});\n",
              "        if (!dataTable) return;\n",
              "\n",
              "        const docLinkHtml = 'Like what you see? Visit the ' +\n",
              "          '<a target=\"_blank\" href=https://colab.research.google.com/notebooks/data_table.ipynb>data table notebook</a>'\n",
              "          + ' to learn more about interactive tables.';\n",
              "        element.innerHTML = '';\n",
              "        dataTable['output_type'] = 'display_data';\n",
              "        await google.colab.output.renderOutput(dataTable, element);\n",
              "        const docLink = document.createElement('div');\n",
              "        docLink.innerHTML = docLinkHtml;\n",
              "        element.appendChild(docLink);\n",
              "      }\n",
              "    </script>\n",
              "  </div>\n",
              "\n",
              "\n",
              "<div id=\"df-83d35e81-b751-4569-804a-21742451dbf3\">\n",
              "  <button class=\"colab-df-quickchart\" onclick=\"quickchart('df-83d35e81-b751-4569-804a-21742451dbf3')\"\n",
              "            title=\"Suggest charts\"\n",
              "            style=\"display:none;\">\n",
              "\n",
              "<svg xmlns=\"http://www.w3.org/2000/svg\" height=\"24px\"viewBox=\"0 0 24 24\"\n",
              "     width=\"24px\">\n",
              "    <g>\n",
              "        <path d=\"M19 3H5c-1.1 0-2 .9-2 2v14c0 1.1.9 2 2 2h14c1.1 0 2-.9 2-2V5c0-1.1-.9-2-2-2zM9 17H7v-7h2v7zm4 0h-2V7h2v10zm4 0h-2v-4h2v4z\"/>\n",
              "    </g>\n",
              "</svg>\n",
              "  </button>\n",
              "\n",
              "<style>\n",
              "  .colab-df-quickchart {\n",
              "      --bg-color: #E8F0FE;\n",
              "      --fill-color: #1967D2;\n",
              "      --hover-bg-color: #E2EBFA;\n",
              "      --hover-fill-color: #174EA6;\n",
              "      --disabled-fill-color: #AAA;\n",
              "      --disabled-bg-color: #DDD;\n",
              "  }\n",
              "\n",
              "  [theme=dark] .colab-df-quickchart {\n",
              "      --bg-color: #3B4455;\n",
              "      --fill-color: #D2E3FC;\n",
              "      --hover-bg-color: #434B5C;\n",
              "      --hover-fill-color: #FFFFFF;\n",
              "      --disabled-bg-color: #3B4455;\n",
              "      --disabled-fill-color: #666;\n",
              "  }\n",
              "\n",
              "  .colab-df-quickchart {\n",
              "    background-color: var(--bg-color);\n",
              "    border: none;\n",
              "    border-radius: 50%;\n",
              "    cursor: pointer;\n",
              "    display: none;\n",
              "    fill: var(--fill-color);\n",
              "    height: 32px;\n",
              "    padding: 0;\n",
              "    width: 32px;\n",
              "  }\n",
              "\n",
              "  .colab-df-quickchart:hover {\n",
              "    background-color: var(--hover-bg-color);\n",
              "    box-shadow: 0 1px 2px rgba(60, 64, 67, 0.3), 0 1px 3px 1px rgba(60, 64, 67, 0.15);\n",
              "    fill: var(--button-hover-fill-color);\n",
              "  }\n",
              "\n",
              "  .colab-df-quickchart-complete:disabled,\n",
              "  .colab-df-quickchart-complete:disabled:hover {\n",
              "    background-color: var(--disabled-bg-color);\n",
              "    fill: var(--disabled-fill-color);\n",
              "    box-shadow: none;\n",
              "  }\n",
              "\n",
              "  .colab-df-spinner {\n",
              "    border: 2px solid var(--fill-color);\n",
              "    border-color: transparent;\n",
              "    border-bottom-color: var(--fill-color);\n",
              "    animation:\n",
              "      spin 1s steps(1) infinite;\n",
              "  }\n",
              "\n",
              "  @keyframes spin {\n",
              "    0% {\n",
              "      border-color: transparent;\n",
              "      border-bottom-color: var(--fill-color);\n",
              "      border-left-color: var(--fill-color);\n",
              "    }\n",
              "    20% {\n",
              "      border-color: transparent;\n",
              "      border-left-color: var(--fill-color);\n",
              "      border-top-color: var(--fill-color);\n",
              "    }\n",
              "    30% {\n",
              "      border-color: transparent;\n",
              "      border-left-color: var(--fill-color);\n",
              "      border-top-color: var(--fill-color);\n",
              "      border-right-color: var(--fill-color);\n",
              "    }\n",
              "    40% {\n",
              "      border-color: transparent;\n",
              "      border-right-color: var(--fill-color);\n",
              "      border-top-color: var(--fill-color);\n",
              "    }\n",
              "    60% {\n",
              "      border-color: transparent;\n",
              "      border-right-color: var(--fill-color);\n",
              "    }\n",
              "    80% {\n",
              "      border-color: transparent;\n",
              "      border-right-color: var(--fill-color);\n",
              "      border-bottom-color: var(--fill-color);\n",
              "    }\n",
              "    90% {\n",
              "      border-color: transparent;\n",
              "      border-bottom-color: var(--fill-color);\n",
              "    }\n",
              "  }\n",
              "</style>\n",
              "\n",
              "  <script>\n",
              "    async function quickchart(key) {\n",
              "      const quickchartButtonEl =\n",
              "        document.querySelector('#' + key + ' button');\n",
              "      quickchartButtonEl.disabled = true;  // To prevent multiple clicks.\n",
              "      quickchartButtonEl.classList.add('colab-df-spinner');\n",
              "      try {\n",
              "        const charts = await google.colab.kernel.invokeFunction(\n",
              "            'suggestCharts', [key], {});\n",
              "      } catch (error) {\n",
              "        console.error('Error during call to suggestCharts:', error);\n",
              "      }\n",
              "      quickchartButtonEl.classList.remove('colab-df-spinner');\n",
              "      quickchartButtonEl.classList.add('colab-df-quickchart-complete');\n",
              "    }\n",
              "    (() => {\n",
              "      let quickchartButtonEl =\n",
              "        document.querySelector('#df-83d35e81-b751-4569-804a-21742451dbf3 button');\n",
              "      quickchartButtonEl.style.display =\n",
              "        google.colab.kernel.accessAllowed ? 'block' : 'none';\n",
              "    })();\n",
              "  </script>\n",
              "</div>\n",
              "\n",
              "    </div>\n",
              "  </div>\n"
            ],
            "application/vnd.google.colaboratory.intrinsic+json": {
              "type": "dataframe",
              "variable_name": "df"
            }
          },
          "metadata": {},
          "execution_count": 23
        }
      ]
    },
    {
      "cell_type": "code",
      "source": [
        "# filter the DataFrame to include only numeric columns\n",
        "numeric_df = df.select_dtypes(include=['int', 'float'])\n",
        "# count the number of 1's in each column\n",
        "counts = numeric_df.sum()\n",
        "# create a bar chart of the counts with a larger figure size\n",
        "fig = plt.figure(figsize=(15, 9))\n",
        "counts.plot(kind='bar')\n",
        "# add chart labels\n",
        "plt.title('Counts of 1s in Columns')\n",
        "plt.xlabel('Columns')\n",
        "plt.ylabel('Count')\n",
        "# display the chart\n",
        "plt.show()"
      ],
      "metadata": {
        "colab": {
          "base_uri": "https://localhost:8080/",
          "height": 887
        },
        "id": "i2gY3IgVt8Ut",
        "outputId": "345d1fb4-1705-4d06-9d4a-e9ab1256f25d"
      },
      "execution_count": 24,
      "outputs": [
        {
          "output_type": "display_data",
          "data": {
            "text/plain": [
              "<Figure size 1500x900 with 1 Axes>"
            ],
            "image/png": "[encoded data removed]"
          },
          "metadata": {}
        }
      ]
    },
    {
      "cell_type": "code",
      "source": [
        "X = df['text'].values\n",
        "y = df.iloc[:,1:].values\n",
        "print(X.shape, y.shape)\n",
        "\n",
        "X_train, X_test, y_train, y_test = train_test_split(X, y, test_size=0.2,random_state=200)\n",
        "print(X_train.shape, X_test.shape, y_train.shape, y_test.shape )"
      ],
      "metadata": {
        "colab": {
          "base_uri": "https://localhost:8080/"
        },
        "id": "a-0730hDzUu1",
        "outputId": "db58edc6-72bc-492e-94f1-da0a9163b282"
      },
      "execution_count": 25,
      "outputs": [
        {
          "output_type": "stream",
          "name": "stdout",
          "text": [
            "(10788,) (10788, 90)\n",
            "(8630,) (2158,) (8630, 90) (2158, 90)\n"
          ]
        }
      ]
    },
    {
      "cell_type": "markdown",
      "source": [
        "### MODEL"
      ],
      "metadata": {
        "id": "OOqCnS1uP4Kr"
      }
    },
    {
      "cell_type": "code",
      "source": [
        "def train(model, X_train, label_embedding, y_train,\n",
        "          total_epoch=250, batch_size=250, learning_rate=0.001,\n",
        "          save_path='./model.pt', state=None):\n",
        "\n",
        "    wandb.init(\n",
        "        project=\"magnet-classification\",\n",
        "        config={\n",
        "            \"learning_rate\": learning_rate,\n",
        "            \"batch_size\": batch_size,\n",
        "            \"epochs\": total_epoch,\n",
        "            \"architecture\": \"MAGNET\"\n",
        "        }\n",
        "    )\n",
        "\n",
        "    device = torch.device(\"cuda\" if torch.cuda.is_available() else \"cpu\")\n",
        "    model = model.to(device)\n",
        "    label_embedding = label_embedding.to(device)\n",
        "    criterion = nn.BCEWithLogitsLoss()\n",
        "    optimizer = optim.Adam(model.parameters(), lr=learning_rate)\n",
        "    train_data = DataLoader(dataset(X_train, y_train), batch_size=batch_size)\n",
        "\n",
        "    best_loss = float('inf')\n",
        "    num_increasing_epochs = 0\n",
        "\n",
        "    for epoch in range(1, total_epoch + 1):\n",
        "        running_loss = 0\n",
        "        y_pred = []\n",
        "        epoch_time = 0\n",
        "        model.train()\n",
        "\n",
        "        for index, (X, y) in enumerate(train_data):\n",
        "            optimizer.zero_grad()\n",
        "            out = model(X.to(device), label_embedding)\n",
        "            loss = criterion(out, y.to(device).float())\n",
        "            loss.backward()\n",
        "            nn.utils.clip_grad_norm_(model.parameters(), max_norm=10)\n",
        "            optimizer.step()\n",
        "            y_pred.append(torch.sigmoid(out.detach()).round().cpu())\n",
        "            running_loss += loss.item()\n",
        "\n",
        "        y_pred = torch.vstack(y_pred)\n",
        "        f1score = f1_score(y_train, y_pred, average='micro')\n",
        "        hammingloss = hamming_loss(y_train, y_pred)\n",
        "\n",
        "        wandb.log({\n",
        "            \"epoch\": epoch,\n",
        "            \"loss\": running_loss,\n",
        "            \"hamming_loss\": hammingloss,\n",
        "            \"micro_f1_score\": f1score\n",
        "        })\n",
        "\n",
        "        print(f'epoch:{epoch} loss:{running_loss:.5f} hamming_loss:{hammingloss:.5f} micro_f1score:{f1score:.5f}')\n"
      ],
      "metadata": {
        "id": "9x5UWvoOxyWd"
      },
      "execution_count": 26,
      "outputs": []
    },
    {
      "cell_type": "code",
      "source": [
        "class MAGNET(nn.Module):\n",
        "  def __init__(self, input_size, hidden_size, adjacency, embeddings, heads=4, slope=0.01, dropout=0.5):\n",
        "    super(MAGNET, self).__init__()\n",
        "    self.embedding = nn.Embedding.from_pretrained(embeddings)\n",
        "    self.biLSTM = nn.LSTM(input_size,hidden_size,batch_first=True,bidirectional=True)\n",
        "    self.adjacency = nn.Parameter(adjacency)\n",
        "    self.dropout = nn.Dropout(dropout)\n",
        "    self.edge_weights = nn.Linear(hidden_size*2*2, 1, bias=False)\n",
        "    self.activation = nn.LeakyReLU(slope)\n",
        "    self.softmax = nn.Softmax(dim=1)\n",
        "    self.tanh = nn.Tanh()\n",
        "    self.heads = heads\n",
        "    self.transform_dim1 = nn.Linear(input_size, hidden_size*2, bias=False)\n",
        "    self.transform_dim2 = nn.Linear(hidden_size*2, hidden_size*2, bias=False)\n",
        "    self.transform_dimensions = [self.transform_dim1, self.transform_dim2]\n",
        "\n",
        "  def forward(self, token, label_embedding):\n",
        "      #BILSTM part\n",
        "      features = self.embedding(token)\n",
        "      out, (h, _) = self.biLSTM(features)\n",
        "      embedding = torch.cat([h[-2, :, :], h[-1, :, :]], dim=1)\n",
        "      embedding = self.dropout(embedding)\n",
        "\n",
        "      #GAT PART\n",
        "      for td in self.transform_dimensions: #Two Multiheaded GAT layers\n",
        "        outputs = []\n",
        "        for head in range(self.heads):\n",
        "          label_embed = td(label_embedding)\n",
        "          n, embed_size = label_embed.shape\n",
        "\n",
        "          label_embed_combinations = label_embed.unsqueeze(1).expand(-1, n, -1)\n",
        "          label_embed_combinations = torch.cat([label_embed_combinations, label_embed.unsqueeze(0).expand(n, -1, -1)], dim=2)\n",
        "          e = self.activation(self.edge_weights(label_embed_combinations).squeeze(2))\n",
        "\n",
        "          attention_coefficients = self.tanh(torch.mul(e,self.adjacency))\n",
        "\n",
        "          new_h = torch.matmul(attention_coefficients.to(label_embed.dtype), label_embed)\n",
        "          outputs.append(new_h)\n",
        "        outputs = self.activation(torch.mean(torch.stack(outputs, dim=0),dim=0))\n",
        "\n",
        "        label_embedding = outputs\n",
        "      attention_features = self.dropout(label_embedding)\n",
        "      attention_features = attention_features.transpose(0, 1)\n",
        "      predicted_labels = torch.matmul(embedding, attention_features)\n",
        "      return predicted_labels"
      ],
      "metadata": {
        "id": "wLihiGRwxOmR"
      },
      "execution_count": 27,
      "outputs": []
    },
    {
      "cell_type": "markdown",
      "source": [
        "### TRAINING"
      ],
      "metadata": {
        "id": "zXTh-YGNP_qy"
      }
    },
    {
      "cell_type": "code",
      "source": [
        "tokenizer = Tokenizer(num_words=20000,oov_token='<UNK>')\n",
        "tokenizer.fit_on_texts(X_train)\n",
        "sequences_text_train = tokenizer.texts_to_sequences(X_train)\n",
        "sequences_text_test = tokenizer.texts_to_sequences(X_test)\n",
        "\n",
        "X_train = torch.from_numpy(pad_sequences(sequences_text_train, maxlen=70))\n",
        "X_test = torch.from_numpy(pad_sequences(sequences_text_test, maxlen=70))\n",
        "\n",
        "y_train = torch.from_numpy(y_train)\n",
        "y_test = torch.from_numpy(y_test)\n",
        "\n",
        "print(X_train.shape, X_test.shape, y_train.shape, y_test.shape )\n",
        "print(len(tokenizer.index_word))"
      ],
      "metadata": {
        "colab": {
          "base_uri": "https://localhost:8080/"
        },
        "id": "_zdQS46uBajw",
        "outputId": "3b5a2391-08a5-4056-e7c5-7326b292acaf"
      },
      "execution_count": 28,
      "outputs": [
        {
          "output_type": "stream",
          "name": "stdout",
          "text": [
            "torch.Size([8630, 70]) torch.Size([2158, 70]) torch.Size([8630, 90]) torch.Size([2158, 90])\n",
            "24629\n"
          ]
        }
      ]
    },
    {
      "cell_type": "code",
      "source": [
        "#Load glove embedding\n",
        "glove_embeddings = {}\n",
        "with open('glove.6B/glove.6B.300d.txt', 'r', encoding='utf-8') as f:\n",
        "    for line in f:\n",
        "        parts = line.split()\n",
        "        word = parts[0]\n",
        "        vector = np.array(parts[1:], dtype=np.float32)\n",
        "        glove_embeddings[word] = vector\n",
        "\n",
        "VOCAB_SIZE = len(tokenizer.index_word)+1\n",
        "glove_embedding_matrix = torch.zeros(VOCAB_SIZE, 300)\n",
        "\n",
        "unk = 0\n",
        "for i in range(1, VOCAB_SIZE):\n",
        "  word = tokenizer.index_word[i]\n",
        "  if word in glove_embeddings.keys():\n",
        "    glove_embedding_matrix[i] = torch.from_numpy(glove_embeddings[word]).float()\n",
        "  else:\n",
        "    unk +=1\n",
        "print('VOCAB_SIZE : {}'.format(VOCAB_SIZE))\n",
        "print('TOTAL OF UNKNOWN WORD : {}'.format(unk))"
      ],
      "metadata": {
        "colab": {
          "base_uri": "https://localhost:8080/"
        },
        "id": "wIDBs1828WSY",
        "outputId": "8570c78b-520d-4dac-b678-8f1d62ec63a0"
      },
      "execution_count": 29,
      "outputs": [
        {
          "output_type": "stream",
          "name": "stdout",
          "text": [
            "VOCAB_SIZE : 24630\n",
            "TOTAL OF UNKNOWN WORD : 4664\n"
          ]
        }
      ]
    },
    {
      "cell_type": "code",
      "source": [
        "adj_matrix = create_adjacency_matrix_cooccurance(y_train.numpy())\n",
        "adj_matrix = torch.tensor(adj_matrix)\n",
        "adj_matrix"
      ],
      "metadata": {
        "colab": {
          "base_uri": "https://localhost:8080/"
        },
        "id": "QXFcb54YzEce",
        "outputId": "3a31dfdb-fd05-4a9c-a009-63a8ad473fdf"
      },
      "execution_count": 30,
      "outputs": [
        {
          "output_type": "execute_result",
          "data": {
            "text/plain": [
              "tensor([[1.0000e+00, 5.2910e-04, 0.0000e+00,  ..., 0.0000e+00, 0.0000e+00,\n",
              "         1.0582e-03],\n",
              "        [2.2222e-02, 1.0000e+00, 0.0000e+00,  ..., 0.0000e+00, 0.0000e+00,\n",
              "         2.2222e-02],\n",
              "        [0.0000e+00, 0.0000e+00, 1.0000e+00,  ..., 0.0000e+00, 0.0000e+00,\n",
              "         0.0000e+00],\n",
              "        ...,\n",
              "        [0.0000e+00, 0.0000e+00, 0.0000e+00,  ..., 1.0000e+00, 0.0000e+00,\n",
              "         0.0000e+00],\n",
              "        [0.0000e+00, 0.0000e+00, 0.0000e+00,  ..., 0.0000e+00, 1.0000e+00,\n",
              "         0.0000e+00],\n",
              "        [7.4074e-02, 3.7037e-02, 0.0000e+00,  ..., 0.0000e+00, 0.0000e+00,\n",
              "         1.0000e+00]], dtype=torch.float64)"
            ]
          },
          "metadata": {},
          "execution_count": 30
        }
      ]
    },
    {
      "cell_type": "code",
      "source": [
        "glove_label_embedding = torch.zeros(len(labels),300)\n",
        "\n",
        "for index, label in enumerate(labels):\n",
        "  wrds = label.split('-')\n",
        "  for l in wrds:\n",
        "    if l in glove_embeddings.keys():\n",
        "        glove_label_embedding[index] +=  torch.from_numpy(glove_embeddings[l])\n",
        "  glove_label_embedding[index]=glove_label_embedding[index]/len(wrds)\n",
        "\n",
        "print(glove_label_embedding)"
      ],
      "metadata": {
        "colab": {
          "base_uri": "https://localhost:8080/"
        },
        "id": "AOlVUO8sy5V8",
        "outputId": "5d8216f0-00ed-4983-ac63-8e5a360861bb"
      },
      "execution_count": 31,
      "outputs": [
        {
          "output_type": "stream",
          "name": "stdout",
          "text": [
            "tensor([[ 0.1796, -0.1051, -0.5564,  ..., -0.0633,  0.3732, -0.2873],\n",
            "        [ 0.1101,  0.4061,  0.2036,  ..., -0.1957, -0.4627,  0.6931],\n",
            "        [-0.3568, -0.1348,  0.0790,  ..., -0.0384,  0.2948,  0.1996],\n",
            "        ...,\n",
            "        [-0.1446,  0.0594, -0.1450,  ..., -0.0334,  0.1966,  0.4136],\n",
            "        [-0.5990, -0.3234, -0.2749,  ...,  0.6343,  0.5300,  0.0299],\n",
            "        [-0.4541, -0.1300, -0.5178,  ..., -1.1637, -0.2056, -0.3177]])\n"
          ]
        }
      ]
    },
    {
      "cell_type": "code",
      "source": [
        "save_path = './train_result.pt'"
      ],
      "metadata": {
        "id": "j_dpr0VwJEUF"
      },
      "execution_count": 32,
      "outputs": []
    },
    {
      "cell_type": "code",
      "source": [
        "model = MAGNET(300, 250, adj_matrix, glove_embedding_matrix,heads=8)\n",
        "train(model, X_train, glove_label_embedding,y_train,total_epoch=100, save_path=save_path)"
      ],
      "metadata": {
        "colab": {
          "base_uri": "https://localhost:8080/",
          "height": 1000
        },
        "id": "raUsUOqgzBIe",
        "outputId": "31cece00-f0b9-46e6-d019-ced788959d39"
      },
      "execution_count": 33,
      "outputs": [
        {
          "output_type": "display_data",
          "data": {
            "text/plain": [
              "<IPython.core.display.HTML object>"
            ],
            "text/html": [
              "Finishing last run (ID:deld4ikv) before initializing another..."
            ]
          },
          "metadata": {}
        },
        {
          "output_type": "display_data",
          "data": {
            "text/plain": [
              "<IPython.core.display.HTML object>"
            ],
            "text/html": [
              "\n",
              "    <style>\n",
              "        .wandb-row {\n",
              "            display: flex;\n",
              "            flex-direction: row;\n",
              "            flex-wrap: wrap;\n",
              "            justify-content: flex-start;\n",
              "            width: 100%;\n",
              "        }\n",
              "        .wandb-col {\n",
              "            display: flex;\n",
              "            flex-direction: column;\n",
              "            flex-basis: 100%;\n",
              "            flex: 1;\n",
              "            padding: 10px;\n",
              "        }\n",
              "    </style>\n",
              "<div class=\"wandb-row\"><div class=\"wandb-col\"><h3>Run history:</h3><br/><table class=\"wandb\"><tr><td>epoch</td><td>▁▁▁▁▁▂▂▂▂▂▃▃▃▃▃▃▃▄▄▄▅▅▅▅▅▆▆▆▆▆▆▇▇▇▇█████</td></tr><tr><td>hamming_loss</td><td>█▇▇▆▆▅▅▅▄▄▄▃▃▃▃▃▃▃▂▂▂▂▂▂▂▂▂▂▁▁▁▁▁▁▁▁▁▁▁▁</td></tr><tr><td>loss</td><td>█▃▃▃▂▂▂▂▂▂▂▂▂▂▁▁▁▁▁▁▁▁▁▁▁▁▁▁▁▁▁▁▁▁▁▁▁▁▁▁</td></tr><tr><td>micro_f1_score</td><td>▁▃▃▄▄▅▅▅▅▆▆▆▆▆▆▆▇▇▇▇▇▇▇▇▇███████████████</td></tr></table><br/></div><div class=\"wandb-col\"><h3>Run summary:</h3><br/><table class=\"wandb\"><tr><td>epoch</td><td>100</td></tr><tr><td>hamming_loss</td><td>0.00096</td></tr><tr><td>loss</td><td>0.08944</td></tr><tr><td>micro_f1_score</td><td>0.96514</td></tr></table><br/></div></div>"
            ]
          },
          "metadata": {}
        },
        {
          "output_type": "display_data",
          "data": {
            "text/plain": [
              "<IPython.core.display.HTML object>"
            ],
            "text/html": [
              " View run <strong style=\"color:#cdcd00\">cool-eon-1</strong> at: <a href='https://wandb.ai/quachtuananh1908-hanoi-university-of-science-and-technology/magnet-classification/runs/deld4ikv' target=\"_blank\">https://wandb.ai/quachtuananh1908-hanoi-university-of-science-and-technology/magnet-classification/runs/deld4ikv</a><br/> View project at: <a href='https://wandb.ai/quachtuananh1908-hanoi-university-of-science-and-technology/magnet-classification' target=\"_blank\">https://wandb.ai/quachtuananh1908-hanoi-university-of-science-and-technology/magnet-classification</a><br/>Synced 5 W&B file(s), 0 media file(s), 0 artifact file(s) and 0 other file(s)"
            ]
          },
          "metadata": {}
        },
        {
          "output_type": "display_data",
          "data": {
            "text/plain": [
              "<IPython.core.display.HTML object>"
            ],
            "text/html": [
              "Find logs at: <code>./wandb/run-20241213_035314-deld4ikv/logs</code>"
            ]
          },
          "metadata": {}
        },
        {
          "output_type": "display_data",
          "data": {
            "text/plain": [
              "<IPython.core.display.HTML object>"
            ],
            "text/html": [
              "Successfully finished last run (ID:deld4ikv). Initializing new run:<br/>"
            ]
          },
          "metadata": {}
        },
        {
          "output_type": "display_data",
          "data": {
            "text/plain": [
              "<IPython.core.display.HTML object>"
            ],
            "text/html": [
              "Tracking run with wandb version 0.18.7"
            ]
          },
          "metadata": {}
        },
        {
          "output_type": "display_data",
          "data": {
            "text/plain": [
              "<IPython.core.display.HTML object>"
            ],
            "text/html": [
              "Run data is saved locally in <code>/content/wandb/run-20241213_042631-df6fno4x</code>"
            ]
          },
          "metadata": {}
        },
        {
          "output_type": "display_data",
          "data": {
            "text/plain": [
              "<IPython.core.display.HTML object>"
            ],
            "text/html": [
              "Syncing run <strong><a href='https://wandb.ai/quachtuananh1908-hanoi-university-of-science-and-technology/magnet-classification/runs/df6fno4x' target=\"_blank\">earthy-cosmos-2</a></strong> to <a href='https://wandb.ai/quachtuananh1908-hanoi-university-of-science-and-technology/magnet-classification' target=\"_blank\">Weights & Biases</a> (<a href='https://wandb.me/developer-guide' target=\"_blank\">docs</a>)<br/>"
            ]
          },
          "metadata": {}
        },
        {
          "output_type": "display_data",
          "data": {
            "text/plain": [
              "<IPython.core.display.HTML object>"
            ],
            "text/html": [
              " View project at <a href='https://wandb.ai/quachtuananh1908-hanoi-university-of-science-and-technology/magnet-classification' target=\"_blank\">https://wandb.ai/quachtuananh1908-hanoi-university-of-science-and-technology/magnet-classification</a>"
            ]
          },
          "metadata": {}
        },
        {
          "output_type": "display_data",
          "data": {
            "text/plain": [
              "<IPython.core.display.HTML object>"
            ],
            "text/html": [
              " View run at <a href='https://wandb.ai/quachtuananh1908-hanoi-university-of-science-and-technology/magnet-classification/runs/df6fno4x' target=\"_blank\">https://wandb.ai/quachtuananh1908-hanoi-university-of-science-and-technology/magnet-classification/runs/df6fno4x</a>"
            ]
          },
          "metadata": {}
        },
        {
          "output_type": "stream",
          "name": "stdout",
          "text": [
            "epoch:1 loss:5.80905 hamming_loss:0.02695 micro_f1score:0.02678\n",
            "epoch:2 loss:1.62403 hamming_loss:0.01205 micro_f1score:0.27343\n",
            "epoch:3 loss:1.37418 hamming_loss:0.01036 micro_f1score:0.41219\n",
            "epoch:4 loss:1.25059 hamming_loss:0.01030 micro_f1score:0.42842\n",
            "epoch:5 loss:1.17409 hamming_loss:0.01021 micro_f1score:0.44597\n",
            "epoch:6 loss:1.07930 hamming_loss:0.00986 micro_f1score:0.49412\n",
            "epoch:7 loss:0.95959 hamming_loss:0.00802 micro_f1score:0.62758\n",
            "epoch:8 loss:0.91755 hamming_loss:0.00763 micro_f1score:0.64753\n",
            "epoch:9 loss:0.89148 hamming_loss:0.00746 micro_f1score:0.65893\n",
            "epoch:10 loss:0.84249 hamming_loss:0.00723 micro_f1score:0.67189\n",
            "epoch:11 loss:0.84736 hamming_loss:0.00719 micro_f1score:0.67379\n",
            "epoch:12 loss:0.81002 hamming_loss:0.00712 micro_f1score:0.67758\n",
            "epoch:13 loss:0.78793 hamming_loss:0.00702 micro_f1score:0.68272\n",
            "epoch:14 loss:0.76126 hamming_loss:0.00693 micro_f1score:0.69082\n",
            "epoch:15 loss:0.75253 hamming_loss:0.00695 micro_f1score:0.68940\n",
            "epoch:16 loss:0.72486 hamming_loss:0.00667 micro_f1score:0.70168\n",
            "epoch:17 loss:0.69837 hamming_loss:0.00651 micro_f1score:0.71388\n",
            "epoch:18 loss:0.68512 hamming_loss:0.00645 micro_f1score:0.71883\n",
            "epoch:19 loss:0.65844 hamming_loss:0.00615 micro_f1score:0.73633\n",
            "epoch:20 loss:0.63454 hamming_loss:0.00600 micro_f1score:0.74464\n",
            "epoch:21 loss:0.59207 hamming_loss:0.00569 micro_f1score:0.76066\n",
            "epoch:22 loss:0.57704 hamming_loss:0.00554 micro_f1score:0.76799\n",
            "epoch:23 loss:0.56192 hamming_loss:0.00537 micro_f1score:0.77726\n",
            "epoch:24 loss:0.54593 hamming_loss:0.00541 micro_f1score:0.77549\n",
            "epoch:25 loss:0.51832 hamming_loss:0.00515 micro_f1score:0.78821\n",
            "epoch:26 loss:0.50965 hamming_loss:0.00510 micro_f1score:0.79140\n",
            "epoch:27 loss:0.49346 hamming_loss:0.00494 micro_f1score:0.79885\n",
            "epoch:28 loss:0.46816 hamming_loss:0.00476 micro_f1score:0.80743\n",
            "epoch:29 loss:0.45598 hamming_loss:0.00467 micro_f1score:0.81156\n",
            "epoch:30 loss:0.45041 hamming_loss:0.00459 micro_f1score:0.81686\n",
            "epoch:31 loss:0.43620 hamming_loss:0.00452 micro_f1score:0.82091\n",
            "epoch:32 loss:0.43431 hamming_loss:0.00453 micro_f1score:0.81917\n",
            "epoch:33 loss:0.40699 hamming_loss:0.00421 micro_f1score:0.83359\n",
            "epoch:34 loss:0.39032 hamming_loss:0.00425 micro_f1score:0.83361\n",
            "epoch:35 loss:0.37318 hamming_loss:0.00399 micro_f1score:0.84466\n",
            "epoch:36 loss:0.37018 hamming_loss:0.00395 micro_f1score:0.84620\n",
            "epoch:37 loss:0.36292 hamming_loss:0.00378 micro_f1score:0.85359\n",
            "epoch:38 loss:0.35506 hamming_loss:0.00378 micro_f1score:0.85401\n",
            "epoch:39 loss:0.34265 hamming_loss:0.00365 micro_f1score:0.85949\n",
            "epoch:40 loss:0.33228 hamming_loss:0.00359 micro_f1score:0.86239\n",
            "epoch:41 loss:0.31982 hamming_loss:0.00345 micro_f1score:0.86795\n",
            "epoch:42 loss:0.33592 hamming_loss:0.00360 micro_f1score:0.86255\n",
            "epoch:43 loss:0.31394 hamming_loss:0.00346 micro_f1score:0.86805\n",
            "epoch:44 loss:0.30091 hamming_loss:0.00323 micro_f1score:0.87688\n",
            "epoch:45 loss:0.29207 hamming_loss:0.00320 micro_f1score:0.87877\n",
            "epoch:46 loss:0.28593 hamming_loss:0.00311 micro_f1score:0.88263\n",
            "epoch:47 loss:0.28574 hamming_loss:0.00310 micro_f1score:0.88233\n",
            "epoch:48 loss:0.27844 hamming_loss:0.00298 micro_f1score:0.88766\n",
            "epoch:49 loss:0.26266 hamming_loss:0.00292 micro_f1score:0.89050\n",
            "epoch:50 loss:0.27305 hamming_loss:0.00298 micro_f1score:0.88820\n",
            "epoch:51 loss:0.28526 hamming_loss:0.00301 micro_f1score:0.88669\n",
            "epoch:52 loss:0.25341 hamming_loss:0.00271 micro_f1score:0.89843\n",
            "epoch:53 loss:0.24288 hamming_loss:0.00270 micro_f1score:0.89933\n",
            "epoch:54 loss:0.23172 hamming_loss:0.00260 micro_f1score:0.90328\n",
            "epoch:55 loss:0.23676 hamming_loss:0.00259 micro_f1score:0.90372\n",
            "epoch:56 loss:0.24596 hamming_loss:0.00262 micro_f1score:0.90246\n",
            "epoch:57 loss:0.23845 hamming_loss:0.00258 micro_f1score:0.90414\n",
            "epoch:58 loss:0.23111 hamming_loss:0.00251 micro_f1score:0.90697\n",
            "epoch:59 loss:0.22566 hamming_loss:0.00246 micro_f1score:0.90890\n",
            "epoch:60 loss:0.22243 hamming_loss:0.00241 micro_f1score:0.91071\n",
            "epoch:61 loss:0.21011 hamming_loss:0.00227 micro_f1score:0.91582\n",
            "epoch:62 loss:0.20836 hamming_loss:0.00225 micro_f1score:0.91680\n",
            "epoch:63 loss:0.19287 hamming_loss:0.00210 micro_f1score:0.92243\n",
            "epoch:64 loss:0.19877 hamming_loss:0.00214 micro_f1score:0.92101\n",
            "epoch:65 loss:0.19314 hamming_loss:0.00215 micro_f1score:0.92077\n",
            "epoch:66 loss:0.18852 hamming_loss:0.00204 micro_f1score:0.92521\n",
            "epoch:67 loss:0.17706 hamming_loss:0.00192 micro_f1score:0.92957\n",
            "epoch:68 loss:0.17673 hamming_loss:0.00192 micro_f1score:0.92935\n",
            "epoch:69 loss:0.17465 hamming_loss:0.00192 micro_f1score:0.92940\n",
            "epoch:70 loss:0.17428 hamming_loss:0.00192 micro_f1score:0.92943\n",
            "epoch:71 loss:0.16781 hamming_loss:0.00182 micro_f1score:0.93319\n",
            "epoch:72 loss:0.17855 hamming_loss:0.00193 micro_f1score:0.92938\n",
            "epoch:73 loss:0.18590 hamming_loss:0.00201 micro_f1score:0.92612\n",
            "epoch:74 loss:0.17713 hamming_loss:0.00187 micro_f1score:0.93134\n",
            "epoch:75 loss:0.16584 hamming_loss:0.00180 micro_f1score:0.93414\n",
            "epoch:76 loss:0.16871 hamming_loss:0.00184 micro_f1score:0.93274\n",
            "epoch:77 loss:0.15567 hamming_loss:0.00173 micro_f1score:0.93696\n",
            "epoch:78 loss:0.15193 hamming_loss:0.00164 micro_f1score:0.93982\n",
            "epoch:79 loss:0.15326 hamming_loss:0.00166 micro_f1score:0.93943\n",
            "epoch:80 loss:0.14774 hamming_loss:0.00159 micro_f1score:0.94173\n",
            "epoch:81 loss:0.14052 hamming_loss:0.00156 micro_f1score:0.94286\n",
            "epoch:82 loss:0.14272 hamming_loss:0.00158 micro_f1score:0.94221\n",
            "epoch:83 loss:0.14118 hamming_loss:0.00154 micro_f1score:0.94374\n",
            "epoch:84 loss:0.14840 hamming_loss:0.00162 micro_f1score:0.94064\n",
            "epoch:85 loss:0.14142 hamming_loss:0.00154 micro_f1score:0.94358\n",
            "epoch:86 loss:0.13391 hamming_loss:0.00146 micro_f1score:0.94668\n",
            "epoch:87 loss:0.12848 hamming_loss:0.00139 micro_f1score:0.94937\n",
            "epoch:88 loss:0.13325 hamming_loss:0.00142 micro_f1score:0.94811\n",
            "epoch:89 loss:0.13840 hamming_loss:0.00148 micro_f1score:0.94597\n",
            "epoch:90 loss:0.13199 hamming_loss:0.00144 micro_f1score:0.94741\n",
            "epoch:91 loss:0.13079 hamming_loss:0.00140 micro_f1score:0.94928\n",
            "epoch:92 loss:0.12088 hamming_loss:0.00127 micro_f1score:0.95349\n",
            "epoch:93 loss:0.12745 hamming_loss:0.00138 micro_f1score:0.94973\n",
            "epoch:94 loss:0.11892 hamming_loss:0.00128 micro_f1score:0.95336\n",
            "epoch:95 loss:0.12288 hamming_loss:0.00137 micro_f1score:0.95018\n",
            "epoch:96 loss:0.12080 hamming_loss:0.00131 micro_f1score:0.95213\n",
            "epoch:97 loss:0.11674 hamming_loss:0.00126 micro_f1score:0.95405\n",
            "epoch:98 loss:0.11148 hamming_loss:0.00119 micro_f1score:0.95677\n",
            "epoch:99 loss:0.11691 hamming_loss:0.00132 micro_f1score:0.95183\n",
            "epoch:100 loss:0.11916 hamming_loss:0.00129 micro_f1score:0.95297\n"
          ]
        }
      ]
    },
    {
      "cell_type": "markdown",
      "source": [
        "### EVALUATING\n"
      ],
      "metadata": {
        "id": "w4GC5CNeQEf4"
      }
    },
    {
      "cell_type": "code",
      "source": [
        "def evaluate(model, X_test, label_embedding, y_test, batch_size=250):\n",
        "    device = torch.device(\"cuda\" if torch.cuda.is_available() else \"cpu\")\n",
        "    model.eval()\n",
        "    test_data = DataLoader(dataset(X_test, y_test), batch_size=batch_size)\n",
        "\n",
        "    y_pred = []\n",
        "    test_loss = 0\n",
        "    criterion = nn.BCEWithLogitsLoss()\n",
        "\n",
        "    with torch.no_grad():\n",
        "        for X, y in test_data:\n",
        "            out = model(X.to(device), label_embedding.to(device))\n",
        "            loss = criterion(out, y.to(device).float())\n",
        "            test_loss += loss.item()\n",
        "            y_pred.append(torch.sigmoid(out).round().cpu())\n",
        "\n",
        "    y_pred = torch.vstack(y_pred)\n",
        "\n",
        "    # Calculate metrics\n",
        "    f1_micro = f1_score(y_test, y_pred, average='micro')\n",
        "    hammingloss = hamming_loss(y_test, y_pred)\n",
        "\n",
        "    print(f\"Test Results:\")\n",
        "    print(f\"Loss: {test_loss:.5f}\")\n",
        "    print(f\"Micro F1: {f1_micro:.5f}\")\n",
        "    print(f\"Hamming Loss: {hammingloss:.5f}\")\n",
        "\n",
        "    return y_pred, test_loss\n",
        "\n",
        "# Usage:\n",
        "# First load your saved model if necessary\n",
        "# model.load_state_dict(torch.load(save_path))\n",
        "predictions, test_loss = evaluate(model, X_test, glove_label_embedding, y_test)"
      ],
      "metadata": {
        "colab": {
          "base_uri": "https://localhost:8080/"
        },
        "id": "5UwdjQBlLm5W",
        "outputId": "2e125f8a-7b12-47cb-abef-2599605b307c"
      },
      "execution_count": 34,
      "outputs": [
        {
          "output_type": "stream",
          "name": "stdout",
          "text": [
            "Test Results:\n",
            "Loss: 0.36823\n",
            "Micro F1: 0.84394\n",
            "Hamming Loss: 0.00402\n"
          ]
        }
      ]
    }
  ]
}