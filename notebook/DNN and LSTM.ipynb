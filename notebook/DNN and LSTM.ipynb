{
 "cells": [
  {
   "cell_type": "markdown",
   "metadata": {},
   "source": [
    "## Import required packages"
   ]
  },
  {
   "cell_type": "code",
   "execution_count": 15,
   "metadata": {
    "_cell_guid": "b1076dfc-b9ad-4769-8c92-a6c4dae69d19",
    "_uuid": "8f2839f25d086af736a60e9eeb907d3b93b6e0e5",
    "execution": {
     "iopub.execute_input": "2024-12-14T14:27:39.018830Z",
     "iopub.status.busy": "2024-12-14T14:27:39.018615Z",
     "iopub.status.idle": "2024-12-14T14:27:46.150332Z",
     "shell.execute_reply": "2024-12-14T14:27:46.149683Z",
     "shell.execute_reply.started": "2024-12-14T14:27:39.018792Z"
    },
    "trusted": true
   },
   "outputs": [
    {
     "name": "stderr",
     "output_type": "stream",
     "text": [
      "[nltk_data] Downloading package wordnet to\n",
      "[nltk_data]     C:\\Users\\DELL\\AppData\\Roaming\\nltk_data...\n",
      "[nltk_data]   Package wordnet is already up-to-date!\n",
      "[nltk_data] Downloading package reuters to\n",
      "[nltk_data]     C:\\Users\\DELL\\AppData\\Roaming\\nltk_data...\n",
      "[nltk_data]   Package reuters is already up-to-date!\n"
     ]
    }
   ],
   "source": [
    "from nltk.corpus import reuters\n",
    "import nltk\n",
    "nltk.download('wordnet')\n",
    "nltk.download('reuters')\n",
    "import pandas as pd\n",
    "from nltk.stem import WordNetLemmatizer\n",
    "from nltk.stem.porter import PorterStemmer\n",
    "import numpy as np\n",
    "from sklearn.model_selection import train_test_split\n",
    "import matplotlib.pyplot as plt\n",
    "from yellowbrick.text import TSNEVisualizer\n",
    "import warnings\n",
    "warnings.filterwarnings(\"ignore\")\n",
    "import torch\n",
    "from torch import nn, optim\n",
    "import pickle"
   ]
  },
  {
   "cell_type": "code",
   "execution_count": 16,
   "metadata": {
    "_cell_guid": "79c7e3d0-c299-4dcb-8224-4455121ee9b0",
    "_uuid": "d629ff2d2480ee46fbb7e2d37f6b5fab8052498a",
    "execution": {
     "iopub.execute_input": "2024-12-14T14:27:51.541864Z",
     "iopub.status.busy": "2024-12-14T14:27:51.541547Z",
     "iopub.status.idle": "2024-12-14T14:27:53.822163Z",
     "shell.execute_reply": "2024-12-14T14:27:53.821436Z",
     "shell.execute_reply.started": "2024-12-14T14:27:51.541812Z"
    },
    "trusted": true
   },
   "outputs": [
    {
     "name": "stdout",
     "output_type": "stream",
     "text": [
      "Number of training documents: 7769\n",
      "Number of testing documents: 3019\n",
      "BAHIA COCOA REVIEW\n",
      "  Showers continued throughout the week in\n",
      "  the Bahia cocoa zone, alleviating the drought since early\n",
      "  January and improving prospects for the coming temporao,\n",
      "  although normal humidity levels have not been restored,\n",
      "  Comissaria Smith said in its weekly review.\n",
      "      The dry period means the temporao will be late this year.\n",
      "      Arrivals for the week ended February 22 were 155,221 bags\n",
      "  of 60 kilos making a cumulative total for the season of 5.93\n",
      "  mln against 5.81 at the same stage last year. Again it seems\n",
      "  that cocoa delivered earlier on consignment was included in the\n",
      "  arrivals figures.\n",
      "      Comissaria Smith said there is still some doubt as to how\n",
      "  much old crop cocoa is still available as harvesting has\n",
      "  practically come to an end. With total Bahia crop estimates\n",
      "  around 6.4 mln bags and sales standing at almost 6.2 mln there\n",
      "  are a few hundred thousand bags still in the hands of farmers,\n",
      "  middlemen, exporters and processors.\n",
      "      There are doubts as to how much of this cocoa would be fit\n",
      "  for export as shippers are now experiencing dificulties in\n",
      "  obtaining +Bahia superior+ certificates.\n",
      "      In view of the lower quality over recent weeks farmers have\n",
      "  sold a good part of their cocoa held on consignment.\n",
      "      Comissaria Smith said spot bean prices rose to 340 to 350\n",
      "  cruzados per arroba of 15 kilos.\n",
      "      Bean shippers were reluctant to offer nearby shipment and\n",
      "  only limited sales were booked for March shipment at 1,750 to\n",
      "  1,780 dlrs per tonne to ports to be named.\n",
      "      New crop sales were also light and all to open ports with\n",
      "  June/July going at 1,850 and 1,880 dlrs and at 35 and 45 dlrs\n",
      "  under New York july, Aug/Sept at 1,870, 1,875 and 1,880 dlrs\n",
      "  per tonne FOB.\n",
      "      Routine sales of butter were made. March/April sold at\n",
      "  4,340, 4,345 and 4,350 dlrs.\n",
      "      April/May butter went at 2.27 times New York May, June/July\n",
      "  at 4,400 and 4,415 dlrs, Aug/Sept at 4,351 to 4,450 dlrs and at\n",
      "  2.27 and 2.28 times New York Sept and Oct/Dec at 4,480 dlrs and\n",
      "  2.27 times New York Dec, Comissaria Smith said.\n",
      "      Destinations were the U.S., Covertible currency areas,\n",
      "  Uruguay and open ports.\n",
      "      Cake sales were registered at 785 to 995 dlrs for\n",
      "  March/April, 785 dlrs for May, 753 dlrs for Aug and 0.39 times\n",
      "  New York Dec for Oct/Dec.\n",
      "      Buyers were the U.S., Argentina, Uruguay and convertible\n",
      "  currency areas.\n",
      "      Liquor sales were limited with March/April selling at 2,325\n",
      "  and 2,380 dlrs, June/July at 2,375 dlrs and at 1.25 times New\n",
      "  York July, Aug/Sept at 2,400 dlrs and at 1.25 times New York\n",
      "  Sept and Oct/Dec at 1.25 times New York Dec, Comissaria Smith\n",
      "  said.\n",
      "      Total Bahia sales are currently estimated at 6.13 mln bags\n",
      "  against the 1986/87 crop and 1.06 mln bags against the 1987/88\n",
      "  crop.\n",
      "      Final figures for the period to February 28 are expected to\n",
      "  be published by the Brazilian Cocoa Trade Commission after\n",
      "  carnival which ends midday on February 27.\n",
      "  \n",
      "\n",
      "\n",
      "['cocoa']\n"
     ]
    }
   ],
   "source": [
    "train_documents, train_categories = zip(*[(reuters.raw(i), reuters.categories(i)) for i in reuters.fileids() if i.startswith('training/')])\n",
    "test_documents, test_categories = zip(*[(reuters.raw(i), reuters.categories(i)) for i in reuters.fileids() if i.startswith('test/')])\n",
    "print(\"Number of training documents:\", len(train_documents))\n",
    "print(\"Number of testing documents:\", len(test_documents))\n",
    "print(train_documents[0])\n",
    "print(train_categories[0])"
   ]
  },
  {
   "cell_type": "code",
   "execution_count": 17,
   "metadata": {},
   "outputs": [
    {
     "name": "stdout",
     "output_type": "stream",
     "text": [
      "BAHIA COCOA REVIEW\n",
      "  Showers continued throughout the week in\n",
      "  the Bahia cocoa zone, alleviating the drought since early\n",
      "  January and improving prospects for the coming temporao,\n",
      "  although normal humidity levels have not been restored,\n",
      "  Comissaria Smith said in its weekly review.\n",
      "      The dry period means the temporao will be late this year.\n",
      "      Arrivals for the week ended February 22 were 155,221 bags\n",
      "  of 60 kilos making a cumulative total for the season of 5.93\n",
      "  mln against 5.81 at the same stage last year. Again it seems\n",
      "  that cocoa delivered earlier on consignment was included in the\n",
      "  arrivals figures.\n",
      "      Comissaria Smith said there is still some doubt as to how\n",
      "  much old crop cocoa is still available as harvesting has\n",
      "  practically come to an end. With total Bahia crop estimates\n",
      "  around 6.4 mln bags and sales standing at almost 6.2 mln there\n",
      "  are a few hundred thousand bags still in the hands of farmers,\n",
      "  middlemen, exporters and processors.\n",
      "      There are doubts as to how much of this cocoa would be fit\n",
      "  for export as shippers are now experiencing dificulties in\n",
      "  obtaining +Bahia superior+ certificates.\n",
      "      In view of the lower quality over recent weeks farmers have\n",
      "  sold a good part of their cocoa held on consignment.\n",
      "      Comissaria Smith said spot bean prices rose to 340 to 350\n",
      "  cruzados per arroba of 15 kilos.\n",
      "      Bean shippers were reluctant to offer nearby shipment and\n",
      "  only limited sales were booked for March shipment at 1,750 to\n",
      "  1,780 dlrs per tonne to ports to be named.\n",
      "      New crop sales were also light and all to open ports with\n",
      "  June/July going at 1,850 and 1,880 dlrs and at 35 and 45 dlrs\n",
      "  under New York july, Aug/Sept at 1,870, 1,875 and 1,880 dlrs\n",
      "  per tonne FOB.\n",
      "      Routine sales of butter were made. March/April sold at\n",
      "  4,340, 4,345 and 4,350 dlrs.\n",
      "      April/May butter went at 2.27 times New York May, June/July\n",
      "  at 4,400 and 4,415 dlrs, Aug/Sept at 4,351 to 4,450 dlrs and at\n",
      "  2.27 and 2.28 times New York Sept and Oct/Dec at 4,480 dlrs and\n",
      "  2.27 times New York Dec, Comissaria Smith said.\n",
      "      Destinations were the U.S., Covertible currency areas,\n",
      "  Uruguay and open ports.\n",
      "      Cake sales were registered at 785 to 995 dlrs for\n",
      "  March/April, 785 dlrs for May, 753 dlrs for Aug and 0.39 times\n",
      "  New York Dec for Oct/Dec.\n",
      "      Buyers were the U.S., Argentina, Uruguay and convertible\n",
      "  currency areas.\n",
      "      Liquor sales were limited with March/April selling at 2,325\n",
      "  and 2,380 dlrs, June/July at 2,375 dlrs and at 1.25 times New\n",
      "  York July, Aug/Sept at 2,400 dlrs and at 1.25 times New York\n",
      "  Sept and Oct/Dec at 1.25 times New York Dec, Comissaria Smith\n",
      "  said.\n",
      "      Total Bahia sales are currently estimated at 6.13 mln bags\n",
      "  against the 1986/87 crop and 1.06 mln bags against the 1987/88\n",
      "  crop.\n",
      "      Final figures for the period to February 28 are expected to\n",
      "  be published by the Brazilian Cocoa Trade Commission after\n",
      "  carnival which ends midday on February 27.\n",
      "  \n",
      "\n",
      "\n"
     ]
    }
   ],
   "source": [
    "print(train_documents[0])"
   ]
  },
  {
   "cell_type": "code",
   "execution_count": 18,
   "metadata": {
    "execution": {
     "iopub.execute_input": "2024-12-14T14:27:59.466190Z",
     "iopub.status.busy": "2024-12-14T14:27:59.465897Z",
     "iopub.status.idle": "2024-12-14T14:27:59.472872Z",
     "shell.execute_reply": "2024-12-14T14:27:59.472206Z",
     "shell.execute_reply.started": "2024-12-14T14:27:59.466137Z"
    },
    "trusted": true
   },
   "outputs": [
    {
     "name": "stdout",
     "output_type": "stream",
     "text": [
      "90\n"
     ]
    }
   ],
   "source": [
    "s = set()\n",
    "for i in train_categories:\n",
    "        for j in i:\n",
    "            s.add(j)\n",
    "print(len(s))"
   ]
  },
  {
   "cell_type": "markdown",
   "metadata": {},
   "source": [
    "# Convert the categorical labels to Multi Label Encodings"
   ]
  },
  {
   "cell_type": "code",
   "execution_count": 19,
   "metadata": {
    "execution": {
     "iopub.execute_input": "2024-12-14T14:28:02.958692Z",
     "iopub.status.busy": "2024-12-14T14:28:02.958403Z",
     "iopub.status.idle": "2024-12-14T14:28:03.149039Z",
     "shell.execute_reply": "2024-12-14T14:28:03.148366Z",
     "shell.execute_reply.started": "2024-12-14T14:28:02.958639Z"
    },
    "trusted": true
   },
   "outputs": [
    {
     "data": {
      "text/plain": [
       "array([[0, 0, 0, ..., 0, 0, 0],\n",
       "       [1, 0, 0, ..., 0, 0, 0],\n",
       "       [0, 0, 0, ..., 0, 0, 0],\n",
       "       ...,\n",
       "       [0, 0, 0, ..., 0, 0, 0],\n",
       "       [0, 0, 0, ..., 0, 0, 0],\n",
       "       [0, 0, 0, ..., 0, 0, 0]])"
      ]
     },
     "execution_count": 19,
     "metadata": {},
     "output_type": "execute_result"
    }
   ],
   "source": [
    "from sklearn.preprocessing import MultiLabelBinarizer\n",
    "\n",
    "mlb = MultiLabelBinarizer()\n",
    "train_labels = mlb.fit_transform(train_categories)\n",
    "test_labels = mlb.transform(test_categories)\n",
    "list_trainlabels = []\n",
    "list_testlabels = []\n",
    "for i in train_labels:\n",
    "    list_trainlabels.append(list(i))\n",
    "for i in test_labels:\n",
    "    list_testlabels.append(list(i))\n",
    "train_labels"
   ]
  },
  {
   "cell_type": "code",
   "execution_count": 5,
   "metadata": {
    "execution": {
     "iopub.execute_input": "2024-12-14T14:28:08.620925Z",
     "iopub.status.busy": "2024-12-14T14:28:08.620586Z",
     "iopub.status.idle": "2024-12-14T14:28:08.625283Z",
     "shell.execute_reply": "2024-12-14T14:28:08.624231Z",
     "shell.execute_reply.started": "2024-12-14T14:28:08.620871Z"
    },
    "trusted": true
   },
   "outputs": [],
   "source": [
    "with open('multilable.pkl', 'wb') as file:\n",
    "    pickle.dump(mlb, file)"
   ]
  },
  {
   "cell_type": "markdown",
   "metadata": {},
   "source": [
    "## Creating Dataframe for applying transformations"
   ]
  },
  {
   "cell_type": "code",
   "execution_count": 20,
   "metadata": {
    "execution": {
     "iopub.execute_input": "2024-12-14T14:28:15.460496Z",
     "iopub.status.busy": "2024-12-14T14:28:15.460085Z",
     "iopub.status.idle": "2024-12-14T14:28:15.479902Z",
     "shell.execute_reply": "2024-12-14T14:28:15.479213Z",
     "shell.execute_reply.started": "2024-12-14T14:28:15.460440Z"
    },
    "trusted": true
   },
   "outputs": [],
   "source": [
    "trainData = {\"content\": train_documents}\n",
    "testData = {\"content\": test_documents}\n",
    "trainDf = pd.DataFrame(trainData, columns=[\"content\"])\n",
    "testDf = pd.DataFrame(testData, columns=[\"content\"])"
   ]
  },
  {
   "cell_type": "markdown",
   "metadata": {},
   "source": [
    "# Pre-process the input data"
   ]
  },
  {
   "cell_type": "code",
   "execution_count": 21,
   "metadata": {
    "execution": {
     "iopub.execute_input": "2024-12-14T14:28:18.296063Z",
     "iopub.status.busy": "2024-12-14T14:28:18.295819Z",
     "iopub.status.idle": "2024-12-14T14:28:18.312215Z",
     "shell.execute_reply": "2024-12-14T14:28:18.311661Z",
     "shell.execute_reply.started": "2024-12-14T14:28:18.296028Z"
    },
    "trusted": true
   },
   "outputs": [],
   "source": [
    "wordnet_lemmatizer = WordNetLemmatizer()\n",
    "stemmer = PorterStemmer()\n",
    "stopwords = set(w.rstrip() for w in open(\"./reuters/stopwords\"))\n",
    "\n",
    "def tokenize_lemma_stopwords(text):\n",
    "    text = text.replace(\"\\n\", \" \")\n",
    "    tokens = nltk.tokenize.word_tokenize(text.lower()) # split string into words (tokens)\n",
    "    tokens = [t for t in tokens if t.isalpha()] # keep strings with only alphabets\n",
    "    tokens = [wordnet_lemmatizer.lemmatize(t) for t in tokens] # put words into base form\n",
    "    tokens = [stemmer.stem(t) for t in tokens]\n",
    "    tokens = [t for t in tokens if len(t) > 2] # remove short words, they're probably not useful\n",
    "    tokens = [t for t in tokens if t not in stopwords] # remove stopwords\n",
    "    cleanedText = \" \".join(tokens)\n",
    "    return cleanedText\n",
    "\n",
    "def dataCleaning(df):\n",
    "    data = df.copy()\n",
    "    data[\"content\"] = data[\"content\"].apply(tokenize_lemma_stopwords)\n",
    "    return data"
   ]
  },
  {
   "cell_type": "code",
   "execution_count": 22,
   "metadata": {},
   "outputs": [
    {
     "name": "stderr",
     "output_type": "stream",
     "text": [
      "[nltk_data] Downloading package punkt_tab to\n",
      "[nltk_data]     C:\\Users\\DELL\\AppData\\Roaming\\nltk_data...\n",
      "[nltk_data]   Package punkt_tab is already up-to-date!\n"
     ]
    },
    {
     "data": {
      "text/plain": [
       "True"
      ]
     },
     "execution_count": 22,
     "metadata": {},
     "output_type": "execute_result"
    }
   ],
   "source": [
    "nltk.download('punkt_tab')"
   ]
  },
  {
   "cell_type": "code",
   "execution_count": 23,
   "metadata": {
    "execution": {
     "iopub.execute_input": "2024-12-14T14:28:21.958690Z",
     "iopub.status.busy": "2024-12-14T14:28:21.958434Z",
     "iopub.status.idle": "2024-12-14T14:28:57.344703Z",
     "shell.execute_reply": "2024-12-14T14:28:57.344080Z",
     "shell.execute_reply.started": "2024-12-14T14:28:21.958653Z"
    },
    "trusted": true
   },
   "outputs": [],
   "source": [
    "cleanedTrainData = dataCleaning(trainDf)\n",
    "cleanedTestData = dataCleaning(testDf)"
   ]
  },
  {
   "cell_type": "code",
   "execution_count": 24,
   "metadata": {
    "execution": {
     "iopub.execute_input": "2024-12-14T14:29:01.613973Z",
     "iopub.status.busy": "2024-12-14T14:29:01.613724Z",
     "iopub.status.idle": "2024-12-14T14:29:01.618637Z",
     "shell.execute_reply": "2024-12-14T14:29:01.618017Z",
     "shell.execute_reply.started": "2024-12-14T14:29:01.613937Z"
    },
    "trusted": true
   },
   "outputs": [
    {
     "data": {
      "text/plain": [
       "'bahia cocoa review shower continu week bahia cocoa zone allevi drought sinc earli januari improv prospect temporao normal humid level restor comissaria smith weekli review dri period temporao late thi year arriv week end februari bag kilo make cumul total season mln stage year cocoa deliv earlier consign includ arriv figur comissaria smith doubt crop cocoa avail harvest practic end total bahia crop estim mln bag sale stand mln hundr thousand bag hand farmer middleman export processor doubt thi cocoa fit export shipper experienc dificulti obtain certif view lower qualiti recent week farmer sold good part cocoa held consign comissaria smith spot bean price rose cruzado arroba kilo bean shipper reluct offer nearbi shipment onli limit sale book march shipment dlr tonn port crop sale light open port dlr dlr york juli dlr tonn fob routin sale butter made sold dlr butter time york dlr dlr time york sept dlr time york dec comissaria smith destin covert currenc area uruguay open port cake sale regist dlr dlr dlr aug time york dec buyer argentina uruguay convert currenc area liquor sale limit sell dlr dlr time york juli dlr time york sept time york dec comissaria smith total bahia sale current estim mln bag crop mln bag crop final figur period februari expect publish brazilian cocoa trade commiss carniv end midday februari'"
      ]
     },
     "execution_count": 24,
     "metadata": {},
     "output_type": "execute_result"
    }
   ],
   "source": [
    "cleanedTrainData['content'][0]"
   ]
  },
  {
   "cell_type": "markdown",
   "metadata": {},
   "source": [
    "# Create TF-IDF Vectorizer"
   ]
  },
  {
   "cell_type": "code",
   "execution_count": 25,
   "metadata": {
    "execution": {
     "iopub.execute_input": "2024-12-14T14:29:04.709666Z",
     "iopub.status.busy": "2024-12-14T14:29:04.709411Z",
     "iopub.status.idle": "2024-12-14T14:29:05.389234Z",
     "shell.execute_reply": "2024-12-14T14:29:05.388655Z",
     "shell.execute_reply.started": "2024-12-14T14:29:04.709622Z"
    },
    "trusted": true
   },
   "outputs": [],
   "source": [
    "from sklearn.feature_extraction.text import TfidfVectorizer\n",
    "from sklearn import metrics\n",
    "\n",
    "vectorizer = TfidfVectorizer()\n",
    "vectorised_train_documents = vectorizer.fit_transform(cleanedTrainData[\"content\"])\n",
    "vectorised_test_documents = vectorizer.transform(cleanedTestData[\"content\"])"
   ]
  },
  {
   "cell_type": "code",
   "execution_count": 26,
   "metadata": {
    "execution": {
     "iopub.execute_input": "2024-12-14T14:29:08.329039Z",
     "iopub.status.busy": "2024-12-14T14:29:08.328752Z",
     "iopub.status.idle": "2024-12-14T14:29:08.333791Z",
     "shell.execute_reply": "2024-12-14T14:29:08.332882Z",
     "shell.execute_reply.started": "2024-12-14T14:29:08.328987Z"
    },
    "trusted": true
   },
   "outputs": [
    {
     "data": {
      "text/plain": [
       "<Compressed Sparse Row sparse matrix of dtype 'float64'\n",
       "\twith 324791 stored elements and shape (7769, 16909)>"
      ]
     },
     "execution_count": 26,
     "metadata": {},
     "output_type": "execute_result"
    }
   ],
   "source": [
    "vectorised_train_documents"
   ]
  },
  {
   "cell_type": "code",
   "execution_count": 15,
   "metadata": {
    "execution": {
     "iopub.execute_input": "2024-12-14T14:29:10.807069Z",
     "iopub.status.busy": "2024-12-14T14:29:10.806755Z",
     "iopub.status.idle": "2024-12-14T14:29:10.857274Z",
     "shell.execute_reply": "2024-12-14T14:29:10.856569Z",
     "shell.execute_reply.started": "2024-12-14T14:29:10.807016Z"
    },
    "trusted": true
   },
   "outputs": [],
   "source": [
    "import pickle\n",
    "\n",
    "with open('tfidf_vectorizer.pkl', 'wb') as file:\n",
    "    pickle.dump(vectorizer, file)"
   ]
  },
  {
   "cell_type": "markdown",
   "metadata": {},
   "source": [
    "# Train and Evaluate Classifiers"
   ]
  },
  {
   "cell_type": "code",
   "execution_count": 6,
   "metadata": {
    "execution": {
     "iopub.execute_input": "2024-12-14T14:30:24.648886Z",
     "iopub.status.busy": "2024-12-14T14:30:24.648627Z",
     "iopub.status.idle": "2024-12-14T14:30:24.679429Z",
     "shell.execute_reply": "2024-12-14T14:30:24.678745Z",
     "shell.execute_reply.started": "2024-12-14T14:30:24.648848Z"
    },
    "trusted": true
   },
   "outputs": [
    {
     "data": {
      "text/plain": [
       "\"\\n# X_train: TF-IDF features for training\\n# X_test: TF-IDF features for testing\\n# y_train: Multi-label encoded labels for training\\n# y_test: Multi-label encoded labels for testing\\n\\n# Train the model\\nmodel, metrics = train_model(\\n    X_train, y_train,\\n    X_test, y_test,\\n    epochs=50,\\n    batch_size=32\\n)\\n\\n# Save the model\\ntorch.save({\\n    'model_state_dict': model.state_dict(),\\n}, 'model_checkpoint.pth')\\n\""
      ]
     },
     "execution_count": 6,
     "metadata": {},
     "output_type": "execute_result"
    }
   ],
   "source": [
    "import torch\n",
    "import torch.nn as nn\n",
    "from torch.utils.data import DataLoader, TensorDataset\n",
    "from sklearn.metrics import f1_score, precision_score, recall_score, accuracy_score\n",
    "import numpy as np\n",
    "from tqdm import tqdm\n",
    "import scipy\n",
    "\n",
    "def prepare_text_data(texts_train,texts_test, labels_train, labels_test):\n",
    "    tfidf = TfidfVectorizer(max_features=10000)  \n",
    "    X_train = tfidf.fit_transform(texts_train).toarray()\n",
    "    X_test = tfidf.transform(texts_test).toarray()\n",
    "    \n",
    "    mlb = MultiLabelBinarizer()\n",
    "    y_train = mlb.fit_transform(labels_train)\n",
    "    y_test = mlb.transform(labels_test)\n",
    "    \n",
    "    return X_train, X_test, y_train, y_test, tfidf, mlb\n",
    "\n",
    "class ANN(nn.Module):\n",
    "    def __init__(self, n_in, n_out):\n",
    "        super().__init__()\n",
    "        self.net = nn.Sequential(\n",
    "            nn.Linear(n_in, 512),\n",
    "            nn.BatchNorm1d(512),\n",
    "            nn.ReLU(inplace=True),\n",
    "            nn.Dropout(p=0.5),\n",
    "            nn.Linear(512, 256),\n",
    "            nn.BatchNorm1d(256),\n",
    "            nn.ReLU(inplace=True),\n",
    "            nn.Dropout(p=0.5),\n",
    "            nn.Linear(256, n_out),\n",
    "            nn.Sigmoid()\n",
    "        )\n",
    "    \n",
    "    def forward(self, x):\n",
    "        return self.net(x)\n",
    "\n",
    "class MultiLabelTrainer:\n",
    "    def __init__(self, model, device, learning_rate=0.001):\n",
    "        self.model = model\n",
    "        self.device = device\n",
    "        self.criterion = nn.BCELoss()\n",
    "        self.optimizer = torch.optim.Adam(model.parameters(), lr=learning_rate)\n",
    "        self.scheduler = torch.optim.lr_scheduler.ReduceLROnPlateau(\n",
    "            self.optimizer, mode='min', patience=3, factor=0.1, verbose=True\n",
    "        )\n",
    "\n",
    "    def train_epoch(self, train_loader):\n",
    "        self.model.train()\n",
    "        total_loss = 0\n",
    "        \n",
    "        for batch_x, batch_y in tqdm(train_loader, desc=\"Training\"):\n",
    "            batch_x = batch_x.to(self.device)\n",
    "            batch_y = batch_y.to(self.device)\n",
    "            \n",
    "            self.optimizer.zero_grad()\n",
    "            outputs = self.model(batch_x)\n",
    "            loss = self.criterion(outputs, batch_y)\n",
    "            loss.backward()\n",
    "            self.optimizer.step()\n",
    "            \n",
    "            total_loss += loss.item()\n",
    "        \n",
    "        return total_loss / len(train_loader)\n",
    "\n",
    "    def evaluate(self, data_loader, threshold=0.5):\n",
    "        self.model.eval()\n",
    "        all_predictions = []\n",
    "        all_targets = []\n",
    "        total_loss = 0\n",
    "        \n",
    "        with torch.no_grad():\n",
    "            for batch_x, batch_y in tqdm(data_loader, desc=\"Evaluating\"):\n",
    "                batch_x = batch_x.to(self.device)\n",
    "                batch_y = batch_y.to(self.device)\n",
    "                \n",
    "                outputs = self.model(batch_x)\n",
    "                loss = self.criterion(outputs, batch_y)\n",
    "                total_loss += loss.item()\n",
    "                \n",
    "                predictions = (outputs >= threshold).float()\n",
    "                all_predictions.extend(predictions.cpu().numpy())\n",
    "                all_targets.extend(batch_y.cpu().numpy())\n",
    "\n",
    "        all_predictions = np.array(all_predictions)\n",
    "        all_targets = np.array(all_targets)\n",
    "        \n",
    "        f1 = f1_score(all_targets, all_predictions, average='macro')\n",
    "        precision = precision_score(all_targets, all_predictions, average='macro')\n",
    "        recall = recall_score(all_targets, all_predictions, average='macro')\n",
    "        accuracy = accuracy_score(all_targets, all_predictions)\n",
    "        \n",
    "        return {\n",
    "            'loss': total_loss / len(data_loader),\n",
    "            'accuracy' : accuracy,\n",
    "            'f1': f1,\n",
    "            'precision': precision,\n",
    "            'recall': recall\n",
    "        }\n",
    "\n",
    "def prepare_data(X_train, y_train, X_test, y_test, batch_size=32):\n",
    "    if scipy.sparse.issparse(X_train):\n",
    "        X_train = X_train.toarray()\n",
    "    if scipy.sparse.issparse(X_test):\n",
    "        X_test = X_test.toarray()\n",
    "\n",
    "    train_dataset = TensorDataset(\n",
    "        torch.FloatTensor(X_train),\n",
    "        torch.FloatTensor(y_train)\n",
    "    )\n",
    "    test_dataset = TensorDataset(\n",
    "        torch.FloatTensor(X_test),\n",
    "        torch.FloatTensor(y_test)\n",
    "    )\n",
    "    \n",
    "    train_loader = DataLoader(train_dataset, batch_size=batch_size, shuffle=True)\n",
    "    test_loader = DataLoader(test_dataset, batch_size=batch_size)\n",
    "    \n",
    "    return train_loader, test_loader\n",
    "\n",
    "def train_model(X_train, y_train, X_test, y_test, epochs=50, batch_size=32):\n",
    "    device = torch.device(\"cuda\" if torch.cuda.is_available() else \"cpu\")\n",
    "    print(f\"Using device: {device}\")\n",
    "\n",
    "    n_features = X_train.shape[1]  \n",
    "    n_classes = y_train.shape[1]   \n",
    "\n",
    "    train_loader, test_loader = prepare_data(\n",
    "        X_train, y_train, X_test, y_test, batch_size\n",
    "    )\n",
    "\n",
    "    model = ANN(n_features, n_classes).to(device)\n",
    "    trainer = MultiLabelTrainer(model, device)\n",
    "    \n",
    "    best_train_loss = float('inf')\n",
    "    best_model = None\n",
    "    \n",
    "    for epoch in range(epochs):\n",
    "        print(f\"\\nEpoch {epoch+1}/{epochs}\")\n",
    "        train_loss = trainer.train_epoch(train_loader)\n",
    "        train_metrics = trainer.evaluate(train_loader)\n",
    "        \n",
    "        print(f\"Train Loss: {train_loss:.4f}\")\n",
    "        print(f\"Accuracy: {train_metrics['accuracy']:.4f}\")\n",
    "        print(f\"Train F1: {train_metrics['f1']:.4f}\")\n",
    "        print(f\"Train Precision: {train_metrics['precision']:.4f}\")\n",
    "        print(f\"Train Recall: {train_metrics['recall']:.4f}\")\n",
    "        \n",
    "        # Learning rate scheduling\n",
    "        trainer.scheduler.step(train_loss)\n",
    "        \n",
    "        # Save best model based on training loss\n",
    "        if train_loss < best_train_loss:\n",
    "            best_train_loss = train_loss\n",
    "            best_model = model.state_dict().copy()\n",
    "    \n",
    "    # Load best model and evaluate on test set\n",
    "    model.load_state_dict(best_model)\n",
    "    test_metrics = trainer.evaluate(test_loader)\n",
    "    \n",
    "    print(\"\\nTest Set Results:\")\n",
    "    print(f\"Test Accuracy: {test_metrics['accuracy']:.4f}\")\n",
    "    print(f\"Test F1: {test_metrics['f1']:.4f}\")\n",
    "    print(f\"Test Precision: {test_metrics['precision']:.4f}\")\n",
    "    print(f\"Test Recall: {test_metrics['recall']:.4f}\")\n",
    "    \n",
    "    return model, test_metrics\n",
    "\n",
    "# Usage:\n",
    "\"\"\"\n",
    "# X_train: TF-IDF features for training\n",
    "# X_test: TF-IDF features for testing\n",
    "# y_train: Multi-label encoded labels for training\n",
    "# y_test: Multi-label encoded labels for testing\n",
    "\n",
    "# Train the model\n",
    "model, metrics = train_model(\n",
    "    X_train, y_train,\n",
    "    X_test, y_test,\n",
    "    epochs=50,\n",
    "    batch_size=32\n",
    ")\n",
    "\n",
    "# Save the model\n",
    "torch.save({\n",
    "    'model_state_dict': model.state_dict(),\n",
    "}, 'model_checkpoint.pth')\n",
    "\"\"\""
   ]
  },
  {
   "cell_type": "code",
   "execution_count": 17,
   "metadata": {
    "execution": {
     "iopub.execute_input": "2024-12-14T14:30:29.181034Z",
     "iopub.status.busy": "2024-12-14T14:30:29.180756Z",
     "iopub.status.idle": "2024-12-14T14:32:26.456422Z",
     "shell.execute_reply": "2024-12-14T14:32:26.455626Z",
     "shell.execute_reply.started": "2024-12-14T14:30:29.180998Z"
    },
    "trusted": true
   },
   "outputs": [
    {
     "name": "stdout",
     "output_type": "stream",
     "text": [
      "Using device: cuda\n",
      "\n",
      "Epoch 1/50\n"
     ]
    },
    {
     "name": "stderr",
     "output_type": "stream",
     "text": [
      "Training: 100%|██████████| 243/243 [00:01<00:00, 155.76it/s]\n",
      "Evaluating: 100%|██████████| 243/243 [00:00<00:00, 842.06it/s]\n"
     ]
    },
    {
     "name": "stdout",
     "output_type": "stream",
     "text": [
      "Train Loss: 0.0752\n",
      "Accuracy: 0.7442\n",
      "Train F1: 0.1346\n",
      "Train Precision: 0.1539\n",
      "Train Recall: 0.1240\n",
      "\n",
      "Epoch 2/50\n"
     ]
    },
    {
     "name": "stderr",
     "output_type": "stream",
     "text": [
      "Training: 100%|██████████| 243/243 [00:01<00:00, 213.17it/s]\n",
      "Evaluating: 100%|██████████| 243/243 [00:00<00:00, 1011.02it/s]\n"
     ]
    },
    {
     "name": "stdout",
     "output_type": "stream",
     "text": [
      "Train Loss: 0.0195\n",
      "Accuracy: 0.8213\n",
      "Train F1: 0.2478\n",
      "Train Precision: 0.2894\n",
      "Train Recall: 0.2333\n",
      "\n",
      "Epoch 3/50\n"
     ]
    },
    {
     "name": "stderr",
     "output_type": "stream",
     "text": [
      "Training: 100%|██████████| 243/243 [00:01<00:00, 216.51it/s]\n",
      "Evaluating: 100%|██████████| 243/243 [00:00<00:00, 950.61it/s]\n"
     ]
    },
    {
     "name": "stdout",
     "output_type": "stream",
     "text": [
      "Train Loss: 0.0134\n",
      "Accuracy: 0.8652\n",
      "Train F1: 0.3345\n",
      "Train Precision: 0.3939\n",
      "Train Recall: 0.3179\n",
      "\n",
      "Epoch 4/50\n"
     ]
    },
    {
     "name": "stderr",
     "output_type": "stream",
     "text": [
      "Training: 100%|██████████| 243/243 [00:01<00:00, 214.53it/s]\n",
      "Evaluating: 100%|██████████| 243/243 [00:00<00:00, 980.29it/s]\n"
     ]
    },
    {
     "name": "stdout",
     "output_type": "stream",
     "text": [
      "Train Loss: 0.0105\n",
      "Accuracy: 0.9002\n",
      "Train F1: 0.4294\n",
      "Train Precision: 0.4848\n",
      "Train Recall: 0.4081\n",
      "\n",
      "Epoch 5/50\n"
     ]
    },
    {
     "name": "stderr",
     "output_type": "stream",
     "text": [
      "Training: 100%|██████████| 243/243 [00:01<00:00, 216.50it/s]\n",
      "Evaluating: 100%|██████████| 243/243 [00:00<00:00, 991.17it/s] \n"
     ]
    },
    {
     "name": "stdout",
     "output_type": "stream",
     "text": [
      "Train Loss: 0.0085\n",
      "Accuracy: 0.9161\n",
      "Train F1: 0.5009\n",
      "Train Precision: 0.5428\n",
      "Train Recall: 0.4879\n",
      "\n",
      "Epoch 6/50\n"
     ]
    },
    {
     "name": "stderr",
     "output_type": "stream",
     "text": [
      "Training: 100%|██████████| 243/243 [00:01<00:00, 214.30it/s]\n",
      "Evaluating: 100%|██████████| 243/243 [00:00<00:00, 1013.38it/s]\n"
     ]
    },
    {
     "name": "stdout",
     "output_type": "stream",
     "text": [
      "Train Loss: 0.0073\n",
      "Accuracy: 0.9301\n",
      "Train F1: 0.5541\n",
      "Train Precision: 0.6106\n",
      "Train Recall: 0.5435\n",
      "\n",
      "Epoch 7/50\n"
     ]
    },
    {
     "name": "stderr",
     "output_type": "stream",
     "text": [
      "Training: 100%|██████████| 243/243 [00:01<00:00, 219.16it/s]\n",
      "Evaluating: 100%|██████████| 243/243 [00:00<00:00, 1010.90it/s]\n"
     ]
    },
    {
     "name": "stdout",
     "output_type": "stream",
     "text": [
      "Train Loss: 0.0067\n",
      "Accuracy: 0.9387\n",
      "Train F1: 0.6037\n",
      "Train Precision: 0.6361\n",
      "Train Recall: 0.5947\n",
      "\n",
      "Epoch 8/50\n"
     ]
    },
    {
     "name": "stderr",
     "output_type": "stream",
     "text": [
      "Training: 100%|██████████| 243/243 [00:01<00:00, 214.56it/s]\n",
      "Evaluating: 100%|██████████| 243/243 [00:00<00:00, 1005.40it/s]\n"
     ]
    },
    {
     "name": "stdout",
     "output_type": "stream",
     "text": [
      "Train Loss: 0.0060\n",
      "Accuracy: 0.9458\n",
      "Train F1: 0.6370\n",
      "Train Precision: 0.6760\n",
      "Train Recall: 0.6244\n",
      "\n",
      "Epoch 9/50\n"
     ]
    },
    {
     "name": "stderr",
     "output_type": "stream",
     "text": [
      "Training: 100%|██████████| 243/243 [00:01<00:00, 213.42it/s]\n",
      "Evaluating: 100%|██████████| 243/243 [00:00<00:00, 1008.19it/s]\n"
     ]
    },
    {
     "name": "stdout",
     "output_type": "stream",
     "text": [
      "Train Loss: 0.0056\n",
      "Accuracy: 0.9524\n",
      "Train F1: 0.6775\n",
      "Train Precision: 0.7215\n",
      "Train Recall: 0.6645\n",
      "\n",
      "Epoch 10/50\n"
     ]
    },
    {
     "name": "stderr",
     "output_type": "stream",
     "text": [
      "Training: 100%|██████████| 243/243 [00:01<00:00, 204.26it/s]\n",
      "Evaluating: 100%|██████████| 243/243 [00:00<00:00, 984.66it/s]\n"
     ]
    },
    {
     "name": "stdout",
     "output_type": "stream",
     "text": [
      "Train Loss: 0.0051\n",
      "Accuracy: 0.9565\n",
      "Train F1: 0.7120\n",
      "Train Precision: 0.7499\n",
      "Train Recall: 0.7092\n",
      "\n",
      "Epoch 11/50\n"
     ]
    },
    {
     "name": "stderr",
     "output_type": "stream",
     "text": [
      "Training: 100%|██████████| 243/243 [00:01<00:00, 220.70it/s]\n",
      "Evaluating: 100%|██████████| 243/243 [00:00<00:00, 1024.52it/s]\n"
     ]
    },
    {
     "name": "stdout",
     "output_type": "stream",
     "text": [
      "Train Loss: 0.0046\n",
      "Accuracy: 0.9574\n",
      "Train F1: 0.7319\n",
      "Train Precision: 0.7636\n",
      "Train Recall: 0.7207\n",
      "\n",
      "Epoch 12/50\n"
     ]
    },
    {
     "name": "stderr",
     "output_type": "stream",
     "text": [
      "Training: 100%|██████████| 243/243 [00:01<00:00, 218.45it/s]\n",
      "Evaluating: 100%|██████████| 243/243 [00:00<00:00, 1021.86it/s]\n"
     ]
    },
    {
     "name": "stdout",
     "output_type": "stream",
     "text": [
      "Train Loss: 0.0043\n",
      "Accuracy: 0.9624\n",
      "Train F1: 0.7676\n",
      "Train Precision: 0.7924\n",
      "Train Recall: 0.7636\n",
      "\n",
      "Epoch 13/50\n"
     ]
    },
    {
     "name": "stderr",
     "output_type": "stream",
     "text": [
      "Training: 100%|██████████| 243/243 [00:01<00:00, 217.48it/s]\n",
      "Evaluating: 100%|██████████| 243/243 [00:00<00:00, 1005.09it/s]\n"
     ]
    },
    {
     "name": "stdout",
     "output_type": "stream",
     "text": [
      "Train Loss: 0.0040\n",
      "Accuracy: 0.9667\n",
      "Train F1: 0.7811\n",
      "Train Precision: 0.8068\n",
      "Train Recall: 0.7705\n",
      "\n",
      "Epoch 14/50\n"
     ]
    },
    {
     "name": "stderr",
     "output_type": "stream",
     "text": [
      "Training: 100%|██████████| 243/243 [00:01<00:00, 217.67it/s]\n",
      "Evaluating: 100%|██████████| 243/243 [00:00<00:00, 1010.70it/s]\n"
     ]
    },
    {
     "name": "stdout",
     "output_type": "stream",
     "text": [
      "Train Loss: 0.0040\n",
      "Accuracy: 0.9655\n",
      "Train F1: 0.8053\n",
      "Train Precision: 0.8214\n",
      "Train Recall: 0.8043\n",
      "\n",
      "Epoch 15/50\n"
     ]
    },
    {
     "name": "stderr",
     "output_type": "stream",
     "text": [
      "Training: 100%|██████████| 243/243 [00:01<00:00, 215.31it/s]\n",
      "Evaluating: 100%|██████████| 243/243 [00:00<00:00, 987.25it/s]\n"
     ]
    },
    {
     "name": "stdout",
     "output_type": "stream",
     "text": [
      "Train Loss: 0.0037\n",
      "Accuracy: 0.9669\n",
      "Train F1: 0.8296\n",
      "Train Precision: 0.8404\n",
      "Train Recall: 0.8319\n",
      "\n",
      "Epoch 16/50\n"
     ]
    },
    {
     "name": "stderr",
     "output_type": "stream",
     "text": [
      "Training: 100%|██████████| 243/243 [00:01<00:00, 214.75it/s]\n",
      "Evaluating: 100%|██████████| 243/243 [00:00<00:00, 997.31it/s] \n"
     ]
    },
    {
     "name": "stdout",
     "output_type": "stream",
     "text": [
      "Train Loss: 0.0037\n",
      "Accuracy: 0.9672\n",
      "Train F1: 0.8350\n",
      "Train Precision: 0.8563\n",
      "Train Recall: 0.8295\n",
      "\n",
      "Epoch 17/50\n"
     ]
    },
    {
     "name": "stderr",
     "output_type": "stream",
     "text": [
      "Training: 100%|██████████| 243/243 [00:01<00:00, 213.70it/s]\n",
      "Evaluating: 100%|██████████| 243/243 [00:00<00:00, 989.72it/s] \n"
     ]
    },
    {
     "name": "stdout",
     "output_type": "stream",
     "text": [
      "Train Loss: 0.0036\n",
      "Accuracy: 0.9716\n",
      "Train F1: 0.8540\n",
      "Train Precision: 0.8831\n",
      "Train Recall: 0.8432\n",
      "\n",
      "Epoch 18/50\n"
     ]
    },
    {
     "name": "stderr",
     "output_type": "stream",
     "text": [
      "Training: 100%|██████████| 243/243 [00:01<00:00, 216.64it/s]\n",
      "Evaluating: 100%|██████████| 243/243 [00:00<00:00, 1004.82it/s]\n"
     ]
    },
    {
     "name": "stdout",
     "output_type": "stream",
     "text": [
      "Train Loss: 0.0034\n",
      "Accuracy: 0.9741\n",
      "Train F1: 0.8672\n",
      "Train Precision: 0.8796\n",
      "Train Recall: 0.8640\n",
      "\n",
      "Epoch 19/50\n"
     ]
    },
    {
     "name": "stderr",
     "output_type": "stream",
     "text": [
      "Training: 100%|██████████| 243/243 [00:01<00:00, 216.02it/s]\n",
      "Evaluating: 100%|██████████| 243/243 [00:00<00:00, 975.41it/s]\n"
     ]
    },
    {
     "name": "stdout",
     "output_type": "stream",
     "text": [
      "Train Loss: 0.0031\n",
      "Accuracy: 0.9748\n",
      "Train F1: 0.8895\n",
      "Train Precision: 0.9113\n",
      "Train Recall: 0.8816\n",
      "\n",
      "Epoch 20/50\n"
     ]
    },
    {
     "name": "stderr",
     "output_type": "stream",
     "text": [
      "Training: 100%|██████████| 243/243 [00:01<00:00, 215.89it/s]\n",
      "Evaluating: 100%|██████████| 243/243 [00:00<00:00, 987.06it/s] \n"
     ]
    },
    {
     "name": "stdout",
     "output_type": "stream",
     "text": [
      "Train Loss: 0.0030\n",
      "Accuracy: 0.9741\n",
      "Train F1: 0.9270\n",
      "Train Precision: 0.9363\n",
      "Train Recall: 0.9287\n",
      "\n",
      "Epoch 21/50\n"
     ]
    },
    {
     "name": "stderr",
     "output_type": "stream",
     "text": [
      "Training: 100%|██████████| 243/243 [00:01<00:00, 214.26it/s]\n",
      "Evaluating: 100%|██████████| 243/243 [00:00<00:00, 971.91it/s]\n"
     ]
    },
    {
     "name": "stdout",
     "output_type": "stream",
     "text": [
      "Train Loss: 0.0029\n",
      "Accuracy: 0.9797\n",
      "Train F1: 0.9123\n",
      "Train Precision: 0.9104\n",
      "Train Recall: 0.9196\n",
      "\n",
      "Epoch 22/50\n"
     ]
    },
    {
     "name": "stderr",
     "output_type": "stream",
     "text": [
      "Training: 100%|██████████| 243/243 [00:01<00:00, 212.36it/s]\n",
      "Evaluating: 100%|██████████| 243/243 [00:00<00:00, 985.42it/s]\n"
     ]
    },
    {
     "name": "stdout",
     "output_type": "stream",
     "text": [
      "Train Loss: 0.0028\n",
      "Accuracy: 0.9773\n",
      "Train F1: 0.9443\n",
      "Train Precision: 0.9460\n",
      "Train Recall: 0.9473\n",
      "\n",
      "Epoch 23/50\n"
     ]
    },
    {
     "name": "stderr",
     "output_type": "stream",
     "text": [
      "Training: 100%|██████████| 243/243 [00:01<00:00, 216.54it/s]\n",
      "Evaluating: 100%|██████████| 243/243 [00:00<00:00, 1001.20it/s]\n"
     ]
    },
    {
     "name": "stdout",
     "output_type": "stream",
     "text": [
      "Train Loss: 0.0028\n",
      "Accuracy: 0.9779\n",
      "Train F1: 0.9358\n",
      "Train Precision: 0.9406\n",
      "Train Recall: 0.9375\n",
      "\n",
      "Epoch 24/50\n"
     ]
    },
    {
     "name": "stderr",
     "output_type": "stream",
     "text": [
      "Training: 100%|██████████| 243/243 [00:01<00:00, 216.01it/s]\n",
      "Evaluating: 100%|██████████| 243/243 [00:00<00:00, 975.34it/s]\n"
     ]
    },
    {
     "name": "stdout",
     "output_type": "stream",
     "text": [
      "Train Loss: 0.0028\n",
      "Accuracy: 0.9779\n",
      "Train F1: 0.9674\n",
      "Train Precision: 0.9671\n",
      "Train Recall: 0.9721\n",
      "\n",
      "Epoch 25/50\n"
     ]
    },
    {
     "name": "stderr",
     "output_type": "stream",
     "text": [
      "Training: 100%|██████████| 243/243 [00:01<00:00, 216.60it/s]\n",
      "Evaluating: 100%|██████████| 243/243 [00:00<00:00, 999.63it/s] \n"
     ]
    },
    {
     "name": "stdout",
     "output_type": "stream",
     "text": [
      "Train Loss: 0.0026\n",
      "Accuracy: 0.9784\n",
      "Train F1: 0.9626\n",
      "Train Precision: 0.9616\n",
      "Train Recall: 0.9696\n",
      "\n",
      "Epoch 26/50\n"
     ]
    },
    {
     "name": "stderr",
     "output_type": "stream",
     "text": [
      "Training: 100%|██████████| 243/243 [00:01<00:00, 212.82it/s]\n",
      "Evaluating: 100%|██████████| 243/243 [00:00<00:00, 982.31it/s]\n"
     ]
    },
    {
     "name": "stdout",
     "output_type": "stream",
     "text": [
      "Train Loss: 0.0026\n",
      "Accuracy: 0.9794\n",
      "Train F1: 0.9712\n",
      "Train Precision: 0.9717\n",
      "Train Recall: 0.9739\n",
      "\n",
      "Epoch 27/50\n"
     ]
    },
    {
     "name": "stderr",
     "output_type": "stream",
     "text": [
      "Training: 100%|██████████| 243/243 [00:01<00:00, 212.54it/s]\n",
      "Evaluating: 100%|██████████| 243/243 [00:00<00:00, 1006.88it/s]\n"
     ]
    },
    {
     "name": "stdout",
     "output_type": "stream",
     "text": [
      "Train Loss: 0.0026\n",
      "Accuracy: 0.9800\n",
      "Train F1: 0.9815\n",
      "Train Precision: 0.9776\n",
      "Train Recall: 0.9886\n",
      "\n",
      "Epoch 28/50\n"
     ]
    },
    {
     "name": "stderr",
     "output_type": "stream",
     "text": [
      "Training: 100%|██████████| 243/243 [00:01<00:00, 216.36it/s]\n",
      "Evaluating: 100%|██████████| 243/243 [00:00<00:00, 1020.30it/s]\n"
     ]
    },
    {
     "name": "stdout",
     "output_type": "stream",
     "text": [
      "Train Loss: 0.0025\n",
      "Accuracy: 0.9788\n",
      "Train F1: 0.9808\n",
      "Train Precision: 0.9741\n",
      "Train Recall: 0.9907\n",
      "\n",
      "Epoch 29/50\n"
     ]
    },
    {
     "name": "stderr",
     "output_type": "stream",
     "text": [
      "Training: 100%|██████████| 243/243 [00:01<00:00, 213.40it/s]\n",
      "Evaluating: 100%|██████████| 243/243 [00:00<00:00, 990.20it/s] \n"
     ]
    },
    {
     "name": "stdout",
     "output_type": "stream",
     "text": [
      "Train Loss: 0.0026\n",
      "Accuracy: 0.9806\n",
      "Train F1: 0.9827\n",
      "Train Precision: 0.9756\n",
      "Train Recall: 0.9925\n",
      "\n",
      "Epoch 30/50\n"
     ]
    },
    {
     "name": "stderr",
     "output_type": "stream",
     "text": [
      "Training: 100%|██████████| 243/243 [00:01<00:00, 213.12it/s]\n",
      "Evaluating: 100%|██████████| 243/243 [00:00<00:00, 977.20it/s]\n"
     ]
    },
    {
     "name": "stdout",
     "output_type": "stream",
     "text": [
      "Train Loss: 0.0025\n",
      "Accuracy: 0.9806\n",
      "Train F1: 0.9847\n",
      "Train Precision: 0.9852\n",
      "Train Recall: 0.9870\n",
      "\n",
      "Epoch 31/50\n"
     ]
    },
    {
     "name": "stderr",
     "output_type": "stream",
     "text": [
      "Training: 100%|██████████| 243/243 [00:01<00:00, 213.66it/s]\n",
      "Evaluating: 100%|██████████| 243/243 [00:00<00:00, 979.26it/s]\n"
     ]
    },
    {
     "name": "stdout",
     "output_type": "stream",
     "text": [
      "Train Loss: 0.0023\n",
      "Accuracy: 0.9821\n",
      "Train F1: 0.9841\n",
      "Train Precision: 0.9827\n",
      "Train Recall: 0.9893\n",
      "\n",
      "Epoch 32/50\n"
     ]
    },
    {
     "name": "stderr",
     "output_type": "stream",
     "text": [
      "Training: 100%|██████████| 243/243 [00:01<00:00, 211.81it/s]\n",
      "Evaluating: 100%|██████████| 243/243 [00:00<00:00, 971.91it/s]\n"
     ]
    },
    {
     "name": "stdout",
     "output_type": "stream",
     "text": [
      "Train Loss: 0.0023\n",
      "Accuracy: 0.9828\n",
      "Train F1: 0.9848\n",
      "Train Precision: 0.9802\n",
      "Train Recall: 0.9914\n",
      "\n",
      "Epoch 33/50\n"
     ]
    },
    {
     "name": "stderr",
     "output_type": "stream",
     "text": [
      "Training: 100%|██████████| 243/243 [00:01<00:00, 212.94it/s]\n",
      "Evaluating: 100%|██████████| 243/243 [00:00<00:00, 958.60it/s] \n"
     ]
    },
    {
     "name": "stdout",
     "output_type": "stream",
     "text": [
      "Train Loss: 0.0022\n",
      "Accuracy: 0.9834\n",
      "Train F1: 0.9868\n",
      "Train Precision: 0.9820\n",
      "Train Recall: 0.9932\n",
      "\n",
      "Epoch 34/50\n"
     ]
    },
    {
     "name": "stderr",
     "output_type": "stream",
     "text": [
      "Training: 100%|██████████| 243/243 [00:01<00:00, 212.43it/s]\n",
      "Evaluating: 100%|██████████| 243/243 [00:00<00:00, 964.05it/s]\n"
     ]
    },
    {
     "name": "stdout",
     "output_type": "stream",
     "text": [
      "Train Loss: 0.0022\n",
      "Accuracy: 0.9817\n",
      "Train F1: 0.9838\n",
      "Train Precision: 0.9815\n",
      "Train Recall: 0.9885\n",
      "\n",
      "Epoch 35/50\n"
     ]
    },
    {
     "name": "stderr",
     "output_type": "stream",
     "text": [
      "Training: 100%|██████████| 243/243 [00:01<00:00, 212.58it/s]\n",
      "Evaluating: 100%|██████████| 243/243 [00:00<00:00, 971.03it/s]\n"
     ]
    },
    {
     "name": "stdout",
     "output_type": "stream",
     "text": [
      "Train Loss: 0.0023\n",
      "Accuracy: 0.9811\n",
      "Train F1: 0.9857\n",
      "Train Precision: 0.9825\n",
      "Train Recall: 0.9906\n",
      "\n",
      "Epoch 36/50\n"
     ]
    },
    {
     "name": "stderr",
     "output_type": "stream",
     "text": [
      "Training: 100%|██████████| 243/243 [00:01<00:00, 214.95it/s]\n",
      "Evaluating: 100%|██████████| 243/243 [00:00<00:00, 965.55it/s]\n"
     ]
    },
    {
     "name": "stdout",
     "output_type": "stream",
     "text": [
      "Train Loss: 0.0022\n",
      "Accuracy: 0.9804\n",
      "Train F1: 0.9853\n",
      "Train Precision: 0.9786\n",
      "Train Recall: 0.9939\n",
      "\n",
      "Epoch 37/50\n"
     ]
    },
    {
     "name": "stderr",
     "output_type": "stream",
     "text": [
      "Training: 100%|██████████| 243/243 [00:01<00:00, 212.76it/s]\n",
      "Evaluating: 100%|██████████| 243/243 [00:00<00:00, 973.77it/s]\n"
     ]
    },
    {
     "name": "stdout",
     "output_type": "stream",
     "text": [
      "Train Loss: 0.0020\n",
      "Accuracy: 0.9821\n",
      "Train F1: 0.9847\n",
      "Train Precision: 0.9783\n",
      "Train Recall: 0.9929\n",
      "\n",
      "Epoch 38/50\n"
     ]
    },
    {
     "name": "stderr",
     "output_type": "stream",
     "text": [
      "Training: 100%|██████████| 243/243 [00:01<00:00, 213.69it/s]\n",
      "Evaluating: 100%|██████████| 243/243 [00:00<00:00, 970.51it/s]\n"
     ]
    },
    {
     "name": "stdout",
     "output_type": "stream",
     "text": [
      "Train Loss: 0.0022\n",
      "Accuracy: 0.9835\n",
      "Train F1: 0.9864\n",
      "Train Precision: 0.9832\n",
      "Train Recall: 0.9914\n",
      "\n",
      "Epoch 39/50\n"
     ]
    },
    {
     "name": "stderr",
     "output_type": "stream",
     "text": [
      "Training: 100%|██████████| 243/243 [00:01<00:00, 209.95it/s]\n",
      "Evaluating: 100%|██████████| 243/243 [00:00<00:00, 955.17it/s]\n"
     ]
    },
    {
     "name": "stdout",
     "output_type": "stream",
     "text": [
      "Train Loss: 0.0021\n",
      "Accuracy: 0.9826\n",
      "Train F1: 0.9884\n",
      "Train Precision: 0.9840\n",
      "Train Recall: 0.9946\n",
      "\n",
      "Epoch 40/50\n"
     ]
    },
    {
     "name": "stderr",
     "output_type": "stream",
     "text": [
      "Training: 100%|██████████| 243/243 [00:01<00:00, 206.75it/s]\n",
      "Evaluating: 100%|██████████| 243/243 [00:00<00:00, 974.92it/s]\n"
     ]
    },
    {
     "name": "stdout",
     "output_type": "stream",
     "text": [
      "Train Loss: 0.0021\n",
      "Accuracy: 0.9824\n",
      "Train F1: 0.9861\n",
      "Train Precision: 0.9868\n",
      "Train Recall: 0.9880\n",
      "\n",
      "Epoch 41/50\n"
     ]
    },
    {
     "name": "stderr",
     "output_type": "stream",
     "text": [
      "Training: 100%|██████████| 243/243 [00:01<00:00, 208.31it/s]\n",
      "Evaluating: 100%|██████████| 243/243 [00:00<00:00, 957.67it/s]\n"
     ]
    },
    {
     "name": "stdout",
     "output_type": "stream",
     "text": [
      "Train Loss: 0.0021\n",
      "Accuracy: 0.9833\n",
      "Train F1: 0.9869\n",
      "Train Precision: 0.9829\n",
      "Train Recall: 0.9927\n",
      "\n",
      "Epoch 42/50\n"
     ]
    },
    {
     "name": "stderr",
     "output_type": "stream",
     "text": [
      "Training: 100%|██████████| 243/243 [00:01<00:00, 208.02it/s]\n",
      "Evaluating: 100%|██████████| 243/243 [00:00<00:00, 970.41it/s]\n"
     ]
    },
    {
     "name": "stdout",
     "output_type": "stream",
     "text": [
      "Train Loss: 0.0020\n",
      "Accuracy: 0.9835\n",
      "Train F1: 0.9872\n",
      "Train Precision: 0.9830\n",
      "Train Recall: 0.9930\n",
      "\n",
      "Epoch 43/50\n"
     ]
    },
    {
     "name": "stderr",
     "output_type": "stream",
     "text": [
      "Training: 100%|██████████| 243/243 [00:01<00:00, 207.73it/s]\n",
      "Evaluating: 100%|██████████| 243/243 [00:00<00:00, 946.74it/s]\n"
     ]
    },
    {
     "name": "stdout",
     "output_type": "stream",
     "text": [
      "Train Loss: 0.0017\n",
      "Accuracy: 0.9842\n",
      "Train F1: 0.9879\n",
      "Train Precision: 0.9847\n",
      "Train Recall: 0.9927\n",
      "\n",
      "Epoch 44/50\n"
     ]
    },
    {
     "name": "stderr",
     "output_type": "stream",
     "text": [
      "Training: 100%|██████████| 243/243 [00:01<00:00, 208.19it/s]\n",
      "Evaluating: 100%|██████████| 243/243 [00:00<00:00, 937.72it/s]\n"
     ]
    },
    {
     "name": "stdout",
     "output_type": "stream",
     "text": [
      "Train Loss: 0.0018\n",
      "Accuracy: 0.9843\n",
      "Train F1: 0.9888\n",
      "Train Precision: 0.9845\n",
      "Train Recall: 0.9947\n",
      "\n",
      "Epoch 45/50\n"
     ]
    },
    {
     "name": "stderr",
     "output_type": "stream",
     "text": [
      "Training: 100%|██████████| 243/243 [00:01<00:00, 208.02it/s]\n",
      "Evaluating: 100%|██████████| 243/243 [00:00<00:00, 902.77it/s]\n"
     ]
    },
    {
     "name": "stdout",
     "output_type": "stream",
     "text": [
      "Train Loss: 0.0017\n",
      "Accuracy: 0.9843\n",
      "Train F1: 0.9885\n",
      "Train Precision: 0.9837\n",
      "Train Recall: 0.9948\n",
      "\n",
      "Epoch 46/50\n"
     ]
    },
    {
     "name": "stderr",
     "output_type": "stream",
     "text": [
      "Training: 100%|██████████| 243/243 [00:01<00:00, 209.37it/s]\n",
      "Evaluating: 100%|██████████| 243/243 [00:00<00:00, 988.85it/s] \n"
     ]
    },
    {
     "name": "stdout",
     "output_type": "stream",
     "text": [
      "Train Loss: 0.0016\n",
      "Accuracy: 0.9846\n",
      "Train F1: 0.9890\n",
      "Train Precision: 0.9847\n",
      "Train Recall: 0.9948\n",
      "\n",
      "Epoch 47/50\n"
     ]
    },
    {
     "name": "stderr",
     "output_type": "stream",
     "text": [
      "Training: 100%|██████████| 243/243 [00:01<00:00, 207.24it/s]\n",
      "Evaluating: 100%|██████████| 243/243 [00:00<00:00, 949.01it/s]\n"
     ]
    },
    {
     "name": "stdout",
     "output_type": "stream",
     "text": [
      "Train Loss: 0.0017\n",
      "Accuracy: 0.9843\n",
      "Train F1: 0.9886\n",
      "Train Precision: 0.9839\n",
      "Train Recall: 0.9948\n",
      "\n",
      "Epoch 48/50\n"
     ]
    },
    {
     "name": "stderr",
     "output_type": "stream",
     "text": [
      "Training: 100%|██████████| 243/243 [00:01<00:00, 207.61it/s]\n",
      "Evaluating: 100%|██████████| 243/243 [00:00<00:00, 907.51it/s]\n"
     ]
    },
    {
     "name": "stdout",
     "output_type": "stream",
     "text": [
      "Train Loss: 0.0015\n",
      "Accuracy: 0.9852\n",
      "Train F1: 0.9891\n",
      "Train Precision: 0.9848\n",
      "Train Recall: 0.9948\n",
      "\n",
      "Epoch 49/50\n"
     ]
    },
    {
     "name": "stderr",
     "output_type": "stream",
     "text": [
      "Training: 100%|██████████| 243/243 [00:01<00:00, 210.25it/s]\n",
      "Evaluating: 100%|██████████| 243/243 [00:00<00:00, 957.87it/s]\n"
     ]
    },
    {
     "name": "stdout",
     "output_type": "stream",
     "text": [
      "Train Loss: 0.0016\n",
      "Accuracy: 0.9847\n",
      "Train F1: 0.9891\n",
      "Train Precision: 0.9849\n",
      "Train Recall: 0.9948\n",
      "\n",
      "Epoch 50/50\n"
     ]
    },
    {
     "name": "stderr",
     "output_type": "stream",
     "text": [
      "Training: 100%|██████████| 243/243 [00:01<00:00, 211.99it/s]\n",
      "Evaluating: 100%|██████████| 243/243 [00:00<00:00, 942.62it/s]\n"
     ]
    },
    {
     "name": "stdout",
     "output_type": "stream",
     "text": [
      "Train Loss: 0.0014\n",
      "Accuracy: 0.9848\n",
      "Train F1: 0.9883\n",
      "Train Precision: 0.9825\n",
      "Train Recall: 0.9960\n"
     ]
    },
    {
     "name": "stderr",
     "output_type": "stream",
     "text": [
      "Evaluating: 100%|██████████| 95/95 [00:00<00:00, 818.51it/s]"
     ]
    },
    {
     "name": "stdout",
     "output_type": "stream",
     "text": [
      "\n",
      "Test Set Results:\n",
      "Test Accuracy: 0.8155\n",
      "Test F1: 0.5590\n",
      "Test Precision: 0.6711\n",
      "Test Recall: 0.5189\n"
     ]
    },
    {
     "name": "stderr",
     "output_type": "stream",
     "text": [
      "\n"
     ]
    }
   ],
   "source": [
    "model, metrics = train_model(\n",
    "    vectorised_train_documents, train_labels,\n",
    "    vectorised_test_documents, test_labels,\n",
    "    epochs=50,\n",
    "    batch_size=32\n",
    ")\n",
    "torch.save({\n",
    "    'model_state_dict': model.state_dict(),\n",
    "}, 'model_checkpoint.pth')"
   ]
  },
  {
   "cell_type": "code",
   "execution_count": 7,
   "metadata": {
    "execution": {
     "iopub.execute_input": "2024-12-14T14:51:55.169710Z",
     "iopub.status.busy": "2024-12-14T14:51:55.169446Z",
     "iopub.status.idle": "2024-12-14T14:51:55.268364Z",
     "shell.execute_reply": "2024-12-14T14:51:55.267555Z",
     "shell.execute_reply.started": "2024-12-14T14:51:55.169671Z"
    },
    "trusted": true
   },
   "outputs": [
    {
     "name": "stdout",
     "output_type": "stream",
     "text": [
      "\n",
      "Top 5 Predicted Labels and Probabilities:\n",
      "  earn: 0.3866\n",
      "  acq: 0.2811\n",
      "  livestock: 0.0250\n",
      "  trade: 0.0181\n",
      "  ipi: 0.0100\n"
     ]
    }
   ],
   "source": [
    "import torch\n",
    "import pickle\n",
    "from sklearn.feature_extraction.text import TfidfVectorizer\n",
    "from sklearn.preprocessing import MultiLabelBinarizer\n",
    "\n",
    "# Load the trained model's state dictionary\n",
    "model_path = './model_checkpoint.pth'\n",
    "device = torch.device(\"cuda\" if torch.cuda.is_available() else \"cpu\")\n",
    "model = ANN(n_in=16909, n_out=90).to(device)\n",
    "\n",
    "# Load and fix the state dict\n",
    "checkpoint = torch.load(model_path, map_location=device)\n",
    "if 'model_state_dict' in checkpoint:\n",
    "    model.load_state_dict(checkpoint['model_state_dict'])\n",
    "else:\n",
    "    model.load_state_dict(checkpoint)\n",
    "\n",
    "model.eval()\n",
    "\n",
    "# Load the TfidfVectorizer and MultiLabelBinarizer from training\n",
    "tfidf_path = './tfidf_vectorizer.pkl'\n",
    "mlb_path = './multilable.pkl'\n",
    "with open(tfidf_path, 'rb') as f:\n",
    "    tfidf = pickle.load(f)\n",
    "with open(mlb_path, 'rb') as f:\n",
    "    mlb = pickle.load(f)\n",
    "\n",
    "# Test text\n",
    "test_text = [\n",
    "    \"Connecting to Redmi Buds 6 Active is also very simple, you just need to turn on Bluetooth on your phone and open the headphone case. Then you hold down the headphone power button for a moment so that the light flashes, then you can scan Bluetooth on your phone. This product uses Bluetooth 5.3 connection standard, so the product has high stability when used.\"\n",
    "]\n",
    "\n",
    "# Preprocess the text\n",
    "test_text_preprocessed = [text.lower() for text in test_text]\n",
    "\n",
    "# Vectorize the text\n",
    "X_test = tfidf.transform(test_text_preprocessed)\n",
    "\n",
    "# Convert to tensor and move to appropriate device\n",
    "X_test_tensor = torch.FloatTensor(X_test.toarray()).to(device)\n",
    "\n",
    "# Make prediction\n",
    "with torch.no_grad():\n",
    "    outputs = model(X_test_tensor)\n",
    "\n",
    "# Get probabilities\n",
    "probabilities = outputs  # outputs already have sigmoid in the model\n",
    "\n",
    "# Get top 5 probabilities and their indices\n",
    "top5_values, top5_indices = torch.topk(probabilities, k=5)\n",
    "\n",
    "# Move tensors to CPU for numpy conversion\n",
    "top5_values = top5_values.cpu()\n",
    "top5_indices = top5_indices.cpu()\n",
    "\n",
    "# Print top 5 labels and their probabilities\n",
    "print(\"\\nTop 5 Predicted Labels and Probabilities:\")\n",
    "for i in range(len(test_text)):\n",
    "    for label_idx, prob in zip(top5_indices[i], top5_values[i]):\n",
    "        label = mlb.classes_[label_idx]\n",
    "        print(f\"  {label}: {prob:.4f}\")"
   ]
  },
  {
   "cell_type": "code",
   "execution_count": 27,
   "metadata": {},
   "outputs": [
    {
     "data": {
      "text/plain": [
       "\"\\n# Your data should already be prepared as:\\n# X_train: TF-IDF features for training\\n# X_test: TF-IDF features for testing\\n# y_train: Multi-label encoded labels for training\\n# y_test: Multi-label encoded labels for testing\\n\\n# Train the model\\nmodel, metrics = train_model(\\n    X_train, y_train,\\n    X_test, y_test,\\n    epochs=50,\\n    batch_size=32\\n)\\n\\n# Save the model\\ntorch.save({\\n    'model_state_dict': model.state_dict(),\\n}, 'lstm_reuters_model.pth')\\n\""
      ]
     },
     "execution_count": 27,
     "metadata": {},
     "output_type": "execute_result"
    }
   ],
   "source": [
    "import torch\n",
    "import torch.nn as nn\n",
    "from torch.utils.data import DataLoader, TensorDataset\n",
    "from sklearn.metrics import f1_score, precision_score, recall_score, accuracy_score\n",
    "import numpy as np\n",
    "from tqdm import tqdm\n",
    "\n",
    "class LSTMClassifier(nn.Module):\n",
    "    def __init__(self, input_size, hidden_size, num_layers, n_out):\n",
    "        super().__init__()\n",
    "        self.hidden_size = hidden_size\n",
    "        self.num_layers = num_layers\n",
    "        \n",
    "        self.lstm = nn.LSTM(\n",
    "            input_size=input_size,\n",
    "            hidden_size=hidden_size,\n",
    "            num_layers=num_layers,\n",
    "            batch_first=True,\n",
    "            bidirectional=True,\n",
    "            dropout=0.5 if num_layers > 1 else 0\n",
    "        )\n",
    "        \n",
    "        self.net = nn.Sequential(\n",
    "            nn.Linear(hidden_size * 2, 512),  \n",
    "            nn.BatchNorm1d(512),\n",
    "            nn.ReLU(inplace=True),\n",
    "            nn.Dropout(p=0.5),\n",
    "            nn.Linear(512, 256),\n",
    "            nn.BatchNorm1d(256),\n",
    "            nn.ReLU(inplace=True),\n",
    "            nn.Dropout(p=0.5),\n",
    "            nn.Linear(256, n_out),\n",
    "            nn.Sigmoid()\n",
    "        )\n",
    "    \n",
    "    def forward(self, x):\n",
    "        x = x.unsqueeze(1)  # Add sequence dimension\n",
    "        lstm_out, (hidden, _) = self.lstm(x)\n",
    "        hidden_cat = torch.cat((hidden[-2,:,:], hidden[-1,:,:]), dim=1)\n",
    "        output = self.net(hidden_cat)\n",
    "        return output\n",
    "\n",
    "class MultiLabelTrainer:\n",
    "    def __init__(self, model, device, learning_rate=0.001):\n",
    "        self.model = model\n",
    "        self.device = device\n",
    "        self.criterion = nn.BCELoss()\n",
    "        self.optimizer = torch.optim.Adam(model.parameters(), lr=learning_rate)\n",
    "        self.scheduler = torch.optim.lr_scheduler.ReduceLROnPlateau(\n",
    "            self.optimizer, mode='min', patience=3, factor=0.1, verbose=True\n",
    "        )\n",
    "\n",
    "    def train_epoch(self, train_loader):\n",
    "        self.model.train()\n",
    "        total_loss = 0\n",
    "        \n",
    "        for batch_x, batch_y in tqdm(train_loader, desc=\"Training\"):\n",
    "            batch_x = batch_x.to(self.device)\n",
    "            batch_y = batch_y.to(self.device)\n",
    "            \n",
    "            self.optimizer.zero_grad()\n",
    "            outputs = self.model(batch_x)\n",
    "            loss = self.criterion(outputs, batch_y)\n",
    "            loss.backward()\n",
    "            self.optimizer.step()\n",
    "            \n",
    "            total_loss += loss.item()\n",
    "        \n",
    "        return total_loss / len(train_loader)\n",
    "\n",
    "    def evaluate(self, data_loader, threshold=0.5):\n",
    "        self.model.eval()\n",
    "        all_predictions = []\n",
    "        all_targets = []\n",
    "        total_loss = 0\n",
    "        \n",
    "        with torch.no_grad():\n",
    "            for batch_x, batch_y in tqdm(data_loader, desc=\"Evaluating\"):\n",
    "                batch_x = batch_x.to(self.device)\n",
    "                batch_y = batch_y.to(self.device)\n",
    "                \n",
    "                outputs = self.model(batch_x)\n",
    "                loss = self.criterion(outputs, batch_y)\n",
    "                total_loss += loss.item()\n",
    "                \n",
    "                predictions = (outputs >= threshold).float()\n",
    "                all_predictions.extend(predictions.cpu().numpy())\n",
    "                all_targets.extend(batch_y.cpu().numpy())\n",
    "\n",
    "        all_predictions = np.array(all_predictions)\n",
    "        all_targets = np.array(all_targets)\n",
    "        \n",
    "        return {\n",
    "            'loss': total_loss / len(data_loader),\n",
    "            'accuracy': accuracy_score(all_targets, all_predictions),\n",
    "            'f1': f1_score(all_targets, all_predictions, average='macro'),\n",
    "            'precision': precision_score(all_targets, all_predictions, average='macro'),\n",
    "            'recall': recall_score(all_targets, all_predictions, average='macro')\n",
    "        }\n",
    "\n",
    "def prepare_data(X_train, y_train, X_test, y_test, batch_size=32):\n",
    "    if scipy.sparse.issparse(X_train):\n",
    "        X_train = X_train.toarray()\n",
    "    if scipy.sparse.issparse(X_test):\n",
    "        X_test = X_test.toarray()\n",
    "\n",
    "    train_dataset = TensorDataset(\n",
    "        torch.FloatTensor(X_train),\n",
    "        torch.FloatTensor(y_train)\n",
    "    )\n",
    "    test_dataset = TensorDataset(\n",
    "        torch.FloatTensor(X_test),\n",
    "        torch.FloatTensor(y_test)\n",
    "    )\n",
    "    \n",
    "    train_loader = DataLoader(train_dataset, batch_size=batch_size, shuffle=True)\n",
    "    test_loader = DataLoader(test_dataset, batch_size=batch_size)\n",
    "    \n",
    "    return train_loader, test_loader\n",
    "\n",
    "def train_model(X_train, y_train, X_test, y_test, epochs=50, batch_size=32):\n",
    "    device = torch.device(\"cuda\" if torch.cuda.is_available() else \"cpu\")\n",
    "    print(f\"Using device: {device}\")\n",
    "\n",
    "    input_size = X_train.shape[1]  # Number of features\n",
    "    n_classes = y_train.shape[1]   # Number of classes\n",
    "\n",
    "    train_loader, test_loader = prepare_data(\n",
    "        X_train, y_train, X_test, y_test, batch_size\n",
    "    )\n",
    "\n",
    "    model = LSTMClassifier(\n",
    "        input_size=input_size,\n",
    "        hidden_size=256,\n",
    "        num_layers=2,\n",
    "        n_out=n_classes\n",
    "    ).to(device)\n",
    "    \n",
    "    trainer = MultiLabelTrainer(model, device)\n",
    "    best_train_loss = float('inf')\n",
    "    best_model = None\n",
    "\n",
    "    for epoch in range(epochs):\n",
    "        print(f\"\\nEpoch {epoch+1}/{epochs}\")\n",
    "\n",
    "        train_loss = trainer.train_epoch(train_loader)\n",
    "\n",
    "        train_metrics = trainer.evaluate(train_loader)\n",
    "        \n",
    "        print(f\"Train Loss: {train_loss:.4f}\")\n",
    "        print(f\"Accuracy: {train_metrics['accuracy']:.4f}\")\n",
    "        print(f\"Train F1: {train_metrics['f1']:.4f}\")\n",
    "        print(f\"Train Precision: {train_metrics['precision']:.4f}\")\n",
    "        print(f\"Train Recall: {train_metrics['recall']:.4f}\")\n",
    "\n",
    "        trainer.scheduler.step(train_loss)\n",
    "\n",
    "        if train_loss < best_train_loss:\n",
    "            best_train_loss = train_loss\n",
    "            best_model = model.state_dict().copy()\n",
    "\n",
    "    model.load_state_dict(best_model)\n",
    "    test_metrics = trainer.evaluate(test_loader)\n",
    "    \n",
    "    print(\"\\nTest Set Results:\")\n",
    "    print(f\"Test Accuracy: {test_metrics['accuracy']:.4f}\")\n",
    "    print(f\"Test F1: {test_metrics['f1']:.4f}\")\n",
    "    print(f\"Test Precision: {test_metrics['precision']:.4f}\")\n",
    "    print(f\"Test Recall: {test_metrics['recall']:.4f}\")\n",
    "    \n",
    "    return model, test_metrics\n",
    "\n",
    "# Usage :\n",
    "\"\"\"\n",
    "# Your data should already be prepared as:\n",
    "# X_train: TF-IDF features for training\n",
    "# X_test: TF-IDF features for testing\n",
    "# y_train: Multi-label encoded labels for training\n",
    "# y_test: Multi-label encoded labels for testing\n",
    "\n",
    "# Train the model\n",
    "model, metrics = train_model(\n",
    "    X_train, y_train,\n",
    "    X_test, y_test,\n",
    "    epochs=50,\n",
    "    batch_size=32\n",
    ")\n",
    "\n",
    "# Save the model\n",
    "torch.save({\n",
    "    'model_state_dict': model.state_dict(),\n",
    "}, 'lstm_reuters_model.pth')\n",
    "\"\"\""
   ]
  },
  {
   "cell_type": "code",
   "execution_count": 28,
   "metadata": {},
   "outputs": [
    {
     "name": "stdout",
     "output_type": "stream",
     "text": [
      "Using device: cuda\n",
      "\n",
      "Epoch 1/50\n"
     ]
    },
    {
     "name": "stderr",
     "output_type": "stream",
     "text": [
      "Training: 100%|██████████| 243/243 [00:04<00:00, 54.02it/s]\n",
      "Evaluating: 100%|██████████| 243/243 [00:00<00:00, 530.05it/s]\n"
     ]
    },
    {
     "name": "stdout",
     "output_type": "stream",
     "text": [
      "Train Loss: 0.0806\n",
      "Accuracy: 0.6728\n",
      "Train F1: 0.0777\n",
      "Train Precision: 0.0838\n",
      "Train Recall: 0.0790\n",
      "\n",
      "Epoch 2/50\n"
     ]
    },
    {
     "name": "stderr",
     "output_type": "stream",
     "text": [
      "Training: 100%|██████████| 243/243 [00:04<00:00, 57.14it/s]\n",
      "Evaluating: 100%|██████████| 243/243 [00:00<00:00, 549.26it/s]\n"
     ]
    },
    {
     "name": "stdout",
     "output_type": "stream",
     "text": [
      "Train Loss: 0.0231\n",
      "Accuracy: 0.7544\n",
      "Train F1: 0.1548\n",
      "Train Precision: 0.1850\n",
      "Train Recall: 0.1521\n",
      "\n",
      "Epoch 3/50\n"
     ]
    },
    {
     "name": "stderr",
     "output_type": "stream",
     "text": [
      "Training: 100%|██████████| 243/243 [00:04<00:00, 57.37it/s]\n",
      "Evaluating: 100%|██████████| 243/243 [00:00<00:00, 550.99it/s]\n"
     ]
    },
    {
     "name": "stdout",
     "output_type": "stream",
     "text": [
      "Train Loss: 0.0167\n",
      "Accuracy: 0.8215\n",
      "Train F1: 0.2363\n",
      "Train Precision: 0.2616\n",
      "Train Recall: 0.2257\n",
      "\n",
      "Epoch 4/50\n"
     ]
    },
    {
     "name": "stderr",
     "output_type": "stream",
     "text": [
      "Training: 100%|██████████| 243/243 [00:04<00:00, 57.26it/s]\n",
      "Evaluating: 100%|██████████| 243/243 [00:00<00:00, 546.99it/s]\n"
     ]
    },
    {
     "name": "stdout",
     "output_type": "stream",
     "text": [
      "Train Loss: 0.0133\n",
      "Accuracy: 0.8575\n",
      "Train F1: 0.2974\n",
      "Train Precision: 0.3442\n",
      "Train Recall: 0.2869\n",
      "\n",
      "Epoch 5/50\n"
     ]
    },
    {
     "name": "stderr",
     "output_type": "stream",
     "text": [
      "Training: 100%|██████████| 243/243 [00:04<00:00, 57.54it/s]\n",
      "Evaluating: 100%|██████████| 243/243 [00:00<00:00, 555.12it/s]\n"
     ]
    },
    {
     "name": "stdout",
     "output_type": "stream",
     "text": [
      "Train Loss: 0.0109\n",
      "Accuracy: 0.8723\n",
      "Train F1: 0.3324\n",
      "Train Precision: 0.3880\n",
      "Train Recall: 0.3186\n",
      "\n",
      "Epoch 6/50\n"
     ]
    },
    {
     "name": "stderr",
     "output_type": "stream",
     "text": [
      "Training: 100%|██████████| 243/243 [00:04<00:00, 57.55it/s]\n",
      "Evaluating: 100%|██████████| 243/243 [00:00<00:00, 545.70it/s]\n"
     ]
    },
    {
     "name": "stdout",
     "output_type": "stream",
     "text": [
      "Train Loss: 0.0096\n",
      "Accuracy: 0.8851\n",
      "Train F1: 0.3938\n",
      "Train Precision: 0.4425\n",
      "Train Recall: 0.3791\n",
      "\n",
      "Epoch 7/50\n"
     ]
    },
    {
     "name": "stderr",
     "output_type": "stream",
     "text": [
      "Training: 100%|██████████| 243/243 [00:04<00:00, 57.29it/s]\n",
      "Evaluating: 100%|██████████| 243/243 [00:00<00:00, 545.96it/s]\n"
     ]
    },
    {
     "name": "stdout",
     "output_type": "stream",
     "text": [
      "Train Loss: 0.0087\n",
      "Accuracy: 0.8983\n",
      "Train F1: 0.4540\n",
      "Train Precision: 0.5008\n",
      "Train Recall: 0.4448\n",
      "\n",
      "Epoch 8/50\n"
     ]
    },
    {
     "name": "stderr",
     "output_type": "stream",
     "text": [
      "Training: 100%|██████████| 243/243 [00:04<00:00, 57.82it/s]\n",
      "Evaluating: 100%|██████████| 243/243 [00:00<00:00, 556.51it/s]\n"
     ]
    },
    {
     "name": "stdout",
     "output_type": "stream",
     "text": [
      "Train Loss: 0.0077\n",
      "Accuracy: 0.9130\n",
      "Train F1: 0.5020\n",
      "Train Precision: 0.5384\n",
      "Train Recall: 0.4864\n",
      "\n",
      "Epoch 9/50\n"
     ]
    },
    {
     "name": "stderr",
     "output_type": "stream",
     "text": [
      "Training: 100%|██████████| 243/243 [00:04<00:00, 57.56it/s]\n",
      "Evaluating: 100%|██████████| 243/243 [00:00<00:00, 539.40it/s]\n"
     ]
    },
    {
     "name": "stdout",
     "output_type": "stream",
     "text": [
      "Train Loss: 0.0069\n",
      "Accuracy: 0.9185\n",
      "Train F1: 0.5020\n",
      "Train Precision: 0.5614\n",
      "Train Recall: 0.4861\n",
      "\n",
      "Epoch 10/50\n"
     ]
    },
    {
     "name": "stderr",
     "output_type": "stream",
     "text": [
      "Training: 100%|██████████| 243/243 [00:04<00:00, 57.68it/s]\n",
      "Evaluating: 100%|██████████| 243/243 [00:00<00:00, 552.19it/s]\n"
     ]
    },
    {
     "name": "stdout",
     "output_type": "stream",
     "text": [
      "Train Loss: 0.0064\n",
      "Accuracy: 0.9322\n",
      "Train F1: 0.5602\n",
      "Train Precision: 0.6020\n",
      "Train Recall: 0.5472\n",
      "\n",
      "Epoch 11/50\n"
     ]
    },
    {
     "name": "stderr",
     "output_type": "stream",
     "text": [
      "Training: 100%|██████████| 243/243 [00:04<00:00, 57.71it/s]\n",
      "Evaluating: 100%|██████████| 243/243 [00:00<00:00, 548.62it/s]\n"
     ]
    },
    {
     "name": "stdout",
     "output_type": "stream",
     "text": [
      "Train Loss: 0.0061\n",
      "Accuracy: 0.9382\n",
      "Train F1: 0.5911\n",
      "Train Precision: 0.6368\n",
      "Train Recall: 0.5740\n",
      "\n",
      "Epoch 12/50\n"
     ]
    },
    {
     "name": "stderr",
     "output_type": "stream",
     "text": [
      "Training: 100%|██████████| 243/243 [00:04<00:00, 57.57it/s]\n",
      "Evaluating: 100%|██████████| 243/243 [00:00<00:00, 552.29it/s]\n"
     ]
    },
    {
     "name": "stdout",
     "output_type": "stream",
     "text": [
      "Train Loss: 0.0056\n",
      "Accuracy: 0.9380\n",
      "Train F1: 0.5991\n",
      "Train Precision: 0.6245\n",
      "Train Recall: 0.5877\n",
      "\n",
      "Epoch 13/50\n"
     ]
    },
    {
     "name": "stderr",
     "output_type": "stream",
     "text": [
      "Training: 100%|██████████| 243/243 [00:04<00:00, 57.91it/s]\n",
      "Evaluating: 100%|██████████| 243/243 [00:00<00:00, 537.38it/s]\n"
     ]
    },
    {
     "name": "stdout",
     "output_type": "stream",
     "text": [
      "Train Loss: 0.0054\n",
      "Accuracy: 0.9427\n",
      "Train F1: 0.6236\n",
      "Train Precision: 0.6754\n",
      "Train Recall: 0.6016\n",
      "\n",
      "Epoch 14/50\n"
     ]
    },
    {
     "name": "stderr",
     "output_type": "stream",
     "text": [
      "Training: 100%|██████████| 243/243 [00:04<00:00, 57.59it/s]\n",
      "Evaluating: 100%|██████████| 243/243 [00:00<00:00, 540.92it/s]\n"
     ]
    },
    {
     "name": "stdout",
     "output_type": "stream",
     "text": [
      "Train Loss: 0.0052\n",
      "Accuracy: 0.9385\n",
      "Train F1: 0.6341\n",
      "Train Precision: 0.6526\n",
      "Train Recall: 0.6355\n",
      "\n",
      "Epoch 15/50\n"
     ]
    },
    {
     "name": "stderr",
     "output_type": "stream",
     "text": [
      "Training: 100%|██████████| 243/243 [00:04<00:00, 57.36it/s]\n",
      "Evaluating: 100%|██████████| 243/243 [00:00<00:00, 540.80it/s]\n"
     ]
    },
    {
     "name": "stdout",
     "output_type": "stream",
     "text": [
      "Train Loss: 0.0050\n",
      "Accuracy: 0.9466\n",
      "Train F1: 0.6432\n",
      "Train Precision: 0.6818\n",
      "Train Recall: 0.6262\n",
      "\n",
      "Epoch 16/50\n"
     ]
    },
    {
     "name": "stderr",
     "output_type": "stream",
     "text": [
      "Training: 100%|██████████| 243/243 [00:04<00:00, 57.44it/s]\n",
      "Evaluating: 100%|██████████| 243/243 [00:00<00:00, 550.02it/s]\n"
     ]
    },
    {
     "name": "stdout",
     "output_type": "stream",
     "text": [
      "Train Loss: 0.0045\n",
      "Accuracy: 0.9515\n",
      "Train F1: 0.6693\n",
      "Train Precision: 0.6970\n",
      "Train Recall: 0.6581\n",
      "\n",
      "Epoch 17/50\n"
     ]
    },
    {
     "name": "stderr",
     "output_type": "stream",
     "text": [
      "Training: 100%|██████████| 243/243 [00:04<00:00, 57.51it/s]\n",
      "Evaluating: 100%|██████████| 243/243 [00:00<00:00, 547.73it/s]\n"
     ]
    },
    {
     "name": "stdout",
     "output_type": "stream",
     "text": [
      "Train Loss: 0.0047\n",
      "Accuracy: 0.9557\n",
      "Train F1: 0.6915\n",
      "Train Precision: 0.7135\n",
      "Train Recall: 0.6804\n",
      "\n",
      "Epoch 18/50\n"
     ]
    },
    {
     "name": "stderr",
     "output_type": "stream",
     "text": [
      "Training: 100%|██████████| 243/243 [00:04<00:00, 57.58it/s]\n",
      "Evaluating: 100%|██████████| 243/243 [00:00<00:00, 552.82it/s]\n"
     ]
    },
    {
     "name": "stdout",
     "output_type": "stream",
     "text": [
      "Train Loss: 0.0043\n",
      "Accuracy: 0.9551\n",
      "Train F1: 0.7070\n",
      "Train Precision: 0.7553\n",
      "Train Recall: 0.6786\n",
      "\n",
      "Epoch 19/50\n"
     ]
    },
    {
     "name": "stderr",
     "output_type": "stream",
     "text": [
      "Training: 100%|██████████| 243/243 [00:04<00:00, 57.58it/s]\n",
      "Evaluating: 100%|██████████| 243/243 [00:00<00:00, 539.21it/s]\n"
     ]
    },
    {
     "name": "stdout",
     "output_type": "stream",
     "text": [
      "Train Loss: 0.0041\n",
      "Accuracy: 0.9543\n",
      "Train F1: 0.7042\n",
      "Train Precision: 0.7492\n",
      "Train Recall: 0.6855\n",
      "\n",
      "Epoch 20/50\n"
     ]
    },
    {
     "name": "stderr",
     "output_type": "stream",
     "text": [
      "Training: 100%|██████████| 243/243 [00:04<00:00, 57.72it/s]\n",
      "Evaluating: 100%|██████████| 243/243 [00:00<00:00, 547.53it/s]\n"
     ]
    },
    {
     "name": "stdout",
     "output_type": "stream",
     "text": [
      "Train Loss: 0.0039\n",
      "Accuracy: 0.9564\n",
      "Train F1: 0.7103\n",
      "Train Precision: 0.7543\n",
      "Train Recall: 0.6963\n",
      "\n",
      "Epoch 21/50\n"
     ]
    },
    {
     "name": "stderr",
     "output_type": "stream",
     "text": [
      "Training: 100%|██████████| 243/243 [00:04<00:00, 57.58it/s]\n",
      "Evaluating: 100%|██████████| 243/243 [00:00<00:00, 540.92it/s]\n"
     ]
    },
    {
     "name": "stdout",
     "output_type": "stream",
     "text": [
      "Train Loss: 0.0038\n",
      "Accuracy: 0.9640\n",
      "Train F1: 0.7546\n",
      "Train Precision: 0.7731\n",
      "Train Recall: 0.7496\n",
      "\n",
      "Epoch 22/50\n"
     ]
    },
    {
     "name": "stderr",
     "output_type": "stream",
     "text": [
      "Training: 100%|██████████| 243/243 [00:04<00:00, 57.47it/s]\n",
      "Evaluating: 100%|██████████| 243/243 [00:00<00:00, 550.26it/s]\n"
     ]
    },
    {
     "name": "stdout",
     "output_type": "stream",
     "text": [
      "Train Loss: 0.0038\n",
      "Accuracy: 0.9620\n",
      "Train F1: 0.7574\n",
      "Train Precision: 0.7918\n",
      "Train Recall: 0.7521\n",
      "\n",
      "Epoch 23/50\n"
     ]
    },
    {
     "name": "stderr",
     "output_type": "stream",
     "text": [
      "Training: 100%|██████████| 243/243 [00:04<00:00, 57.71it/s]\n",
      "Evaluating: 100%|██████████| 243/243 [00:00<00:00, 555.45it/s]\n"
     ]
    },
    {
     "name": "stdout",
     "output_type": "stream",
     "text": [
      "Train Loss: 0.0037\n",
      "Accuracy: 0.9665\n",
      "Train F1: 0.7516\n",
      "Train Precision: 0.7817\n",
      "Train Recall: 0.7391\n",
      "\n",
      "Epoch 24/50\n"
     ]
    },
    {
     "name": "stderr",
     "output_type": "stream",
     "text": [
      "Training: 100%|██████████| 243/243 [00:04<00:00, 57.68it/s]\n",
      "Evaluating: 100%|██████████| 243/243 [00:00<00:00, 530.02it/s]\n"
     ]
    },
    {
     "name": "stdout",
     "output_type": "stream",
     "text": [
      "Train Loss: 0.0034\n",
      "Accuracy: 0.9640\n",
      "Train F1: 0.7760\n",
      "Train Precision: 0.8123\n",
      "Train Recall: 0.7609\n",
      "\n",
      "Epoch 25/50\n"
     ]
    },
    {
     "name": "stderr",
     "output_type": "stream",
     "text": [
      "Training: 100%|██████████| 243/243 [00:04<00:00, 57.30it/s]\n",
      "Evaluating: 100%|██████████| 243/243 [00:00<00:00, 533.66it/s]\n"
     ]
    },
    {
     "name": "stdout",
     "output_type": "stream",
     "text": [
      "Train Loss: 0.0033\n",
      "Accuracy: 0.9658\n",
      "Train F1: 0.8020\n",
      "Train Precision: 0.8379\n",
      "Train Recall: 0.7833\n",
      "\n",
      "Epoch 26/50\n"
     ]
    },
    {
     "name": "stderr",
     "output_type": "stream",
     "text": [
      "Training: 100%|██████████| 243/243 [00:04<00:00, 52.35it/s]\n",
      "Evaluating: 100%|██████████| 243/243 [00:00<00:00, 284.26it/s]\n"
     ]
    },
    {
     "name": "stdout",
     "output_type": "stream",
     "text": [
      "Train Loss: 0.0035\n",
      "Accuracy: 0.9663\n",
      "Train F1: 0.7937\n",
      "Train Precision: 0.8246\n",
      "Train Recall: 0.7813\n",
      "\n",
      "Epoch 27/50\n"
     ]
    },
    {
     "name": "stderr",
     "output_type": "stream",
     "text": [
      "Training: 100%|██████████| 243/243 [00:05<00:00, 44.05it/s]\n",
      "Evaluating: 100%|██████████| 243/243 [00:00<00:00, 281.85it/s]\n"
     ]
    },
    {
     "name": "stdout",
     "output_type": "stream",
     "text": [
      "Train Loss: 0.0034\n",
      "Accuracy: 0.9692\n",
      "Train F1: 0.8218\n",
      "Train Precision: 0.8477\n",
      "Train Recall: 0.8097\n",
      "\n",
      "Epoch 28/50\n"
     ]
    },
    {
     "name": "stderr",
     "output_type": "stream",
     "text": [
      "Training: 100%|██████████| 243/243 [00:05<00:00, 44.10it/s]\n",
      "Evaluating: 100%|██████████| 243/243 [00:00<00:00, 275.35it/s]\n"
     ]
    },
    {
     "name": "stdout",
     "output_type": "stream",
     "text": [
      "Train Loss: 0.0033\n",
      "Accuracy: 0.9716\n",
      "Train F1: 0.8542\n",
      "Train Precision: 0.8652\n",
      "Train Recall: 0.8531\n",
      "\n",
      "Epoch 29/50\n"
     ]
    },
    {
     "name": "stderr",
     "output_type": "stream",
     "text": [
      "Training: 100%|██████████| 243/243 [00:05<00:00, 44.39it/s]\n",
      "Evaluating: 100%|██████████| 243/243 [00:00<00:00, 283.82it/s]\n"
     ]
    },
    {
     "name": "stdout",
     "output_type": "stream",
     "text": [
      "Train Loss: 0.0031\n",
      "Accuracy: 0.9709\n",
      "Train F1: 0.8824\n",
      "Train Precision: 0.8951\n",
      "Train Recall: 0.8759\n",
      "\n",
      "Epoch 30/50\n"
     ]
    },
    {
     "name": "stderr",
     "output_type": "stream",
     "text": [
      "Training: 100%|██████████| 243/243 [00:05<00:00, 42.18it/s]\n",
      "Evaluating: 100%|██████████| 243/243 [00:00<00:00, 246.46it/s]\n"
     ]
    },
    {
     "name": "stdout",
     "output_type": "stream",
     "text": [
      "Train Loss: 0.0029\n",
      "Accuracy: 0.9699\n",
      "Train F1: 0.8769\n",
      "Train Precision: 0.9111\n",
      "Train Recall: 0.8586\n",
      "\n",
      "Epoch 31/50\n"
     ]
    },
    {
     "name": "stderr",
     "output_type": "stream",
     "text": [
      "Training: 100%|██████████| 243/243 [00:05<00:00, 40.94it/s]\n",
      "Evaluating: 100%|██████████| 243/243 [00:01<00:00, 223.88it/s]\n"
     ]
    },
    {
     "name": "stdout",
     "output_type": "stream",
     "text": [
      "Train Loss: 0.0030\n",
      "Accuracy: 0.9692\n",
      "Train F1: 0.8583\n",
      "Train Precision: 0.8859\n",
      "Train Recall: 0.8465\n",
      "\n",
      "Epoch 32/50\n"
     ]
    },
    {
     "name": "stderr",
     "output_type": "stream",
     "text": [
      "Training: 100%|██████████| 243/243 [00:05<00:00, 42.87it/s]\n",
      "Evaluating: 100%|██████████| 243/243 [00:01<00:00, 205.28it/s]\n"
     ]
    },
    {
     "name": "stdout",
     "output_type": "stream",
     "text": [
      "Train Loss: 0.0029\n",
      "Accuracy: 0.9705\n",
      "Train F1: 0.8881\n",
      "Train Precision: 0.9080\n",
      "Train Recall: 0.8791\n",
      "\n",
      "Epoch 33/50\n"
     ]
    },
    {
     "name": "stderr",
     "output_type": "stream",
     "text": [
      "Training: 100%|██████████| 243/243 [00:05<00:00, 41.35it/s]\n",
      "Evaluating: 100%|██████████| 243/243 [00:01<00:00, 237.89it/s]\n"
     ]
    },
    {
     "name": "stdout",
     "output_type": "stream",
     "text": [
      "Train Loss: 0.0029\n",
      "Accuracy: 0.9732\n",
      "Train F1: 0.8881\n",
      "Train Precision: 0.9130\n",
      "Train Recall: 0.8809\n",
      "\n",
      "Epoch 34/50\n"
     ]
    },
    {
     "name": "stderr",
     "output_type": "stream",
     "text": [
      "Training: 100%|██████████| 243/243 [00:05<00:00, 40.90it/s]\n",
      "Evaluating: 100%|██████████| 243/243 [00:01<00:00, 223.14it/s]\n"
     ]
    },
    {
     "name": "stdout",
     "output_type": "stream",
     "text": [
      "Train Loss: 0.0028\n",
      "Accuracy: 0.9721\n",
      "Train F1: 0.8718\n",
      "Train Precision: 0.9062\n",
      "Train Recall: 0.8587\n",
      "\n",
      "Epoch 35/50\n"
     ]
    },
    {
     "name": "stderr",
     "output_type": "stream",
     "text": [
      "Training: 100%|██████████| 243/243 [00:05<00:00, 41.32it/s]\n",
      "Evaluating: 100%|██████████| 243/243 [00:01<00:00, 223.73it/s]\n"
     ]
    },
    {
     "name": "stdout",
     "output_type": "stream",
     "text": [
      "Train Loss: 0.0026\n",
      "Accuracy: 0.9754\n",
      "Train F1: 0.9051\n",
      "Train Precision: 0.9115\n",
      "Train Recall: 0.9081\n",
      "\n",
      "Epoch 36/50\n"
     ]
    },
    {
     "name": "stderr",
     "output_type": "stream",
     "text": [
      "Training: 100%|██████████| 243/243 [00:05<00:00, 40.98it/s]\n",
      "Evaluating: 100%|██████████| 243/243 [00:01<00:00, 190.16it/s]\n"
     ]
    },
    {
     "name": "stdout",
     "output_type": "stream",
     "text": [
      "Train Loss: 0.0028\n",
      "Accuracy: 0.9763\n",
      "Train F1: 0.9183\n",
      "Train Precision: 0.9294\n",
      "Train Recall: 0.9151\n",
      "\n",
      "Epoch 37/50\n"
     ]
    },
    {
     "name": "stderr",
     "output_type": "stream",
     "text": [
      "Training: 100%|██████████| 243/243 [00:05<00:00, 41.40it/s]\n",
      "Evaluating: 100%|██████████| 243/243 [00:01<00:00, 217.94it/s]\n"
     ]
    },
    {
     "name": "stdout",
     "output_type": "stream",
     "text": [
      "Train Loss: 0.0025\n",
      "Accuracy: 0.9743\n",
      "Train F1: 0.9419\n",
      "Train Precision: 0.9509\n",
      "Train Recall: 0.9399\n",
      "\n",
      "Epoch 38/50\n"
     ]
    },
    {
     "name": "stderr",
     "output_type": "stream",
     "text": [
      "Training: 100%|██████████| 243/243 [00:05<00:00, 42.22it/s]\n",
      "Evaluating: 100%|██████████| 243/243 [00:00<00:00, 251.38it/s]\n"
     ]
    },
    {
     "name": "stdout",
     "output_type": "stream",
     "text": [
      "Train Loss: 0.0025\n",
      "Accuracy: 0.9767\n",
      "Train F1: 0.9296\n",
      "Train Precision: 0.9369\n",
      "Train Recall: 0.9294\n",
      "\n",
      "Epoch 39/50\n"
     ]
    },
    {
     "name": "stderr",
     "output_type": "stream",
     "text": [
      "Training: 100%|██████████| 243/243 [00:05<00:00, 43.15it/s]\n",
      "Evaluating: 100%|██████████| 243/243 [00:01<00:00, 221.48it/s]\n"
     ]
    },
    {
     "name": "stdout",
     "output_type": "stream",
     "text": [
      "Train Loss: 0.0024\n",
      "Accuracy: 0.9746\n",
      "Train F1: 0.9226\n",
      "Train Precision: 0.9325\n",
      "Train Recall: 0.9269\n",
      "\n",
      "Epoch 40/50\n"
     ]
    },
    {
     "name": "stderr",
     "output_type": "stream",
     "text": [
      "Training: 100%|██████████| 243/243 [00:05<00:00, 43.96it/s]\n",
      "Evaluating: 100%|██████████| 243/243 [00:00<00:00, 550.57it/s]\n"
     ]
    },
    {
     "name": "stdout",
     "output_type": "stream",
     "text": [
      "Train Loss: 0.0024\n",
      "Accuracy: 0.9773\n",
      "Train F1: 0.9382\n",
      "Train Precision: 0.9445\n",
      "Train Recall: 0.9407\n",
      "\n",
      "Epoch 41/50\n"
     ]
    },
    {
     "name": "stderr",
     "output_type": "stream",
     "text": [
      "Training: 100%|██████████| 243/243 [00:04<00:00, 57.82it/s]\n",
      "Evaluating: 100%|██████████| 243/243 [00:00<00:00, 566.46it/s]\n"
     ]
    },
    {
     "name": "stdout",
     "output_type": "stream",
     "text": [
      "Train Loss: 0.0024\n",
      "Accuracy: 0.9770\n",
      "Train F1: 0.9304\n",
      "Train Precision: 0.9420\n",
      "Train Recall: 0.9305\n",
      "\n",
      "Epoch 42/50\n"
     ]
    },
    {
     "name": "stderr",
     "output_type": "stream",
     "text": [
      "Training: 100%|██████████| 243/243 [00:04<00:00, 57.53it/s]\n",
      "Evaluating: 100%|██████████| 243/243 [00:00<00:00, 549.80it/s]\n"
     ]
    },
    {
     "name": "stdout",
     "output_type": "stream",
     "text": [
      "Train Loss: 0.0022\n",
      "Accuracy: 0.9786\n",
      "Train F1: 0.9785\n",
      "Train Precision: 0.9773\n",
      "Train Recall: 0.9830\n",
      "\n",
      "Epoch 43/50\n"
     ]
    },
    {
     "name": "stderr",
     "output_type": "stream",
     "text": [
      "Training: 100%|██████████| 243/243 [00:04<00:00, 57.69it/s]\n",
      "Evaluating: 100%|██████████| 243/243 [00:00<00:00, 563.24it/s]\n"
     ]
    },
    {
     "name": "stdout",
     "output_type": "stream",
     "text": [
      "Train Loss: 0.0021\n",
      "Accuracy: 0.9764\n",
      "Train F1: 0.9557\n",
      "Train Precision: 0.9640\n",
      "Train Recall: 0.9559\n",
      "\n",
      "Epoch 44/50\n"
     ]
    },
    {
     "name": "stderr",
     "output_type": "stream",
     "text": [
      "Training: 100%|██████████| 243/243 [00:04<00:00, 58.22it/s]\n",
      "Evaluating: 100%|██████████| 243/243 [00:00<00:00, 559.59it/s]\n"
     ]
    },
    {
     "name": "stdout",
     "output_type": "stream",
     "text": [
      "Train Loss: 0.0021\n",
      "Accuracy: 0.9811\n",
      "Train F1: 0.9684\n",
      "Train Precision: 0.9631\n",
      "Train Recall: 0.9758\n",
      "\n",
      "Epoch 45/50\n"
     ]
    },
    {
     "name": "stderr",
     "output_type": "stream",
     "text": [
      "Training: 100%|██████████| 243/243 [00:04<00:00, 57.80it/s]\n",
      "Evaluating: 100%|██████████| 243/243 [00:00<00:00, 564.37it/s]\n"
     ]
    },
    {
     "name": "stdout",
     "output_type": "stream",
     "text": [
      "Train Loss: 0.0023\n",
      "Accuracy: 0.9771\n",
      "Train F1: 0.9614\n",
      "Train Precision: 0.9653\n",
      "Train Recall: 0.9623\n",
      "\n",
      "Epoch 46/50\n"
     ]
    },
    {
     "name": "stderr",
     "output_type": "stream",
     "text": [
      "Training: 100%|██████████| 243/243 [00:04<00:00, 58.04it/s]\n",
      "Evaluating: 100%|██████████| 243/243 [00:00<00:00, 552.41it/s]\n"
     ]
    },
    {
     "name": "stdout",
     "output_type": "stream",
     "text": [
      "Train Loss: 0.0022\n",
      "Accuracy: 0.9777\n",
      "Train F1: 0.9622\n",
      "Train Precision: 0.9624\n",
      "Train Recall: 0.9653\n",
      "\n",
      "Epoch 47/50\n"
     ]
    },
    {
     "name": "stderr",
     "output_type": "stream",
     "text": [
      "Training: 100%|██████████| 243/243 [00:04<00:00, 58.25it/s]\n",
      "Evaluating: 100%|██████████| 243/243 [00:00<00:00, 567.93it/s]\n"
     ]
    },
    {
     "name": "stdout",
     "output_type": "stream",
     "text": [
      "Train Loss: 0.0021\n",
      "Accuracy: 0.9772\n",
      "Train F1: 0.9779\n",
      "Train Precision: 0.9730\n",
      "Train Recall: 0.9855\n",
      "\n",
      "Epoch 48/50\n"
     ]
    },
    {
     "name": "stderr",
     "output_type": "stream",
     "text": [
      "Training: 100%|██████████| 243/243 [00:04<00:00, 58.03it/s]\n",
      "Evaluating: 100%|██████████| 243/243 [00:00<00:00, 550.27it/s]\n"
     ]
    },
    {
     "name": "stdout",
     "output_type": "stream",
     "text": [
      "Train Loss: 0.0020\n",
      "Accuracy: 0.9788\n",
      "Train F1: 0.9505\n",
      "Train Precision: 0.9509\n",
      "Train Recall: 0.9547\n",
      "\n",
      "Epoch 49/50\n"
     ]
    },
    {
     "name": "stderr",
     "output_type": "stream",
     "text": [
      "Training: 100%|██████████| 243/243 [00:04<00:00, 58.03it/s]\n",
      "Evaluating: 100%|██████████| 243/243 [00:00<00:00, 556.11it/s]\n"
     ]
    },
    {
     "name": "stdout",
     "output_type": "stream",
     "text": [
      "Train Loss: 0.0021\n",
      "Accuracy: 0.9790\n",
      "Train F1: 0.9713\n",
      "Train Precision: 0.9701\n",
      "Train Recall: 0.9786\n",
      "\n",
      "Epoch 50/50\n"
     ]
    },
    {
     "name": "stderr",
     "output_type": "stream",
     "text": [
      "Training: 100%|██████████| 243/243 [00:04<00:00, 57.99it/s]\n",
      "Evaluating: 100%|██████████| 243/243 [00:00<00:00, 558.93it/s]\n"
     ]
    },
    {
     "name": "stdout",
     "output_type": "stream",
     "text": [
      "Train Loss: 0.0021\n",
      "Accuracy: 0.9799\n",
      "Train F1: 0.9566\n",
      "Train Precision: 0.9598\n",
      "Train Recall: 0.9567\n"
     ]
    },
    {
     "name": "stderr",
     "output_type": "stream",
     "text": [
      "Evaluating: 100%|██████████| 95/95 [00:00<00:00, 470.97it/s]\n"
     ]
    },
    {
     "name": "stdout",
     "output_type": "stream",
     "text": [
      "\n",
      "Test Set Results:\n",
      "Test Accuracy: 0.8095\n",
      "Test F1: 0.5236\n",
      "Test Precision: 0.6581\n",
      "Test Recall: 0.4682\n"
     ]
    }
   ],
   "source": [
    "model, metrics = train_model(\n",
    "    vectorised_train_documents, train_labels,\n",
    "    vectorised_test_documents, test_labels,\n",
    "    epochs=50,\n",
    "    batch_size=32\n",
    ")\n",
    "torch.save({\n",
    "    'model_state_dict': model.state_dict(),\n",
    "}, 'lstm_reuters_model.pth')"
   ]
  },
  {
   "cell_type": "markdown",
   "metadata": {},
   "source": [
    "### WanDB"
   ]
  },
  {
   "cell_type": "code",
   "execution_count": 34,
   "metadata": {},
   "outputs": [
    {
     "name": "stderr",
     "output_type": "stream",
     "text": [
      "\u001b[34m\u001b[1mwandb\u001b[0m: Using wandb-core as the SDK backend.  Please refer to https://wandb.me/wandb-core for more information.\n",
      "\u001b[34m\u001b[1mwandb\u001b[0m: W&B API key is configured. Use \u001b[1m`wandb login --relogin`\u001b[0m to force relogin\n",
      "\u001b[34m\u001b[1mwandb\u001b[0m: \u001b[33mWARNING\u001b[0m If you're specifying your api key in code, ensure this code is not shared publicly.\n",
      "\u001b[34m\u001b[1mwandb\u001b[0m: \u001b[33mWARNING\u001b[0m Consider setting the WANDB_API_KEY environment variable, or running `wandb login` from the command line.\n",
      "\u001b[34m\u001b[1mwandb\u001b[0m: Appending key for api.wandb.ai to your netrc file: C:\\Users\\DELL\\_netrc\n"
     ]
    },
    {
     "data": {
      "text/plain": [
       "True"
      ]
     },
     "execution_count": 34,
     "metadata": {},
     "output_type": "execute_result"
    }
   ],
   "source": [
    "import wandb\n",
    "\n",
    "wandb.login(\n",
    "    key = \"0f17446d98968f65557608f721190340ed0958e5\",\n",
    ")"
   ]
  },
  {
   "cell_type": "code",
   "execution_count": 45,
   "metadata": {},
   "outputs": [
    {
     "data": {
      "text/html": [
       "Tracking run with wandb version 0.18.7"
      ],
      "text/plain": [
       "<IPython.core.display.HTML object>"
      ]
     },
     "metadata": {},
     "output_type": "display_data"
    },
    {
     "data": {
      "text/html": [
       "Run data is saved locally in <code>c:\\Users\\DELL\\PycharmProjects\\DL\\Multi_Label_Text\\wandb\\run-20241214_234609-3thmiz3i</code>"
      ],
      "text/plain": [
       "<IPython.core.display.HTML object>"
      ]
     },
     "metadata": {},
     "output_type": "display_data"
    },
    {
     "data": {
      "text/html": [
       "Syncing run <strong><a href='https://wandb.ai/kienkaykths2-hanoi-university-of-science-and-technology/multi-label-text-classification/runs/3thmiz3i' target=\"_blank\">ANN1-Model</a></strong> to <a href='https://wandb.ai/kienkaykths2-hanoi-university-of-science-and-technology/multi-label-text-classification' target=\"_blank\">Weights & Biases</a> (<a href='https://wandb.me/developer-guide' target=\"_blank\">docs</a>)<br/>"
      ],
      "text/plain": [
       "<IPython.core.display.HTML object>"
      ]
     },
     "metadata": {},
     "output_type": "display_data"
    },
    {
     "data": {
      "text/html": [
       " View project at <a href='https://wandb.ai/kienkaykths2-hanoi-university-of-science-and-technology/multi-label-text-classification' target=\"_blank\">https://wandb.ai/kienkaykths2-hanoi-university-of-science-and-technology/multi-label-text-classification</a>"
      ],
      "text/plain": [
       "<IPython.core.display.HTML object>"
      ]
     },
     "metadata": {},
     "output_type": "display_data"
    },
    {
     "data": {
      "text/html": [
       " View run at <a href='https://wandb.ai/kienkaykths2-hanoi-university-of-science-and-technology/multi-label-text-classification/runs/3thmiz3i' target=\"_blank\">https://wandb.ai/kienkaykths2-hanoi-university-of-science-and-technology/multi-label-text-classification/runs/3thmiz3i</a>"
      ],
      "text/plain": [
       "<IPython.core.display.HTML object>"
      ]
     },
     "metadata": {},
     "output_type": "display_data"
    }
   ],
   "source": [
    "\n",
    "wandb.init(project=\"multi-label-text-classification\", name=\"ANN1-Model\")\n",
    "wandb.config = {\n",
    "    \"learning_rate\": 0.001,\n",
    "    \"batch_size\": 32,\n",
    "    \"epochs\": 50,\n",
    "    \"n_features\": vectorised_train_documents.shape[1],\n",
    "    \"n_classes\": 90\n",
    "}"
   ]
  },
  {
   "cell_type": "code",
   "execution_count": 46,
   "metadata": {},
   "outputs": [],
   "source": [
    "def train_model(X_train, y_train, X_test, y_test, epochs=50, batch_size=32):\n",
    "    device = torch.device(\"cuda\" if torch.cuda.is_available() else \"cpu\")\n",
    "    print(f\"Using device: {device}\")\n",
    "\n",
    "    n_features = X_train.shape[1]  \n",
    "    n_classes = y_train.shape[1]   \n",
    "\n",
    "    train_loader, test_loader = prepare_data(\n",
    "        X_train, y_train, X_test, y_test, batch_size\n",
    "    )\n",
    "\n",
    "    model = ANN(n_features, n_classes).to(device)\n",
    "    trainer = MultiLabelTrainer(model, device)\n",
    "    \n",
    "    best_train_loss = float('inf')\n",
    "    best_model = None\n",
    "\n",
    "    for epoch in range(epochs):\n",
    "        print(f\"\\nEpoch {epoch+1}/{epochs}\")\n",
    "        \n",
    "        train_loss = trainer.train_epoch(train_loader)\n",
    "        train_metrics = trainer.evaluate(train_loader)\n",
    "        \n",
    "        print(f\"Train Loss: {train_loss:.4f}\")\n",
    "        print(f\"Accuracy: {train_metrics['accuracy']:.4f}\")\n",
    "        print(f\"Train F1: {train_metrics['f1']:.4f}\")\n",
    "        print(f\"Train Precision: {train_metrics['precision']:.4f}\")\n",
    "        print(f\"Train Recall: {train_metrics['recall']:.4f}\")\n",
    "\n",
    "        wandb.log({\n",
    "            \"Train Loss\": train_loss,\n",
    "            \"Train Accuracy\": train_metrics['accuracy'],\n",
    "            \"Train F1\": train_metrics['f1'],\n",
    "            \"Train Precision\": train_metrics['precision'],\n",
    "            \"Train Recall\": train_metrics['recall']\n",
    "        })\n",
    "        \n",
    "        trainer.scheduler.step(train_loss)\n",
    "        \n",
    "        if train_loss < best_train_loss:\n",
    "            best_train_loss = train_loss\n",
    "            best_model = model.state_dict().copy()\n",
    "            torch.save(best_model, 'model_checkpoint1.pth')\n",
    "    \n",
    "        model.load_state_dict(best_model)\n",
    "        test_metrics = trainer.evaluate(test_loader)\n",
    "\n",
    "        wandb.log({\n",
    "            \"Test Accuracy\": test_metrics['accuracy'],\n",
    "            \"Test F1\": test_metrics['f1'],\n",
    "            \"Test Precision\": test_metrics['precision'],\n",
    "            \"Test Recall\": test_metrics['recall']\n",
    "        })\n",
    "\n",
    "    artifact = wandb.Artifact('best_model', type='model')\n",
    "    artifact.add_file('model_checkpoint1.pth')\n",
    "    wandb.log_artifact(artifact)\n",
    "    \n",
    "    wandb.finish()\n",
    "    \n",
    "    return model, test_metrics"
   ]
  },
  {
   "cell_type": "code",
   "execution_count": 47,
   "metadata": {},
   "outputs": [
    {
     "name": "stdout",
     "output_type": "stream",
     "text": [
      "Using device: cuda\n",
      "\n",
      "Epoch 1/50\n"
     ]
    },
    {
     "name": "stderr",
     "output_type": "stream",
     "text": [
      "Training: 100%|██████████| 243/243 [00:01<00:00, 141.32it/s]\n",
      "Evaluating: 100%|██████████| 243/243 [00:00<00:00, 792.32it/s]\n"
     ]
    },
    {
     "name": "stdout",
     "output_type": "stream",
     "text": [
      "Train Loss: 0.0749\n",
      "Accuracy: 0.7404\n",
      "Train F1: 0.1327\n",
      "Train Precision: 0.1769\n",
      "Train Recall: 0.1212\n"
     ]
    },
    {
     "name": "stderr",
     "output_type": "stream",
     "text": [
      "Evaluating: 100%|██████████| 95/95 [00:00<00:00, 614.20it/s]\n"
     ]
    },
    {
     "name": "stdout",
     "output_type": "stream",
     "text": [
      "\n",
      "Epoch 2/50\n"
     ]
    },
    {
     "name": "stderr",
     "output_type": "stream",
     "text": [
      "Training: 100%|██████████| 243/243 [00:01<00:00, 203.07it/s]\n",
      "Evaluating: 100%|██████████| 243/243 [00:00<00:00, 928.80it/s]\n"
     ]
    },
    {
     "name": "stdout",
     "output_type": "stream",
     "text": [
      "Train Loss: 0.0192\n",
      "Accuracy: 0.8306\n",
      "Train F1: 0.2529\n",
      "Train Precision: 0.2885\n",
      "Train Recall: 0.2395\n"
     ]
    },
    {
     "name": "stderr",
     "output_type": "stream",
     "text": [
      "Evaluating: 100%|██████████| 95/95 [00:00<00:00, 973.57it/s]\n"
     ]
    },
    {
     "name": "stdout",
     "output_type": "stream",
     "text": [
      "\n",
      "Epoch 3/50\n"
     ]
    },
    {
     "name": "stderr",
     "output_type": "stream",
     "text": [
      "Training: 100%|██████████| 243/243 [00:01<00:00, 210.44it/s]\n",
      "Evaluating: 100%|██████████| 243/243 [00:00<00:00, 995.88it/s]\n"
     ]
    },
    {
     "name": "stdout",
     "output_type": "stream",
     "text": [
      "Train Loss: 0.0135\n",
      "Accuracy: 0.8724\n",
      "Train F1: 0.3443\n",
      "Train Precision: 0.3888\n",
      "Train Recall: 0.3323\n"
     ]
    },
    {
     "name": "stderr",
     "output_type": "stream",
     "text": [
      "Evaluating: 100%|██████████| 95/95 [00:00<00:00, 954.23it/s]\n"
     ]
    },
    {
     "name": "stdout",
     "output_type": "stream",
     "text": [
      "\n",
      "Epoch 4/50\n"
     ]
    },
    {
     "name": "stderr",
     "output_type": "stream",
     "text": [
      "Training: 100%|██████████| 243/243 [00:01<00:00, 212.96it/s]\n",
      "Evaluating: 100%|██████████| 243/243 [00:00<00:00, 967.45it/s]\n"
     ]
    },
    {
     "name": "stdout",
     "output_type": "stream",
     "text": [
      "Train Loss: 0.0104\n",
      "Accuracy: 0.8957\n",
      "Train F1: 0.4273\n",
      "Train Precision: 0.5017\n",
      "Train Recall: 0.4066\n"
     ]
    },
    {
     "name": "stderr",
     "output_type": "stream",
     "text": [
      "Evaluating: 100%|██████████| 95/95 [00:00<00:00, 974.45it/s]\n"
     ]
    },
    {
     "name": "stdout",
     "output_type": "stream",
     "text": [
      "\n",
      "Epoch 5/50\n"
     ]
    },
    {
     "name": "stderr",
     "output_type": "stream",
     "text": [
      "Training: 100%|██████████| 243/243 [00:01<00:00, 211.72it/s]\n",
      "Evaluating: 100%|██████████| 243/243 [00:00<00:00, 775.23it/s]\n"
     ]
    },
    {
     "name": "stdout",
     "output_type": "stream",
     "text": [
      "Train Loss: 0.0087\n",
      "Accuracy: 0.9178\n",
      "Train F1: 0.4979\n",
      "Train Precision: 0.5352\n",
      "Train Recall: 0.4804\n"
     ]
    },
    {
     "name": "stderr",
     "output_type": "stream",
     "text": [
      "Evaluating: 100%|██████████| 95/95 [00:00<00:00, 929.35it/s]\n"
     ]
    },
    {
     "name": "stdout",
     "output_type": "stream",
     "text": [
      "\n",
      "Epoch 6/50\n"
     ]
    },
    {
     "name": "stderr",
     "output_type": "stream",
     "text": [
      "Training: 100%|██████████| 243/243 [00:01<00:00, 211.10it/s]\n",
      "Evaluating: 100%|██████████| 243/243 [00:00<00:00, 928.90it/s]\n"
     ]
    },
    {
     "name": "stdout",
     "output_type": "stream",
     "text": [
      "Train Loss: 0.0075\n",
      "Accuracy: 0.9305\n",
      "Train F1: 0.5581\n",
      "Train Precision: 0.6089\n",
      "Train Recall: 0.5413\n"
     ]
    },
    {
     "name": "stderr",
     "output_type": "stream",
     "text": [
      "Evaluating: 100%|██████████| 95/95 [00:00<00:00, 895.31it/s]\n"
     ]
    },
    {
     "name": "stdout",
     "output_type": "stream",
     "text": [
      "\n",
      "Epoch 7/50\n"
     ]
    },
    {
     "name": "stderr",
     "output_type": "stream",
     "text": [
      "Training: 100%|██████████| 243/243 [00:01<00:00, 196.30it/s]\n",
      "Evaluating: 100%|██████████| 243/243 [00:00<00:00, 944.90it/s]\n"
     ]
    },
    {
     "name": "stdout",
     "output_type": "stream",
     "text": [
      "Train Loss: 0.0066\n",
      "Accuracy: 0.9431\n",
      "Train F1: 0.6061\n",
      "Train Precision: 0.6481\n",
      "Train Recall: 0.5845\n"
     ]
    },
    {
     "name": "stderr",
     "output_type": "stream",
     "text": [
      "Evaluating: 100%|██████████| 95/95 [00:00<00:00, 912.67it/s]\n"
     ]
    },
    {
     "name": "stdout",
     "output_type": "stream",
     "text": [
      "\n",
      "Epoch 8/50\n"
     ]
    },
    {
     "name": "stderr",
     "output_type": "stream",
     "text": [
      "Training: 100%|██████████| 243/243 [00:01<00:00, 194.47it/s]\n",
      "Evaluating: 100%|██████████| 243/243 [00:00<00:00, 747.75it/s]\n"
     ]
    },
    {
     "name": "stdout",
     "output_type": "stream",
     "text": [
      "Train Loss: 0.0058\n",
      "Accuracy: 0.9475\n",
      "Train F1: 0.6219\n",
      "Train Precision: 0.6692\n",
      "Train Recall: 0.6067\n"
     ]
    },
    {
     "name": "stderr",
     "output_type": "stream",
     "text": [
      "Evaluating: 100%|██████████| 95/95 [00:00<00:00, 918.39it/s]"
     ]
    },
    {
     "name": "stdout",
     "output_type": "stream",
     "text": [
      "\n",
      "Epoch 9/50"
     ]
    },
    {
     "name": "stderr",
     "output_type": "stream",
     "text": [
      "\n"
     ]
    },
    {
     "name": "stdout",
     "output_type": "stream",
     "text": [
      "\n"
     ]
    },
    {
     "name": "stderr",
     "output_type": "stream",
     "text": [
      "Training: 100%|██████████| 243/243 [00:01<00:00, 198.48it/s]\n",
      "Evaluating: 100%|██████████| 243/243 [00:00<00:00, 856.57it/s]\n"
     ]
    },
    {
     "name": "stdout",
     "output_type": "stream",
     "text": [
      "Train Loss: 0.0054\n",
      "Accuracy: 0.9539\n",
      "Train F1: 0.6723\n",
      "Train Precision: 0.7230\n",
      "Train Recall: 0.6561\n"
     ]
    },
    {
     "name": "stderr",
     "output_type": "stream",
     "text": [
      "Evaluating: 100%|██████████| 95/95 [00:00<00:00, 845.76it/s]\n"
     ]
    },
    {
     "name": "stdout",
     "output_type": "stream",
     "text": [
      "\n",
      "Epoch 10/50\n"
     ]
    },
    {
     "name": "stderr",
     "output_type": "stream",
     "text": [
      "Training: 100%|██████████| 243/243 [00:01<00:00, 161.49it/s]\n",
      "Evaluating: 100%|██████████| 243/243 [00:00<00:00, 399.67it/s]\n"
     ]
    },
    {
     "name": "stdout",
     "output_type": "stream",
     "text": [
      "Train Loss: 0.0048\n",
      "Accuracy: 0.9519\n",
      "Train F1: 0.6847\n",
      "Train Precision: 0.7273\n",
      "Train Recall: 0.6700\n"
     ]
    },
    {
     "name": "stderr",
     "output_type": "stream",
     "text": [
      "Evaluating: 100%|██████████| 95/95 [00:00<00:00, 347.76it/s]\n"
     ]
    },
    {
     "name": "stdout",
     "output_type": "stream",
     "text": [
      "\n",
      "Epoch 11/50\n"
     ]
    },
    {
     "name": "stderr",
     "output_type": "stream",
     "text": [
      "Training: 100%|██████████| 243/243 [00:01<00:00, 128.62it/s]\n",
      "Evaluating: 100%|██████████| 243/243 [00:00<00:00, 422.00it/s]\n"
     ]
    },
    {
     "name": "stdout",
     "output_type": "stream",
     "text": [
      "Train Loss: 0.0045\n",
      "Accuracy: 0.9593\n",
      "Train F1: 0.7287\n",
      "Train Precision: 0.7513\n",
      "Train Recall: 0.7238\n"
     ]
    },
    {
     "name": "stderr",
     "output_type": "stream",
     "text": [
      "Evaluating: 100%|██████████| 95/95 [00:00<00:00, 341.97it/s]\n"
     ]
    },
    {
     "name": "stdout",
     "output_type": "stream",
     "text": [
      "\n",
      "Epoch 12/50\n"
     ]
    },
    {
     "name": "stderr",
     "output_type": "stream",
     "text": [
      "Training: 100%|██████████| 243/243 [00:01<00:00, 126.56it/s]\n",
      "Evaluating: 100%|██████████| 243/243 [00:00<00:00, 383.89it/s]\n"
     ]
    },
    {
     "name": "stdout",
     "output_type": "stream",
     "text": [
      "Train Loss: 0.0043\n",
      "Accuracy: 0.9645\n",
      "Train F1: 0.7633\n",
      "Train Precision: 0.7874\n",
      "Train Recall: 0.7591\n"
     ]
    },
    {
     "name": "stderr",
     "output_type": "stream",
     "text": [
      "Evaluating: 100%|██████████| 95/95 [00:00<00:00, 423.07it/s]\n"
     ]
    },
    {
     "name": "stdout",
     "output_type": "stream",
     "text": [
      "\n",
      "Epoch 13/50\n"
     ]
    },
    {
     "name": "stderr",
     "output_type": "stream",
     "text": [
      "Training: 100%|██████████| 243/243 [00:01<00:00, 129.79it/s]\n",
      "Evaluating: 100%|██████████| 243/243 [00:00<00:00, 313.72it/s]\n"
     ]
    },
    {
     "name": "stdout",
     "output_type": "stream",
     "text": [
      "Train Loss: 0.0039\n",
      "Accuracy: 0.9678\n",
      "Train F1: 0.7945\n",
      "Train Precision: 0.8128\n",
      "Train Recall: 0.7909\n"
     ]
    },
    {
     "name": "stderr",
     "output_type": "stream",
     "text": [
      "Evaluating: 100%|██████████| 95/95 [00:00<00:00, 399.16it/s]\n"
     ]
    },
    {
     "name": "stdout",
     "output_type": "stream",
     "text": [
      "\n",
      "Epoch 14/50\n"
     ]
    },
    {
     "name": "stderr",
     "output_type": "stream",
     "text": [
      "Training: 100%|██████████| 243/243 [00:02<00:00, 114.12it/s]\n",
      "Evaluating: 100%|██████████| 243/243 [00:00<00:00, 394.80it/s]\n"
     ]
    },
    {
     "name": "stdout",
     "output_type": "stream",
     "text": [
      "Train Loss: 0.0039\n",
      "Accuracy: 0.9703\n",
      "Train F1: 0.7947\n",
      "Train Precision: 0.8060\n",
      "Train Recall: 0.7887\n"
     ]
    },
    {
     "name": "stderr",
     "output_type": "stream",
     "text": [
      "Evaluating: 100%|██████████| 95/95 [00:00<00:00, 348.71it/s]\n"
     ]
    },
    {
     "name": "stdout",
     "output_type": "stream",
     "text": [
      "\n",
      "Epoch 15/50\n"
     ]
    },
    {
     "name": "stderr",
     "output_type": "stream",
     "text": [
      "Training: 100%|██████████| 243/243 [00:02<00:00, 118.99it/s]\n",
      "Evaluating: 100%|██████████| 243/243 [00:00<00:00, 313.97it/s]\n"
     ]
    },
    {
     "name": "stdout",
     "output_type": "stream",
     "text": [
      "Train Loss: 0.0036\n",
      "Accuracy: 0.9698\n",
      "Train F1: 0.8140\n",
      "Train Precision: 0.8207\n",
      "Train Recall: 0.8160\n"
     ]
    },
    {
     "name": "stderr",
     "output_type": "stream",
     "text": [
      "Evaluating: 100%|██████████| 95/95 [00:00<00:00, 291.56it/s]\n"
     ]
    },
    {
     "name": "stdout",
     "output_type": "stream",
     "text": [
      "\n",
      "Epoch 16/50\n"
     ]
    },
    {
     "name": "stderr",
     "output_type": "stream",
     "text": [
      "Training: 100%|██████████| 243/243 [00:02<00:00, 118.60it/s]\n",
      "Evaluating: 100%|██████████| 243/243 [00:00<00:00, 325.62it/s]\n"
     ]
    },
    {
     "name": "stdout",
     "output_type": "stream",
     "text": [
      "Train Loss: 0.0036\n",
      "Accuracy: 0.9725\n",
      "Train F1: 0.8222\n",
      "Train Precision: 0.8355\n",
      "Train Recall: 0.8225\n"
     ]
    },
    {
     "name": "stderr",
     "output_type": "stream",
     "text": [
      "Evaluating: 100%|██████████| 95/95 [00:00<00:00, 385.63it/s]\n"
     ]
    },
    {
     "name": "stdout",
     "output_type": "stream",
     "text": [
      "\n",
      "Epoch 17/50\n"
     ]
    },
    {
     "name": "stderr",
     "output_type": "stream",
     "text": [
      "Training: 100%|██████████| 243/243 [00:01<00:00, 122.26it/s]\n",
      "Evaluating: 100%|██████████| 243/243 [00:00<00:00, 319.67it/s]\n"
     ]
    },
    {
     "name": "stdout",
     "output_type": "stream",
     "text": [
      "Train Loss: 0.0034\n",
      "Accuracy: 0.9764\n",
      "Train F1: 0.8472\n",
      "Train Precision: 0.8528\n",
      "Train Recall: 0.8513\n"
     ]
    },
    {
     "name": "stderr",
     "output_type": "stream",
     "text": [
      "Evaluating: 100%|██████████| 95/95 [00:00<00:00, 325.29it/s]\n"
     ]
    },
    {
     "name": "stdout",
     "output_type": "stream",
     "text": [
      "\n",
      "Epoch 18/50\n"
     ]
    },
    {
     "name": "stderr",
     "output_type": "stream",
     "text": [
      "Training: 100%|██████████| 243/243 [00:02<00:00, 121.36it/s]\n",
      "Evaluating: 100%|██████████| 243/243 [00:00<00:00, 358.58it/s]\n"
     ]
    },
    {
     "name": "stdout",
     "output_type": "stream",
     "text": [
      "Train Loss: 0.0032\n",
      "Accuracy: 0.9740\n",
      "Train F1: 0.8691\n",
      "Train Precision: 0.8760\n",
      "Train Recall: 0.8728\n"
     ]
    },
    {
     "name": "stderr",
     "output_type": "stream",
     "text": [
      "Evaluating: 100%|██████████| 95/95 [00:00<00:00, 423.90it/s]\n"
     ]
    },
    {
     "name": "stdout",
     "output_type": "stream",
     "text": [
      "\n",
      "Epoch 19/50\n"
     ]
    },
    {
     "name": "stderr",
     "output_type": "stream",
     "text": [
      "Training: 100%|██████████| 243/243 [00:01<00:00, 141.33it/s]\n",
      "Evaluating: 100%|██████████| 243/243 [00:00<00:00, 898.57it/s]\n"
     ]
    },
    {
     "name": "stdout",
     "output_type": "stream",
     "text": [
      "Train Loss: 0.0030\n",
      "Accuracy: 0.9746\n",
      "Train F1: 0.8813\n",
      "Train Precision: 0.9003\n",
      "Train Recall: 0.8741\n"
     ]
    },
    {
     "name": "stderr",
     "output_type": "stream",
     "text": [
      "Evaluating: 100%|██████████| 95/95 [00:00<00:00, 977.21it/s]\n"
     ]
    },
    {
     "name": "stdout",
     "output_type": "stream",
     "text": [
      "\n",
      "Epoch 20/50\n"
     ]
    },
    {
     "name": "stderr",
     "output_type": "stream",
     "text": [
      "Training: 100%|██████████| 243/243 [00:01<00:00, 214.73it/s]\n",
      "Evaluating: 100%|██████████| 243/243 [00:00<00:00, 987.31it/s]\n"
     ]
    },
    {
     "name": "stdout",
     "output_type": "stream",
     "text": [
      "Train Loss: 0.0031\n",
      "Accuracy: 0.9770\n",
      "Train F1: 0.9020\n",
      "Train Precision: 0.9079\n",
      "Train Recall: 0.9028\n"
     ]
    },
    {
     "name": "stderr",
     "output_type": "stream",
     "text": [
      "Evaluating: 100%|██████████| 95/95 [00:00<00:00, 1024.35it/s]\n"
     ]
    },
    {
     "name": "stdout",
     "output_type": "stream",
     "text": [
      "\n",
      "Epoch 21/50\n"
     ]
    },
    {
     "name": "stderr",
     "output_type": "stream",
     "text": [
      "Training: 100%|██████████| 243/243 [00:01<00:00, 208.76it/s]\n",
      "Evaluating: 100%|██████████| 243/243 [00:00<00:00, 969.33it/s]\n"
     ]
    },
    {
     "name": "stdout",
     "output_type": "stream",
     "text": [
      "Train Loss: 0.0031\n",
      "Accuracy: 0.9748\n",
      "Train F1: 0.9248\n",
      "Train Precision: 0.9293\n",
      "Train Recall: 0.9273\n"
     ]
    },
    {
     "name": "stderr",
     "output_type": "stream",
     "text": [
      "Evaluating: 100%|██████████| 95/95 [00:00<00:00, 1016.33it/s]\n"
     ]
    },
    {
     "name": "stdout",
     "output_type": "stream",
     "text": [
      "\n",
      "Epoch 22/50\n"
     ]
    },
    {
     "name": "stderr",
     "output_type": "stream",
     "text": [
      "Training: 100%|██████████| 243/243 [00:01<00:00, 210.61it/s]\n",
      "Evaluating: 100%|██████████| 243/243 [00:00<00:00, 921.53it/s]\n"
     ]
    },
    {
     "name": "stdout",
     "output_type": "stream",
     "text": [
      "Train Loss: 0.0031\n",
      "Accuracy: 0.9767\n",
      "Train F1: 0.9243\n",
      "Train Precision: 0.9291\n",
      "Train Recall: 0.9258\n"
     ]
    },
    {
     "name": "stderr",
     "output_type": "stream",
     "text": [
      "Evaluating: 100%|██████████| 95/95 [00:00<00:00, 847.67it/s]\n"
     ]
    },
    {
     "name": "stdout",
     "output_type": "stream",
     "text": [
      "\n",
      "Epoch 23/50\n"
     ]
    },
    {
     "name": "stderr",
     "output_type": "stream",
     "text": [
      "Training: 100%|██████████| 243/243 [00:01<00:00, 200.89it/s]\n",
      "Evaluating: 100%|██████████| 243/243 [00:00<00:00, 923.80it/s]\n"
     ]
    },
    {
     "name": "stdout",
     "output_type": "stream",
     "text": [
      "Train Loss: 0.0029\n",
      "Accuracy: 0.9767\n",
      "Train F1: 0.9483\n",
      "Train Precision: 0.9517\n",
      "Train Recall: 0.9500\n"
     ]
    },
    {
     "name": "stderr",
     "output_type": "stream",
     "text": [
      "Evaluating: 100%|██████████| 95/95 [00:00<00:00, 1043.18it/s]\n"
     ]
    },
    {
     "name": "stdout",
     "output_type": "stream",
     "text": [
      "\n",
      "Epoch 24/50\n"
     ]
    },
    {
     "name": "stderr",
     "output_type": "stream",
     "text": [
      "Training: 100%|██████████| 243/243 [00:01<00:00, 206.63it/s]\n",
      "Evaluating: 100%|██████████| 243/243 [00:00<00:00, 941.16it/s]\n"
     ]
    },
    {
     "name": "stdout",
     "output_type": "stream",
     "text": [
      "Train Loss: 0.0027\n",
      "Accuracy: 0.9793\n",
      "Train F1: 0.9442\n",
      "Train Precision: 0.9408\n",
      "Train Recall: 0.9514\n"
     ]
    },
    {
     "name": "stderr",
     "output_type": "stream",
     "text": [
      "Evaluating: 100%|██████████| 95/95 [00:00<00:00, 1071.97it/s]\n"
     ]
    },
    {
     "name": "stdout",
     "output_type": "stream",
     "text": [
      "\n",
      "Epoch 25/50\n"
     ]
    },
    {
     "name": "stderr",
     "output_type": "stream",
     "text": [
      "Training: 100%|██████████| 243/243 [00:01<00:00, 214.56it/s]\n",
      "Evaluating: 100%|██████████| 243/243 [00:00<00:00, 983.65it/s] \n"
     ]
    },
    {
     "name": "stdout",
     "output_type": "stream",
     "text": [
      "Train Loss: 0.0028\n",
      "Accuracy: 0.9795\n",
      "Train F1: 0.9557\n",
      "Train Precision: 0.9490\n",
      "Train Recall: 0.9657\n"
     ]
    },
    {
     "name": "stderr",
     "output_type": "stream",
     "text": [
      "Evaluating: 100%|██████████| 95/95 [00:00<00:00, 1018.03it/s]\n"
     ]
    },
    {
     "name": "stdout",
     "output_type": "stream",
     "text": [
      "\n",
      "Epoch 26/50\n"
     ]
    },
    {
     "name": "stderr",
     "output_type": "stream",
     "text": [
      "Training: 100%|██████████| 243/243 [00:01<00:00, 208.65it/s]\n",
      "Evaluating: 100%|██████████| 243/243 [00:00<00:00, 979.75it/s]\n"
     ]
    },
    {
     "name": "stdout",
     "output_type": "stream",
     "text": [
      "Train Loss: 0.0026\n",
      "Accuracy: 0.9800\n",
      "Train F1: 0.9703\n",
      "Train Precision: 0.9606\n",
      "Train Recall: 0.9825\n"
     ]
    },
    {
     "name": "stderr",
     "output_type": "stream",
     "text": [
      "Evaluating: 100%|██████████| 95/95 [00:00<00:00, 933.26it/s]\n"
     ]
    },
    {
     "name": "stdout",
     "output_type": "stream",
     "text": [
      "\n",
      "Epoch 27/50\n"
     ]
    },
    {
     "name": "stderr",
     "output_type": "stream",
     "text": [
      "Training: 100%|██████████| 243/243 [00:01<00:00, 199.33it/s]\n",
      "Evaluating: 100%|██████████| 243/243 [00:00<00:00, 897.91it/s]\n"
     ]
    },
    {
     "name": "stdout",
     "output_type": "stream",
     "text": [
      "Train Loss: 0.0027\n",
      "Accuracy: 0.9831\n",
      "Train F1: 0.9708\n",
      "Train Precision: 0.9630\n",
      "Train Recall: 0.9810\n"
     ]
    },
    {
     "name": "stderr",
     "output_type": "stream",
     "text": [
      "Evaluating: 100%|██████████| 95/95 [00:00<00:00, 914.93it/s]\n"
     ]
    },
    {
     "name": "stdout",
     "output_type": "stream",
     "text": [
      "\n",
      "Epoch 28/50\n"
     ]
    },
    {
     "name": "stderr",
     "output_type": "stream",
     "text": [
      "Training: 100%|██████████| 243/243 [00:01<00:00, 201.12it/s]\n",
      "Evaluating: 100%|██████████| 243/243 [00:00<00:00, 935.26it/s]\n"
     ]
    },
    {
     "name": "stdout",
     "output_type": "stream",
     "text": [
      "Train Loss: 0.0024\n",
      "Accuracy: 0.9807\n",
      "Train F1: 0.9800\n",
      "Train Precision: 0.9740\n",
      "Train Recall: 0.9891\n"
     ]
    },
    {
     "name": "stderr",
     "output_type": "stream",
     "text": [
      "Evaluating: 100%|██████████| 95/95 [00:00<00:00, 770.67it/s]"
     ]
    },
    {
     "name": "stdout",
     "output_type": "stream",
     "text": [
      "\n",
      "Epoch 29/50"
     ]
    },
    {
     "name": "stderr",
     "output_type": "stream",
     "text": [
      "\n"
     ]
    },
    {
     "name": "stdout",
     "output_type": "stream",
     "text": [
      "\n"
     ]
    },
    {
     "name": "stderr",
     "output_type": "stream",
     "text": [
      "Training: 100%|██████████| 243/243 [00:01<00:00, 205.42it/s]\n",
      "Evaluating: 100%|██████████| 243/243 [00:00<00:00, 947.03it/s]\n"
     ]
    },
    {
     "name": "stdout",
     "output_type": "stream",
     "text": [
      "Train Loss: 0.0025\n",
      "Accuracy: 0.9791\n",
      "Train F1: 0.9823\n",
      "Train Precision: 0.9762\n",
      "Train Recall: 0.9905\n"
     ]
    },
    {
     "name": "stderr",
     "output_type": "stream",
     "text": [
      "Evaluating: 100%|██████████| 95/95 [00:00<00:00, 937.41it/s]\n"
     ]
    },
    {
     "name": "stdout",
     "output_type": "stream",
     "text": [
      "\n",
      "Epoch 30/50\n"
     ]
    },
    {
     "name": "stderr",
     "output_type": "stream",
     "text": [
      "Training: 100%|██████████| 243/243 [00:01<00:00, 203.60it/s]\n",
      "Evaluating: 100%|██████████| 243/243 [00:00<00:00, 791.82it/s]\n"
     ]
    },
    {
     "name": "stdout",
     "output_type": "stream",
     "text": [
      "Train Loss: 0.0025\n",
      "Accuracy: 0.9812\n",
      "Train F1: 0.9822\n",
      "Train Precision: 0.9732\n",
      "Train Recall: 0.9939\n"
     ]
    },
    {
     "name": "stderr",
     "output_type": "stream",
     "text": [
      "Evaluating: 100%|██████████| 95/95 [00:00<00:00, 798.46it/s]\n"
     ]
    },
    {
     "name": "stdout",
     "output_type": "stream",
     "text": [
      "\n",
      "Epoch 31/50\n"
     ]
    },
    {
     "name": "stderr",
     "output_type": "stream",
     "text": [
      "Training: 100%|██████████| 243/243 [00:01<00:00, 203.56it/s]\n",
      "Evaluating: 100%|██████████| 243/243 [00:00<00:00, 963.99it/s]\n"
     ]
    },
    {
     "name": "stdout",
     "output_type": "stream",
     "text": [
      "Train Loss: 0.0025\n",
      "Accuracy: 0.9817\n",
      "Train F1: 0.9801\n",
      "Train Precision: 0.9715\n",
      "Train Recall: 0.9931\n"
     ]
    },
    {
     "name": "stderr",
     "output_type": "stream",
     "text": [
      "Evaluating: 100%|██████████| 95/95 [00:00<00:00, 998.52it/s]\n"
     ]
    },
    {
     "name": "stdout",
     "output_type": "stream",
     "text": [
      "\n",
      "Epoch 32/50\n"
     ]
    },
    {
     "name": "stderr",
     "output_type": "stream",
     "text": [
      "Training: 100%|██████████| 243/243 [00:01<00:00, 213.35it/s]\n",
      "Evaluating: 100%|██████████| 243/243 [00:00<00:00, 993.45it/s]\n"
     ]
    },
    {
     "name": "stdout",
     "output_type": "stream",
     "text": [
      "Train Loss: 0.0022\n",
      "Accuracy: 0.9830\n",
      "Train F1: 0.9871\n",
      "Train Precision: 0.9840\n",
      "Train Recall: 0.9912\n"
     ]
    },
    {
     "name": "stderr",
     "output_type": "stream",
     "text": [
      "Evaluating: 100%|██████████| 95/95 [00:00<00:00, 960.66it/s]\n"
     ]
    },
    {
     "name": "stdout",
     "output_type": "stream",
     "text": [
      "\n",
      "Epoch 33/50\n"
     ]
    },
    {
     "name": "stderr",
     "output_type": "stream",
     "text": [
      "Training: 100%|██████████| 243/243 [00:01<00:00, 172.62it/s]\n",
      "Evaluating: 100%|██████████| 243/243 [00:00<00:00, 309.48it/s]\n"
     ]
    },
    {
     "name": "stdout",
     "output_type": "stream",
     "text": [
      "Train Loss: 0.0023\n",
      "Accuracy: 0.9816\n",
      "Train F1: 0.9836\n",
      "Train Precision: 0.9826\n",
      "Train Recall: 0.9872\n"
     ]
    },
    {
     "name": "stderr",
     "output_type": "stream",
     "text": [
      "Evaluating: 100%|██████████| 95/95 [00:00<00:00, 243.52it/s]\n"
     ]
    },
    {
     "name": "stdout",
     "output_type": "stream",
     "text": [
      "\n",
      "Epoch 34/50\n"
     ]
    },
    {
     "name": "stderr",
     "output_type": "stream",
     "text": [
      "Training: 100%|██████████| 243/243 [00:01<00:00, 129.13it/s]\n",
      "Evaluating: 100%|██████████| 243/243 [00:00<00:00, 353.22it/s]\n"
     ]
    },
    {
     "name": "stdout",
     "output_type": "stream",
     "text": [
      "Train Loss: 0.0023\n",
      "Accuracy: 0.9785\n",
      "Train F1: 0.9857\n",
      "Train Precision: 0.9780\n",
      "Train Recall: 0.9945\n"
     ]
    },
    {
     "name": "stderr",
     "output_type": "stream",
     "text": [
      "Evaluating: 100%|██████████| 95/95 [00:00<00:00, 350.43it/s]\n"
     ]
    },
    {
     "name": "stdout",
     "output_type": "stream",
     "text": [
      "\n",
      "Epoch 35/50\n"
     ]
    },
    {
     "name": "stderr",
     "output_type": "stream",
     "text": [
      "Training: 100%|██████████| 243/243 [00:01<00:00, 133.51it/s]\n",
      "Evaluating: 100%|██████████| 243/243 [00:00<00:00, 363.08it/s]\n"
     ]
    },
    {
     "name": "stdout",
     "output_type": "stream",
     "text": [
      "Train Loss: 0.0022\n",
      "Accuracy: 0.9804\n",
      "Train F1: 0.9785\n",
      "Train Precision: 0.9736\n",
      "Train Recall: 0.9881\n"
     ]
    },
    {
     "name": "stderr",
     "output_type": "stream",
     "text": [
      "Evaluating: 100%|██████████| 95/95 [00:00<00:00, 397.04it/s]\n"
     ]
    },
    {
     "name": "stdout",
     "output_type": "stream",
     "text": [
      "\n",
      "Epoch 36/50\n"
     ]
    },
    {
     "name": "stderr",
     "output_type": "stream",
     "text": [
      "Training: 100%|██████████| 243/243 [00:01<00:00, 123.23it/s]\n",
      "Evaluating: 100%|██████████| 243/243 [00:00<00:00, 395.28it/s]\n"
     ]
    },
    {
     "name": "stdout",
     "output_type": "stream",
     "text": [
      "Train Loss: 0.0023\n",
      "Accuracy: 0.9812\n",
      "Train F1: 0.9826\n",
      "Train Precision: 0.9817\n",
      "Train Recall: 0.9864\n"
     ]
    },
    {
     "name": "stderr",
     "output_type": "stream",
     "text": [
      "Evaluating: 100%|██████████| 95/95 [00:00<00:00, 352.84it/s]\n"
     ]
    },
    {
     "name": "stdout",
     "output_type": "stream",
     "text": [
      "\n",
      "Epoch 37/50\n"
     ]
    },
    {
     "name": "stderr",
     "output_type": "stream",
     "text": [
      "Training: 100%|██████████| 243/243 [00:01<00:00, 122.26it/s]\n",
      "Evaluating: 100%|██████████| 243/243 [00:00<00:00, 362.38it/s]\n"
     ]
    },
    {
     "name": "stdout",
     "output_type": "stream",
     "text": [
      "Train Loss: 0.0021\n",
      "Accuracy: 0.9819\n",
      "Train F1: 0.9835\n",
      "Train Precision: 0.9827\n",
      "Train Recall: 0.9871\n"
     ]
    },
    {
     "name": "stderr",
     "output_type": "stream",
     "text": [
      "Evaluating: 100%|██████████| 95/95 [00:00<00:00, 397.17it/s]\n"
     ]
    },
    {
     "name": "stdout",
     "output_type": "stream",
     "text": [
      "\n",
      "Epoch 38/50\n"
     ]
    },
    {
     "name": "stderr",
     "output_type": "stream",
     "text": [
      "Training: 100%|██████████| 243/243 [00:01<00:00, 122.98it/s]\n",
      "Evaluating: 100%|██████████| 243/243 [00:00<00:00, 404.71it/s]\n"
     ]
    },
    {
     "name": "stdout",
     "output_type": "stream",
     "text": [
      "Train Loss: 0.0019\n",
      "Accuracy: 0.9828\n",
      "Train F1: 0.9835\n",
      "Train Precision: 0.9822\n",
      "Train Recall: 0.9877\n"
     ]
    },
    {
     "name": "stderr",
     "output_type": "stream",
     "text": [
      "Evaluating: 100%|██████████| 95/95 [00:00<00:00, 314.77it/s]\n"
     ]
    },
    {
     "name": "stdout",
     "output_type": "stream",
     "text": [
      "\n",
      "Epoch 39/50\n"
     ]
    },
    {
     "name": "stderr",
     "output_type": "stream",
     "text": [
      "Training: 100%|██████████| 243/243 [00:01<00:00, 124.41it/s]\n",
      "Evaluating: 100%|██████████| 243/243 [00:00<00:00, 381.92it/s]\n"
     ]
    },
    {
     "name": "stdout",
     "output_type": "stream",
     "text": [
      "Train Loss: 0.0019\n",
      "Accuracy: 0.9828\n",
      "Train F1: 0.9843\n",
      "Train Precision: 0.9838\n",
      "Train Recall: 0.9877\n"
     ]
    },
    {
     "name": "stderr",
     "output_type": "stream",
     "text": [
      "Evaluating: 100%|██████████| 95/95 [00:00<00:00, 411.58it/s]\n"
     ]
    },
    {
     "name": "stdout",
     "output_type": "stream",
     "text": [
      "\n",
      "Epoch 40/50\n"
     ]
    },
    {
     "name": "stderr",
     "output_type": "stream",
     "text": [
      "Training: 100%|██████████| 243/243 [00:01<00:00, 131.86it/s]\n",
      "Evaluating: 100%|██████████| 243/243 [00:00<00:00, 397.45it/s]\n"
     ]
    },
    {
     "name": "stdout",
     "output_type": "stream",
     "text": [
      "Train Loss: 0.0018\n",
      "Accuracy: 0.9828\n",
      "Train F1: 0.9844\n",
      "Train Precision: 0.9838\n",
      "Train Recall: 0.9877\n"
     ]
    },
    {
     "name": "stderr",
     "output_type": "stream",
     "text": [
      "Evaluating: 100%|██████████| 95/95 [00:00<00:00, 348.69it/s]\n"
     ]
    },
    {
     "name": "stdout",
     "output_type": "stream",
     "text": [
      "\n",
      "Epoch 41/50\n"
     ]
    },
    {
     "name": "stderr",
     "output_type": "stream",
     "text": [
      "Training: 100%|██████████| 243/243 [00:01<00:00, 134.91it/s]\n",
      "Evaluating: 100%|██████████| 243/243 [00:00<00:00, 931.56it/s]\n"
     ]
    },
    {
     "name": "stdout",
     "output_type": "stream",
     "text": [
      "Train Loss: 0.0017\n",
      "Accuracy: 0.9831\n",
      "Train F1: 0.9848\n",
      "Train Precision: 0.9846\n",
      "Train Recall: 0.9877\n"
     ]
    },
    {
     "name": "stderr",
     "output_type": "stream",
     "text": [
      "Evaluating: 100%|██████████| 95/95 [00:00<00:00, 998.24it/s]"
     ]
    },
    {
     "name": "stdout",
     "output_type": "stream",
     "text": [
      "\n",
      "Epoch 42/50"
     ]
    },
    {
     "name": "stderr",
     "output_type": "stream",
     "text": [
      "\n"
     ]
    },
    {
     "name": "stdout",
     "output_type": "stream",
     "text": [
      "\n"
     ]
    },
    {
     "name": "stderr",
     "output_type": "stream",
     "text": [
      "Training: 100%|██████████| 243/243 [00:01<00:00, 209.48it/s]\n",
      "Evaluating: 100%|██████████| 243/243 [00:00<00:00, 971.73it/s]\n"
     ]
    },
    {
     "name": "stdout",
     "output_type": "stream",
     "text": [
      "Train Loss: 0.0017\n",
      "Accuracy: 0.9838\n",
      "Train F1: 0.9842\n",
      "Train Precision: 0.9826\n",
      "Train Recall: 0.9886\n"
     ]
    },
    {
     "name": "stderr",
     "output_type": "stream",
     "text": [
      "Evaluating: 100%|██████████| 95/95 [00:00<00:00, 1036.47it/s]\n"
     ]
    },
    {
     "name": "stdout",
     "output_type": "stream",
     "text": [
      "\n",
      "Epoch 43/50\n"
     ]
    },
    {
     "name": "stderr",
     "output_type": "stream",
     "text": [
      "Training: 100%|██████████| 243/243 [00:01<00:00, 208.94it/s]\n",
      "Evaluating: 100%|██████████| 243/243 [00:00<00:00, 904.99it/s]\n"
     ]
    },
    {
     "name": "stdout",
     "output_type": "stream",
     "text": [
      "Train Loss: 0.0016\n",
      "Accuracy: 0.9839\n",
      "Train F1: 0.9849\n",
      "Train Precision: 0.9838\n",
      "Train Recall: 0.9886\n"
     ]
    },
    {
     "name": "stderr",
     "output_type": "stream",
     "text": [
      "Evaluating: 100%|██████████| 95/95 [00:00<00:00, 990.24it/s]\n"
     ]
    },
    {
     "name": "stdout",
     "output_type": "stream",
     "text": [
      "\n",
      "Epoch 44/50\n"
     ]
    },
    {
     "name": "stderr",
     "output_type": "stream",
     "text": [
      "Training: 100%|██████████| 243/243 [00:01<00:00, 201.80it/s]\n",
      "Evaluating: 100%|██████████| 243/243 [00:00<00:00, 815.90it/s]\n"
     ]
    },
    {
     "name": "stdout",
     "output_type": "stream",
     "text": [
      "Train Loss: 0.0016\n",
      "Accuracy: 0.9843\n",
      "Train F1: 0.9893\n",
      "Train Precision: 0.9844\n",
      "Train Recall: 0.9951\n"
     ]
    },
    {
     "name": "stderr",
     "output_type": "stream",
     "text": [
      "Evaluating: 100%|██████████| 95/95 [00:00<00:00, 876.98it/s]\n"
     ]
    },
    {
     "name": "stdout",
     "output_type": "stream",
     "text": [
      "\n",
      "Epoch 45/50\n"
     ]
    },
    {
     "name": "stderr",
     "output_type": "stream",
     "text": [
      "Training: 100%|██████████| 243/243 [00:01<00:00, 199.17it/s]\n",
      "Evaluating: 100%|██████████| 243/243 [00:00<00:00, 850.84it/s]\n"
     ]
    },
    {
     "name": "stdout",
     "output_type": "stream",
     "text": [
      "Train Loss: 0.0016\n",
      "Accuracy: 0.9838\n",
      "Train F1: 0.9892\n",
      "Train Precision: 0.9841\n",
      "Train Recall: 0.9951\n"
     ]
    },
    {
     "name": "stderr",
     "output_type": "stream",
     "text": [
      "Evaluating: 100%|██████████| 95/95 [00:00<00:00, 913.28it/s]"
     ]
    },
    {
     "name": "stdout",
     "output_type": "stream",
     "text": [
      "\n",
      "Epoch 46/50\n"
     ]
    },
    {
     "name": "stderr",
     "output_type": "stream",
     "text": [
      "\n",
      "Training: 100%|██████████| 243/243 [00:01<00:00, 209.28it/s]\n",
      "Evaluating: 100%|██████████| 243/243 [00:00<00:00, 971.77it/s]\n"
     ]
    },
    {
     "name": "stdout",
     "output_type": "stream",
     "text": [
      "Train Loss: 0.0015\n",
      "Accuracy: 0.9847\n",
      "Train F1: 0.9892\n",
      "Train Precision: 0.9841\n",
      "Train Recall: 0.9951\n"
     ]
    },
    {
     "name": "stderr",
     "output_type": "stream",
     "text": [
      "Evaluating: 100%|██████████| 95/95 [00:00<00:00, 774.51it/s]"
     ]
    },
    {
     "name": "stdout",
     "output_type": "stream",
     "text": [
      "\n",
      "Epoch 47/50"
     ]
    },
    {
     "name": "stderr",
     "output_type": "stream",
     "text": [
      "\n"
     ]
    },
    {
     "name": "stdout",
     "output_type": "stream",
     "text": [
      "\n"
     ]
    },
    {
     "name": "stderr",
     "output_type": "stream",
     "text": [
      "Training: 100%|██████████| 243/243 [00:01<00:00, 128.03it/s]\n",
      "Evaluating: 100%|██████████| 243/243 [00:00<00:00, 442.93it/s]\n"
     ]
    },
    {
     "name": "stdout",
     "output_type": "stream",
     "text": [
      "Train Loss: 0.0015\n",
      "Accuracy: 0.9846\n",
      "Train F1: 0.9896\n",
      "Train Precision: 0.9847\n",
      "Train Recall: 0.9951\n"
     ]
    },
    {
     "name": "stderr",
     "output_type": "stream",
     "text": [
      "Evaluating: 100%|██████████| 95/95 [00:00<00:00, 420.13it/s]\n"
     ]
    },
    {
     "name": "stdout",
     "output_type": "stream",
     "text": [
      "\n",
      "Epoch 48/50\n"
     ]
    },
    {
     "name": "stderr",
     "output_type": "stream",
     "text": [
      "Training: 100%|██████████| 243/243 [00:01<00:00, 128.58it/s]\n",
      "Evaluating: 100%|██████████| 243/243 [00:00<00:00, 416.44it/s]\n"
     ]
    },
    {
     "name": "stdout",
     "output_type": "stream",
     "text": [
      "Train Loss: 0.0015\n",
      "Accuracy: 0.9846\n",
      "Train F1: 0.9878\n",
      "Train Precision: 0.9821\n",
      "Train Recall: 0.9951\n"
     ]
    },
    {
     "name": "stderr",
     "output_type": "stream",
     "text": [
      "Evaluating: 100%|██████████| 95/95 [00:00<00:00, 355.74it/s]\n"
     ]
    },
    {
     "name": "stdout",
     "output_type": "stream",
     "text": [
      "\n",
      "Epoch 49/50\n"
     ]
    },
    {
     "name": "stderr",
     "output_type": "stream",
     "text": [
      "Training: 100%|██████████| 243/243 [00:02<00:00, 120.51it/s]\n",
      "Evaluating: 100%|██████████| 243/243 [00:00<00:00, 327.05it/s]\n"
     ]
    },
    {
     "name": "stdout",
     "output_type": "stream",
     "text": [
      "Train Loss: 0.0015\n",
      "Accuracy: 0.9851\n",
      "Train F1: 0.9897\n",
      "Train Precision: 0.9849\n",
      "Train Recall: 0.9951\n"
     ]
    },
    {
     "name": "stderr",
     "output_type": "stream",
     "text": [
      "Evaluating: 100%|██████████| 95/95 [00:00<00:00, 420.71it/s]\n"
     ]
    },
    {
     "name": "stdout",
     "output_type": "stream",
     "text": [
      "\n",
      "Epoch 50/50\n"
     ]
    },
    {
     "name": "stderr",
     "output_type": "stream",
     "text": [
      "Training: 100%|██████████| 243/243 [00:02<00:00, 118.44it/s]\n",
      "Evaluating: 100%|██████████| 243/243 [00:00<00:00, 334.93it/s]\n"
     ]
    },
    {
     "name": "stdout",
     "output_type": "stream",
     "text": [
      "Train Loss: 0.0015\n",
      "Accuracy: 0.9843\n",
      "Train F1: 0.9870\n",
      "Train Precision: 0.9805\n",
      "Train Recall: 0.9951\n"
     ]
    },
    {
     "name": "stderr",
     "output_type": "stream",
     "text": [
      "Evaluating: 100%|██████████| 95/95 [00:00<00:00, 297.62it/s]\n"
     ]
    },
    {
     "data": {
      "text/html": [
       "\n",
       "    <style>\n",
       "        .wandb-row {\n",
       "            display: flex;\n",
       "            flex-direction: row;\n",
       "            flex-wrap: wrap;\n",
       "            justify-content: flex-start;\n",
       "            width: 100%;\n",
       "        }\n",
       "        .wandb-col {\n",
       "            display: flex;\n",
       "            flex-direction: column;\n",
       "            flex-basis: 100%;\n",
       "            flex: 1;\n",
       "            padding: 10px;\n",
       "        }\n",
       "    </style>\n",
       "<div class=\"wandb-row\"><div class=\"wandb-col\"><h3>Run history:</h3><br/><table class=\"wandb\"><tr><td>Test Accuracy</td><td>▁▃▅▅▆▇▇▇▇▇▇▇▇██████████▇█▇▇▇▇███████████</td></tr><tr><td>Test F1</td><td>▁▂▄▅▅▆▆▆▇▇▇▇▇▇▇▇▇█▇████████▇████████████</td></tr><tr><td>Test Precision</td><td>▁▂▃▄▅▆▆▆▆▇▇▇▇▇▇▇▇███████▇█▇█████████████</td></tr><tr><td>Test Recall</td><td>▁▂▃▄▅▆▆▆▆▆▆▇▇▇▇▇▇▇▇██▇▇▇█▇▇█████████████</td></tr><tr><td>Train Accuracy</td><td>▁▄▅▅▆▇▇▇▇▇██████████████████████████████</td></tr><tr><td>Train F1</td><td>▁▂▃▃▄▅▅▅▆▆▆▆▇▇▇▇▇▇▇█████████████████████</td></tr><tr><td>Train Loss</td><td>█▃▂▂▂▁▁▁▁▁▁▁▁▁▁▁▁▁▁▁▁▁▁▁▁▁▁▁▁▁▁▁▁▁▁▁▁▁▁▁</td></tr><tr><td>Train Precision</td><td>▁▂▃▄▄▅▅▆▆▆▇▆▇▇▇▇▇███████████████████████</td></tr><tr><td>Train Recall</td><td>▁▂▃▃▄▅▅▅▅▆▆▆▇▇▇▇▇▇██████████████████████</td></tr></table><br/></div><div class=\"wandb-col\"><h3>Run summary:</h3><br/><table class=\"wandb\"><tr><td>Test Accuracy</td><td>0.81981</td></tr><tr><td>Test F1</td><td>0.54996</td></tr><tr><td>Test Precision</td><td>0.66607</td></tr><tr><td>Test Recall</td><td>0.50619</td></tr><tr><td>Train Accuracy</td><td>0.9843</td></tr><tr><td>Train F1</td><td>0.98705</td></tr><tr><td>Train Loss</td><td>0.00148</td></tr><tr><td>Train Precision</td><td>0.98054</td></tr><tr><td>Train Recall</td><td>0.99509</td></tr></table><br/></div></div>"
      ],
      "text/plain": [
       "<IPython.core.display.HTML object>"
      ]
     },
     "metadata": {},
     "output_type": "display_data"
    },
    {
     "data": {
      "text/html": [
       " View run <strong style=\"color:#cdcd00\">ANN1-Model</strong> at: <a href='https://wandb.ai/kienkaykths2-hanoi-university-of-science-and-technology/multi-label-text-classification/runs/3thmiz3i' target=\"_blank\">https://wandb.ai/kienkaykths2-hanoi-university-of-science-and-technology/multi-label-text-classification/runs/3thmiz3i</a><br/> View project at: <a href='https://wandb.ai/kienkaykths2-hanoi-university-of-science-and-technology/multi-label-text-classification' target=\"_blank\">https://wandb.ai/kienkaykths2-hanoi-university-of-science-and-technology/multi-label-text-classification</a><br/>Synced 5 W&B file(s), 0 media file(s), 2 artifact file(s) and 0 other file(s)"
      ],
      "text/plain": [
       "<IPython.core.display.HTML object>"
      ]
     },
     "metadata": {},
     "output_type": "display_data"
    },
    {
     "data": {
      "text/html": [
       "Find logs at: <code>.\\wandb\\run-20241214_234609-3thmiz3i\\logs</code>"
      ],
      "text/plain": [
       "<IPython.core.display.HTML object>"
      ]
     },
     "metadata": {},
     "output_type": "display_data"
    },
    {
     "data": {
      "text/plain": [
       "(ANN(\n",
       "   (net): Sequential(\n",
       "     (0): Linear(in_features=16909, out_features=512, bias=True)\n",
       "     (1): BatchNorm1d(512, eps=1e-05, momentum=0.1, affine=True, track_running_stats=True)\n",
       "     (2): ReLU(inplace=True)\n",
       "     (3): Dropout(p=0.5, inplace=False)\n",
       "     (4): Linear(in_features=512, out_features=256, bias=True)\n",
       "     (5): BatchNorm1d(256, eps=1e-05, momentum=0.1, affine=True, track_running_stats=True)\n",
       "     (6): ReLU(inplace=True)\n",
       "     (7): Dropout(p=0.5, inplace=False)\n",
       "     (8): Linear(in_features=256, out_features=90, bias=True)\n",
       "     (9): Sigmoid()\n",
       "   )\n",
       " ),\n",
       " {'loss': 0.01526783846952879,\n",
       "  'accuracy': 0.819807883405101,\n",
       "  'f1': 0.5499635672204606,\n",
       "  'precision': 0.6660652228462178,\n",
       "  'recall': 0.5061886963713994})"
      ]
     },
     "execution_count": 47,
     "metadata": {},
     "output_type": "execute_result"
    }
   ],
   "source": [
    "train_model(\n",
    "    vectorised_train_documents, train_labels,\n",
    "    vectorised_test_documents, test_labels,\n",
    "    epochs=50,\n",
    "    batch_size=32\n",
    ")"
   ]
  }
 ],
 "metadata": {
  "kaggle": {
   "accelerator": "nvidiaTeslaT4",
   "dataSources": [
    {
     "datasetId": 2110,
     "sourceId": 7186,
     "sourceType": "datasetVersion"
    }
   ],
   "dockerImageVersionId": 29852,
   "isGpuEnabled": true,
   "isInternetEnabled": true,
   "language": "python",
   "sourceType": "notebook"
  },
  "kernelspec": {
   "display_name": ".venv",
   "language": "python",
   "name": "python3"
  },
  "language_info": {
   "codemirror_mode": {
    "name": "ipython",
    "version": 3
   },
   "file_extension": ".py",
   "mimetype": "text/x-python",
   "name": "python",
   "nbconvert_exporter": "python",
   "pygments_lexer": "ipython3",
   "version": "3.12.7"
  }
 },
 "nbformat": 4,
 "nbformat_minor": 4
}
