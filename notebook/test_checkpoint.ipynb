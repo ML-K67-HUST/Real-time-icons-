{
 "cells": [
  {
   "cell_type": "code",
   "execution_count": 1,
   "metadata": {},
   "outputs": [
    {
     "name": "stderr",
     "output_type": "stream",
     "text": [
      "/tmp/ipykernel_875364/1506737125.py:59: FutureWarning: You are using `torch.load` with `weights_only=False` (the current default value), which uses the default pickle module implicitly. It is possible to construct malicious pickle data which will execute arbitrary code during unpickling (See https://github.com/pytorch/pytorch/blob/main/SECURITY.md#untrusted-models for more details). In a future release, the default value for `weights_only` will be flipped to `True`. This limits the functions that could be executed during unpickling. Arbitrary objects will no longer be allowed to be loaded via this mode unless they are explicitly allowlisted by the user via `torch.serialization.add_safe_globals`. We recommend you start setting `weights_only=True` for any use case where you don't have full control of the loaded file. Please open an issue on GitHub for any issues related to this experimental feature.\n",
      "  checkpoint = torch.load(filename)\n"
     ]
    },
    {
     "ename": "RuntimeError",
     "evalue": "Error(s) in loading state_dict for MAGNET:\n\tsize mismatch for adjacency: copying a param with shape torch.Size([90, 90]) from checkpoint, the shape in current model is torch.Size([10, 10]).\n\tsize mismatch for embedding.weight: copying a param with shape torch.Size([24630, 300]) from checkpoint, the shape in current model is torch.Size([10000, 128]).",
     "output_type": "error",
     "traceback": [
      "\u001b[0;31m---------------------------------------------------------------------------\u001b[0m",
      "\u001b[0;31mRuntimeError\u001b[0m                              Traceback (most recent call last)",
      "Cell \u001b[0;32mIn[1], line 65\u001b[0m\n\u001b[1;32m     62\u001b[0m     \u001b[38;5;28;01mreturn\u001b[39;00m model\n\u001b[1;32m     63\u001b[0m model \u001b[38;5;241m=\u001b[39m MAGNET(input_size\u001b[38;5;241m=\u001b[39m\u001b[38;5;241m300\u001b[39m, hidden_size\u001b[38;5;241m=\u001b[39m\u001b[38;5;241m250\u001b[39m, adjacency\u001b[38;5;241m=\u001b[39mtorch\u001b[38;5;241m.\u001b[39mrandn(\u001b[38;5;241m10\u001b[39m, \u001b[38;5;241m10\u001b[39m), embeddings\u001b[38;5;241m=\u001b[39mtorch\u001b[38;5;241m.\u001b[39mrandn(\u001b[38;5;241m10000\u001b[39m, \u001b[38;5;241m128\u001b[39m))\n\u001b[0;32m---> 65\u001b[0m model \u001b[38;5;241m=\u001b[39m \u001b[43mload_checkpoint\u001b[49m\u001b[43m(\u001b[49m\u001b[43mmodel\u001b[49m\u001b[43m)\u001b[49m\n",
      "Cell \u001b[0;32mIn[1], line 60\u001b[0m, in \u001b[0;36mload_checkpoint\u001b[0;34m(model, filename)\u001b[0m\n\u001b[1;32m     57\u001b[0m     \u001b[38;5;28;01mreturn\u001b[39;00m model\n\u001b[1;32m     59\u001b[0m checkpoint \u001b[38;5;241m=\u001b[39m torch\u001b[38;5;241m.\u001b[39mload(filename)\n\u001b[0;32m---> 60\u001b[0m \u001b[43mmodel\u001b[49m\u001b[38;5;241;43m.\u001b[39;49m\u001b[43mload_state_dict\u001b[49m\u001b[43m(\u001b[49m\u001b[43mcheckpoint\u001b[49m\u001b[43m[\u001b[49m\u001b[38;5;124;43m'\u001b[39;49m\u001b[38;5;124;43mmodel_state_dict\u001b[39;49m\u001b[38;5;124;43m'\u001b[39;49m\u001b[43m]\u001b[49m\u001b[43m)\u001b[49m\n\u001b[1;32m     61\u001b[0m \u001b[38;5;28mprint\u001b[39m(\u001b[38;5;124mf\u001b[39m\u001b[38;5;124m\"\u001b[39m\u001b[38;5;124mLoaded best model from epoch \u001b[39m\u001b[38;5;132;01m{\u001b[39;00mcheckpoint[\u001b[38;5;124m'\u001b[39m\u001b[38;5;124mepoch\u001b[39m\u001b[38;5;124m'\u001b[39m]\u001b[38;5;132;01m}\u001b[39;00m\u001b[38;5;124m with loss \u001b[39m\u001b[38;5;132;01m{\u001b[39;00mcheckpoint[\u001b[38;5;124m'\u001b[39m\u001b[38;5;124mloss\u001b[39m\u001b[38;5;124m'\u001b[39m]\u001b[38;5;132;01m:\u001b[39;00m\u001b[38;5;124m.5f\u001b[39m\u001b[38;5;132;01m}\u001b[39;00m\u001b[38;5;124m\"\u001b[39m)\n\u001b[1;32m     62\u001b[0m \u001b[38;5;28;01mreturn\u001b[39;00m model\n",
      "File \u001b[0;32m~/anaconda3/envs/dl_course/lib/python3.10/site-packages/torch/nn/modules/module.py:2584\u001b[0m, in \u001b[0;36mModule.load_state_dict\u001b[0;34m(self, state_dict, strict, assign)\u001b[0m\n\u001b[1;32m   2576\u001b[0m         error_msgs\u001b[38;5;241m.\u001b[39minsert(\n\u001b[1;32m   2577\u001b[0m             \u001b[38;5;241m0\u001b[39m,\n\u001b[1;32m   2578\u001b[0m             \u001b[38;5;124m\"\u001b[39m\u001b[38;5;124mMissing key(s) in state_dict: \u001b[39m\u001b[38;5;132;01m{}\u001b[39;00m\u001b[38;5;124m. \u001b[39m\u001b[38;5;124m\"\u001b[39m\u001b[38;5;241m.\u001b[39mformat(\n\u001b[1;32m   2579\u001b[0m                 \u001b[38;5;124m\"\u001b[39m\u001b[38;5;124m, \u001b[39m\u001b[38;5;124m\"\u001b[39m\u001b[38;5;241m.\u001b[39mjoin(\u001b[38;5;124mf\u001b[39m\u001b[38;5;124m'\u001b[39m\u001b[38;5;124m\"\u001b[39m\u001b[38;5;132;01m{\u001b[39;00mk\u001b[38;5;132;01m}\u001b[39;00m\u001b[38;5;124m\"\u001b[39m\u001b[38;5;124m'\u001b[39m \u001b[38;5;28;01mfor\u001b[39;00m k \u001b[38;5;129;01min\u001b[39;00m missing_keys)\n\u001b[1;32m   2580\u001b[0m             ),\n\u001b[1;32m   2581\u001b[0m         )\n\u001b[1;32m   2583\u001b[0m \u001b[38;5;28;01mif\u001b[39;00m \u001b[38;5;28mlen\u001b[39m(error_msgs) \u001b[38;5;241m>\u001b[39m \u001b[38;5;241m0\u001b[39m:\n\u001b[0;32m-> 2584\u001b[0m     \u001b[38;5;28;01mraise\u001b[39;00m \u001b[38;5;167;01mRuntimeError\u001b[39;00m(\n\u001b[1;32m   2585\u001b[0m         \u001b[38;5;124m\"\u001b[39m\u001b[38;5;124mError(s) in loading state_dict for \u001b[39m\u001b[38;5;132;01m{}\u001b[39;00m\u001b[38;5;124m:\u001b[39m\u001b[38;5;130;01m\\n\u001b[39;00m\u001b[38;5;130;01m\\t\u001b[39;00m\u001b[38;5;132;01m{}\u001b[39;00m\u001b[38;5;124m\"\u001b[39m\u001b[38;5;241m.\u001b[39mformat(\n\u001b[1;32m   2586\u001b[0m             \u001b[38;5;28mself\u001b[39m\u001b[38;5;241m.\u001b[39m\u001b[38;5;18m__class__\u001b[39m\u001b[38;5;241m.\u001b[39m\u001b[38;5;18m__name__\u001b[39m, \u001b[38;5;124m\"\u001b[39m\u001b[38;5;130;01m\\n\u001b[39;00m\u001b[38;5;130;01m\\t\u001b[39;00m\u001b[38;5;124m\"\u001b[39m\u001b[38;5;241m.\u001b[39mjoin(error_msgs)\n\u001b[1;32m   2587\u001b[0m         )\n\u001b[1;32m   2588\u001b[0m     )\n\u001b[1;32m   2589\u001b[0m \u001b[38;5;28;01mreturn\u001b[39;00m _IncompatibleKeys(missing_keys, unexpected_keys)\n",
      "\u001b[0;31mRuntimeError\u001b[0m: Error(s) in loading state_dict for MAGNET:\n\tsize mismatch for adjacency: copying a param with shape torch.Size([90, 90]) from checkpoint, the shape in current model is torch.Size([10, 10]).\n\tsize mismatch for embedding.weight: copying a param with shape torch.Size([24630, 300]) from checkpoint, the shape in current model is torch.Size([10000, 128])."
     ]
    }
   ],
   "source": [
    "import torch\n",
    "from torch import optim\n",
    "from torch import nn\n",
    "\n",
    "class MAGNET(nn.Module):\n",
    "  def __init__(self, input_size, hidden_size, adjacency, embeddings, heads=4, slope=0.01, dropout=0.5):\n",
    "    super(MAGNET, self).__init__()\n",
    "    self.embedding = nn.Embedding.from_pretrained(embeddings)\n",
    "    self.biLSTM = nn.LSTM(input_size,hidden_size,batch_first=True,bidirectional=True)\n",
    "    self.adjacency = nn.Parameter(adjacency)\n",
    "    self.dropout = nn.Dropout(dropout)\n",
    "    self.edge_weights = nn.Linear(hidden_size*2*2, 1, bias=False)\n",
    "    self.activation = nn.LeakyReLU(slope)\n",
    "    self.softmax = nn.Softmax(dim=1)\n",
    "    self.tanh = nn.Tanh()\n",
    "    self.heads = heads\n",
    "    self.transform_dim1 = nn.Linear(input_size, hidden_size*2, bias=False)\n",
    "    self.transform_dim2 = nn.Linear(hidden_size*2, hidden_size*2, bias=False)\n",
    "    self.transform_dimensions = [self.transform_dim1, self.transform_dim2]\n",
    "\n",
    "  def forward(self, token, label_embedding):\n",
    "      #BILSTM part\n",
    "      features = self.embedding(token)\n",
    "      out, (h, _) = self.biLSTM(features)\n",
    "      embedding = torch.cat([h[-2, :, :], h[-1, :, :]], dim=1)\n",
    "      embedding = self.dropout(embedding)\n",
    "\n",
    "      #GAT PART\n",
    "      for td in self.transform_dimensions: #Two Multiheaded GAT layers\n",
    "        outputs = []\n",
    "        for head in range(self.heads):\n",
    "          label_embed = td(label_embedding)\n",
    "          n, embed_size = label_embed.shape\n",
    "\n",
    "          label_embed_combinations = label_embed.unsqueeze(1).expand(-1, n, -1)\n",
    "          label_embed_combinations = torch.cat([label_embed_combinations, label_embed.unsqueeze(0).expand(n, -1, -1)], dim=2)\n",
    "          e = self.activation(self.edge_weights(label_embed_combinations).squeeze(2))\n",
    "\n",
    "          attention_coefficients = self.tanh(torch.mul(e,self.adjacency))\n",
    "\n",
    "          new_h = torch.matmul(attention_coefficients.to(label_embed.dtype), label_embed)\n",
    "          outputs.append(new_h)\n",
    "        outputs = self.activation(torch.mean(torch.stack(outputs, dim=0),dim=0))\n",
    "\n",
    "        label_embedding = outputs\n",
    "      attention_features = self.dropout(label_embedding)\n",
    "      attention_features = attention_features.transpose(0, 1)\n",
    "      predicted_labels = torch.matmul(embedding, attention_features)\n",
    "      return predicted_labels\n",
    "import os\n",
    "def load_checkpoint(model, filename='/home/kh4ngptt/Documents/COURSE/DL/project/Real-time-icons-/checkpoint/MAGNET_best_model.pt'):\n",
    "    \"\"\"\n",
    "    Load the best model checkpoint\n",
    "    \"\"\"\n",
    "    if not os.path.exists(filename):\n",
    "        print(\"No checkpoint found\")\n",
    "        return model\n",
    "\n",
    "    checkpoint = torch.load(filename)\n",
    "    model.load_state_dict(checkpoint['model_state_dict'])\n",
    "    print(f\"Loaded best model from epoch {checkpoint['epoch']} with loss {checkpoint['loss']:.5f}\")\n",
    "    return model\n",
    "model = MAGNET(input_size=300, hidden_size=250, adjacency=torch.randn(10, 10), embeddings=torch.randn(10000, 128))\n",
    "\n",
    "model = load_checkpoint(model)"
   ]
  }
 ],
 "metadata": {
  "kernelspec": {
   "display_name": "dl_course",
   "language": "python",
   "name": "python3"
  },
  "language_info": {
   "codemirror_mode": {
    "name": "ipython",
    "version": 3
   },
   "file_extension": ".py",
   "mimetype": "text/x-python",
   "name": "python",
   "nbconvert_exporter": "python",
   "pygments_lexer": "ipython3",
   "version": "3.10.15"
  }
 },
 "nbformat": 4,
 "nbformat_minor": 2
}
